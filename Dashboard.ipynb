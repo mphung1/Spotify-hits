{
 "cells": [
  {
   "cell_type": "code",
   "execution_count": null,
   "id": "570e8998-7ecf-4df0-b529-5e2719e5962e",
   "metadata": {
    "canvas": {
     "comments": [],
     "componentType": "CodeCell",
     "copiedOriginId": null,
     "diskcache": false,
     "headerColor": "inherit",
     "id": "dee6bc98-1ba0-4220-9307-e22809173578",
     "isComponent": false,
     "name": "",
     "parents": []
    },
    "tags": []
   },
   "outputs": [],
   "source": [
    "import numpy as np # linear algebra\n",
    "import pandas as pd # data processing, I/O\n",
    "from matplotlib import rcParams\n",
    "import matplotlib.pyplot as plt\n",
    "import seaborn as sns\n",
    "import plotly.express as px\n",
    "from wordcloud import WordCloud, STOPWORDS\n",
    "# import nltk\n",
    "import os\n",
    "from PIL import Image\n",
    "import math\n",
    "import requests\n",
    "import redis\n",
    "import sys\n",
    "import panel as pn\n",
    "from panel.interact import interact\n",
    "pn.extension('tabulator', sizing_mode=\"stretch_width\")\n",
    "import hvplot.pandas\n",
    "import holoviews as hv\n",
    "hv.extension('bokeh')"
   ]
  },
  {
   "cell_type": "code",
   "execution_count": null,
   "id": "c403443a-6fba-4d31-b080-b86c851974f2",
   "metadata": {
    "canvas": {
     "comments": [],
     "componentType": "CodeCell",
     "copiedOriginId": null,
     "diskcache": false,
     "headerColor": "inherit",
     "id": "c12f4182-e8ce-4293-b236-3e7baf62c483",
     "isComponent": false,
     "name": "",
     "parents": []
    }
   },
   "outputs": [],
   "source": [
    "from bokeh.resources import INLINE\n",
    "import bokeh.io\n",
    "\n",
    "bokeh.io.output_notebook(INLINE)"
   ]
  },
  {
   "cell_type": "code",
   "execution_count": null,
   "id": "bf4585cd-2baa-44b7-b1a9-45e2a6de9738",
   "metadata": {
    "canvas": {
     "comments": [],
     "componentType": "CodeCell",
     "copiedOriginId": null,
     "diskcache": false,
     "headerColor": "inherit",
     "id": "74851db6-666a-4e26-9258-6152a37ea91c",
     "isComponent": false,
     "name": "",
     "parents": []
    },
    "tags": []
   },
   "outputs": [],
   "source": [
    "path = './data'\n",
    "df = pd.read_csv(path+'/songs_df_final.csv')"
   ]
  },
  {
   "cell_type": "markdown",
   "id": "ccc5ac78-c283-45ae-8f58-41af3e9ecfea",
   "metadata": {
    "canvas": {
     "comments": [],
     "componentType": "CodeCell",
     "copiedOriginId": null,
     "diskcache": false,
     "headerColor": "inherit",
     "id": "f78c547f-82a6-49ea-bf3b-fadcff40b4e0",
     "isComponent": false,
     "name": "",
     "parents": []
    }
   },
   "source": [
    "## Changes of music features over time"
   ]
  },
  {
   "cell_type": "code",
   "execution_count": null,
   "id": "91e49071-ddd7-4a22-82a2-739f070f262d",
   "metadata": {
    "canvas": {
     "comments": [],
     "componentType": "CodeCell",
     "copiedOriginId": null,
     "diskcache": false,
     "headerColor": "inherit",
     "id": "0cdef95c-ec0a-4d12-b4b8-e21d7a5dadcf",
     "isComponent": false,
     "name": "",
     "parents": []
    }
   },
   "outputs": [],
   "source": [
    "idf = df.interactive()\n",
    "year_slider = pn.widgets.IntSlider(name='Year', start=1970,end=2020,step=5,value=2000)"
   ]
  },
  {
   "cell_type": "code",
   "execution_count": null,
   "id": "60a41dd2-037f-4cc4-9b38-cf57969a63bf",
   "metadata": {
    "canvas": {
     "comments": [],
     "componentType": "CodeCell",
     "copiedOriginId": null,
     "diskcache": false,
     "headerColor": "inherit",
     "id": "0a84ae30-9615-45ed-b487-ce6cf92e9e2d",
     "isComponent": false,
     "name": "",
     "parents": []
    }
   },
   "outputs": [],
   "source": [
    "genre_options = pn.widgets.RadioButtonGroup(\n",
    "    name='genre options',\n",
    "    options=['danceability','energy','loudness','speechiness','acousticness','instrumentalness', 'liveness', 'tempo', 'duration_s','valence', 'Happy','Sad','Fear','Surprise','Angry'],\n",
    "    button_type='success'\n",
    ")\n",
    "genre = [\"['pop']\", \"[rock']\", \"['dance/electronic']\", \"['rap']\", \"['hip hop']\", \"['soul']\", \"['reggae']\", \"['others']\"]\n",
    "\n",
    "feature_pipeline = (\n",
    "    idf[\n",
    "        (idf.year <= year_slider) & \n",
    "        (idf.genres.isin(genre))\n",
    "    ]\n",
    "    .groupby(['genres','year'])[genre_options].mean()\n",
    "    .to_frame()\n",
    "    .sort_values(by='year')\n",
    "    .reset_index()\n",
    ")\n",
    "feature_plot = feature_pipeline.hvplot(x='year',by='genres',y=genre_options,line_width=2, title='Feature Characteristics by Genre')"
   ]
  },
  {
   "cell_type": "code",
   "execution_count": null,
   "id": "05f0ecc5-3ea9-48f4-824e-f571fca2213b",
   "metadata": {
    "canvas": {
     "comments": [],
     "componentType": "CodeCell",
     "copiedOriginId": null,
     "diskcache": false,
     "headerColor": "inherit",
     "id": "99911d10-c224-4338-ac38-e8730167985e",
     "isComponent": false,
     "name": "",
     "parents": []
    }
   },
   "outputs": [],
   "source": [
    "def get_average_over_year(feature, year):\n",
    "    try:\n",
    "        data = (df[df['year']<=year].groupby(['year']).agg({str(feature):'mean'}))\n",
    "        title = 'Average %s from 1970 to %d' % (feature, year)\n",
    "        # row_gap = int(math.ceil((year-1970)/9))\n",
    "        # line_chart = data.plot(title=chart_title, xticks=range(1970, year+2, row_gap))\n",
    "        # line_chart = px.line(df, x=\"year\", y=feature, title=chart_title)\n",
    "        # line_chart = sns.lineplot(data=df, x=\"year\", y=feature)\n",
    "        line_chart = data.hvplot.line(x=title, y=feature)\n",
    "        return line_chart\n",
    "    \n",
    "    except EOFError:\n",
    "            return"
   ]
  },
  {
   "cell_type": "markdown",
   "id": "1e914489-562b-446b-a14d-efa69f7d1365",
   "metadata": {
    "canvas": {
     "comments": [],
     "componentType": "CodeCell",
     "copiedOriginId": "8323333c-9e6e-4deb-a770-64b21add424b",
     "diskcache": false,
     "headerColor": "inherit",
     "id": "6f5fbdcc-114b-49c7-a01b-a113069477cf",
     "isComponent": false,
     "name": "",
     "parents": []
    }
   },
   "source": [
    "## Correlation between any 2 features"
   ]
  },
  {
   "cell_type": "code",
   "execution_count": null,
   "id": "ebe4dac7-742d-4196-bde8-78f9eebde361",
   "metadata": {
    "canvas": {
     "comments": [],
     "componentType": "CodeCell",
     "copiedOriginId": null,
     "diskcache": false,
     "headerColor": "inherit",
     "id": "8f3b595a-9dad-41c6-ad10-c3e3ea20920f",
     "isComponent": false,
     "name": "",
     "parents": []
    }
   },
   "outputs": [],
   "source": [
    "def visualize_correlation(x,y):\n",
    "    try:\n",
    "        title='<b> ' + x + ' Vs ' + y\n",
    "        scatter_plot = px.scatter(df,x=x,y=y,color=y,template='simple_white',title=title, trendline=\"ols\")\n",
    "        return scatter_plot\n",
    "    \n",
    "    except EOFError:\n",
    "            return\n",
    "    \n",
    "first_feature_options = pn.widgets.RadioButtonGroup(\n",
    "    name='first feature',\n",
    "    options=['danceability','energy','loudness','speechiness','acousticness','instrumentalness', 'liveness', 'tempo', 'duration_s','valence', 'Happy','Sad','Fear','Surprise','Angry'],\n",
    "    button_type='success'\n",
    ")\n",
    "second_feature_options = pn.widgets.RadioButtonGroup(\n",
    "    name='second feature',\n",
    "    options=['danceability','energy','loudness','speechiness','acousticness','instrumentalness', 'liveness', 'tempo', 'duration_s','valence', 'Happy','Sad','Fear','Surprise','Angry'],\n",
    "    button_type='success',\n",
    ")"
   ]
  },
  {
   "cell_type": "markdown",
   "id": "3f0e8321-96d9-40ae-a212-4855850179bc",
   "metadata": {
    "canvas": {
     "comments": [],
     "componentType": "CodeCell",
     "copiedOriginId": null,
     "diskcache": false,
     "headerColor": "inherit",
     "id": "42cee775-9b27-454d-b9d6-85e5dd37c008",
     "isComponent": false,
     "name": "",
     "parents": []
    }
   },
   "source": [
    "## Wordcloud for artists"
   ]
  },
  {
   "cell_type": "code",
   "execution_count": null,
   "id": "b9e679fe-21b0-4cf7-b618-a60aa2ea3368",
   "metadata": {
    "canvas": {
     "comments": [],
     "componentType": "CodeCell",
     "copiedOriginId": null,
     "diskcache": false,
     "headerColor": "inherit",
     "id": "66297d64-cfa1-479f-af77-71a95c2c831e",
     "isComponent": false,
     "name": "",
     "parents": []
    },
    "tags": []
   },
   "outputs": [],
   "source": [
    "from matplotlib.figure import Figure\n",
    "plt.rcParams[\"figure.figsize\"] = plt.rcParamsDefault[\"figure.figsize\"]\n",
    "\n",
    "mask = np.array(Image.open('./images/mask_guitar.png'))\n",
    "\n",
    "forbidden = ['(',')',\"'\",',','oh',\"'s\", 'yo',\"'ll\", 'el', \"'re\",\"'m\",\"oh-oh\",\"'d\", \"n't\", \"``\", \"ooh\", \"uah\", \"'em\", \"'ve\", \"eh\", \"pa\", \"brr\", \"yeah\",\n",
    "            'Im', 'Ill', 'Id', 'Ive', 'your', 'youre', \"you're\", 'youll', 'u'] \n",
    "stop_words_all = set(list(STOPWORDS) + forbidden)\n",
    "\n",
    "def artist_wordcloud(artist):\n",
    "    try:\n",
    "        lyrics_list = df[df['primary_artist']==artist]['lyrics'].to_list()\n",
    "        lyrics_words = \" \".join(map(str,lyrics_list))\n",
    "        wordcloud = WordCloud(stopwords=stop_words_all,background_color='white', \n",
    "                              max_words=200, mask=mask\n",
    "                             ).generate(lyrics_words)\n",
    "\n",
    "        fig = Figure(facecolor=\"#ffffff\")\n",
    "        ax = fig.add_subplot(111)\n",
    "        ax.imshow(wordcloud, interpolation='bilinear')\n",
    "        ax.axis(\"off\")\n",
    "\n",
    "        wordcloud_fig = pn.pane.Matplotlib(fig,\n",
    "                                          height=450,\n",
    "                                          width=800,\n",
    "                                          tight=True,\n",
    "                                          dpi=72,\n",
    "                                          interactive=False\n",
    "                                          )\n",
    "        return wordcloud_fig\n",
    "    \n",
    "    except EOFError:\n",
    "            return\n",
    "\n",
    "artist_select = pn.widgets.Select(options=df['primary_artist'].to_list(), value='John Mayer')"
   ]
  },
  {
   "cell_type": "markdown",
   "id": "734061d0-bee7-4881-ab9a-55bf780738e9",
   "metadata": {
    "canvas": {
     "comments": [],
     "componentType": "CodeCell",
     "copiedOriginId": null,
     "diskcache": false,
     "headerColor": "inherit",
     "id": "382eb77f-7ae8-42c9-8b15-454e5fe8e7c6",
     "isComponent": false,
     "name": "",
     "parents": []
    }
   },
   "source": [
    "## Genre Classification"
   ]
  },
  {
   "cell_type": "code",
   "execution_count": null,
   "id": "3a70c333-c5d4-44e2-8362-0b40d902c4dc",
   "metadata": {
    "canvas": {
     "comments": [],
     "componentType": "CodeCell",
     "copiedOriginId": null,
     "diskcache": false,
     "headerColor": "inherit",
     "id": "238f7b69-be03-4f18-b8a9-d1bb2a65baef",
     "isComponent": false,
     "name": "",
     "parents": []
    }
   },
   "outputs": [],
   "source": [
    "from sklearn.model_selection import train_test_split\n",
    "from sklearn.linear_model import LogisticRegression\n",
    "from sklearn.discriminant_analysis import LinearDiscriminantAnalysis"
   ]
  },
  {
   "cell_type": "code",
   "execution_count": null,
   "id": "fca1da16-391a-4d0d-8094-f387d4670ad1",
   "metadata": {
    "canvas": {
     "comments": [],
     "componentType": "CodeCell",
     "copiedOriginId": "ba5436cb-5585-48a5-88d7-b4b7c80f1c3f",
     "diskcache": false,
     "headerColor": "inherit",
     "id": "32ab0e0f-37e7-4fee-bd11-dd45e16a5793",
     "isComponent": false,
     "name": "",
     "parents": []
    }
   },
   "outputs": [],
   "source": [
    "import spotipy\n",
    "from spotipy.oauth2 import SpotifyClientCredentials\n",
    "from urllib.parse import urlparse\n",
    "from tqdm import tqdm_notebook\n",
    "\n",
    "# Provide valid Spotify client credentials\n",
    "cid = \"2d24641c74f241a39c7897558130398b\"\n",
    "secret = \"9d8a94229bcb4787a70ff3ebccaa196f\"\n",
    "client_credentials_manager = SpotifyClientCredentials(client_id=cid, client_secret=secret)\n",
    "sp = spotipy.Spotify(client_credentials_manager = client_credentials_manager)"
   ]
  },
  {
   "cell_type": "code",
   "execution_count": null,
   "id": "c8f48e9c-6671-478f-a8d3-c27229515a51",
   "metadata": {
    "canvas": {
     "comments": [],
     "componentType": "CodeCell",
     "copiedOriginId": null,
     "diskcache": false,
     "headerColor": "inherit",
     "id": "ce327fe3-a626-459c-bd9b-c8079e510967",
     "isComponent": false,
     "name": "",
     "parents": []
    }
   },
   "outputs": [],
   "source": [
    "classification_df = pd.read_csv(path+'/classification_df_2.csv')\n",
    "classification_df_reduced = classification_df.drop(\n",
    "    columns=['nltk', 'Happy', 'Angry', 'Surprise', 'Sad', 'Fear'])\n",
    "\n",
    "array = classification_df_reduced.values\n",
    "\n",
    "x = array[:,0:9]\n",
    "y = array[:,9]\n",
    "X_train, X_validation, Y_train, Y_validation = train_test_split(x, y, test_size=0.20, random_state=1)\n",
    "lr = LogisticRegression(solver='liblinear', multi_class='ovr')\n",
    "lr.fit(X_train, Y_train)"
   ]
  },
  {
   "cell_type": "code",
   "execution_count": null,
   "id": "66675551-d35b-472d-9c20-84ba9c8c2eaa",
   "metadata": {
    "canvas": {
     "comments": [],
     "componentType": "CodeCell",
     "copiedOriginId": null,
     "diskcache": false,
     "headerColor": "inherit",
     "id": "9ca5f51a-f415-4fd1-b299-584e06cb2d2c",
     "isComponent": false,
     "name": "",
     "parents": []
    },
    "tags": []
   },
   "outputs": [],
   "source": [
    "artist_widget = pn.widgets.TextInput(name='Input the artist name', value='')\n",
    "track_title_widget = pn.widgets.TextInput(name='Input the track title', value='')\n",
    "\n",
    "rem_list = ['key','mode','type','id','uri','mode','track_href','analysis_url','duration_ms', 'time_signature']\n",
    "\n",
    "# Create a Redis client\n",
    "# RC = redis.Redis(host='localhost', port=3107, db=0, charset='utf-8', decode_responses=True)\n",
    "# RC = redis.from_url(os.environ.get(\"REDIS_URL\"))\n",
    "\n",
    "def fetch_track_features(artist, track):\n",
    "    query = \"artist:%s track:%s\" % (artist, track)\n",
    "#     cache_key = \"cache|\" + query\n",
    "#     cached_response = RC.get(cache_key)\n",
    "\n",
    "#     if cached_response:\n",
    "#         return cached_response, artist+' - '+track\n",
    "    \n",
    "    try:\n",
    "        req = sp.search(q=query, type=\"track\", market=\"US\", limit=1)\n",
    "        res_id = req['tracks']['items'][0]['id']\n",
    "        res_track = sp.audio_features(res_id)\n",
    "        track = res_track[0]\n",
    "        track_details = dict([(key, val) for key, val in track.items() if key not in rem_list])\n",
    "        track_features = np.array(list(track_details.values()))\n",
    "        prediction = lr.predict([track_features])\n",
    "\n",
    "        # RC.set(cache_key, prediction)\n",
    "        track_name = req['tracks']['items'][0]['name']\n",
    "        artist_name = req['tracks']['items'][0]['artists'][0]['name']\n",
    "        return prediction, artist_name+' - '+track_name\n",
    "    \n",
    "    except:\n",
    "        return \"No songs found in Spotify. Please check your query params.\""
   ]
  },
  {
   "cell_type": "markdown",
   "id": "14ac8b99-34ff-413a-a5be-1c9a367a6291",
   "metadata": {
    "canvas": {
     "comments": [],
     "componentType": "CodeCell",
     "copiedOriginId": null,
     "diskcache": false,
     "headerColor": "inherit",
     "id": "8f916984-062f-4940-a912-58e63552e4e4",
     "isComponent": false,
     "name": "",
     "parents": []
    }
   },
   "source": [
    "## Content-based Recommendation"
   ]
  },
  {
   "cell_type": "code",
   "execution_count": null,
   "id": "733cd2e4-0e27-436d-ba8b-8042517e4f12",
   "metadata": {
    "canvas": {
     "comments": [],
     "componentType": "CodeCell",
     "copiedOriginId": null,
     "diskcache": false,
     "headerColor": "inherit",
     "id": "3baa8da4-2090-437d-9f07-21d2916f4060",
     "isComponent": false,
     "name": "",
     "parents": []
    }
   },
   "outputs": [],
   "source": [
    "### Songs\n",
    "from sklearn.feature_extraction.text import TfidfVectorizer\n",
    "from sklearn.metrics.pairwise import linear_kernel\n",
    "\n",
    "title_select = pn.widgets.Select(name='Track Name', options=(df['title'].drop_duplicates().to_list()))\n",
    "\n",
    "# tfidf = TfidfVectorizer(stop_words=stop_words_all)\n",
    "tfidf = TfidfVectorizer()\n",
    "\n",
    "lyrics = df['lyrics'].dropna()\n",
    "lyrics.reset_index(drop=True, inplace=True)\n",
    "\n",
    "tfidf_matrix = tfidf.fit_transform(lyrics)\n",
    "\n",
    "cosine_sim = linear_kernel(tfidf_matrix, tfidf_matrix)\n",
    "\n",
    "indices = pd.Series(lyrics.index, index=df.dropna()['title']).drop_duplicates()\n",
    "\n",
    "def get_song_recommendations(title, cosine_sim=cosine_sim):\n",
    "    try:\n",
    "        idx = indices[title]\n",
    "\n",
    "        sim_scores = list(enumerate(cosine_sim[idx]))\n",
    "\n",
    "        sim_scores = sorted(sim_scores, key=lambda x: x[1], reverse=True)\n",
    "\n",
    "        sim_scores = sim_scores[1:11]\n",
    "\n",
    "        songs_indices = [i[0] for i in sim_scores]\n",
    "\n",
    "        results = df.iloc[songs_indices]\n",
    "        results.set_index('title', inplace=True)\n",
    "\n",
    "        return results[['lyrics']]\n",
    "    \n",
    "    except EOFError:\n",
    "            return"
   ]
  },
  {
   "cell_type": "code",
   "execution_count": null,
   "id": "419bebb1-d25b-4755-86d8-fd0c8e3867c7",
   "metadata": {
    "canvas": {
     "comments": [],
     "componentType": "CodeCell",
     "copiedOriginId": null,
     "diskcache": false,
     "headerColor": "inherit",
     "id": "5d2c9880-4cba-4a60-bd67-f57607ee235d",
     "isComponent": false,
     "name": "",
     "parents": []
    },
    "tags": []
   },
   "outputs": [],
   "source": [
    "### Keywords\n",
    "keywords_widget = pn.widgets.TextInput(name='Input some key words', value='')\n",
    "\n",
    "def get_lyrics_recommendations(keywords):\n",
    "    try:\n",
    "        lyrics = df['lyrics'].dropna()\n",
    "        lyrics.reset_index(drop=True, inplace=True)\n",
    "        lyrics.loc[len(lyrics.index)] = str(keywords)\n",
    "\n",
    "        tfidf_matrix = tfidf.fit_transform(lyrics)\n",
    "\n",
    "        cosine_sim = linear_kernel(tfidf_matrix, tfidf_matrix)    \n",
    "\n",
    "        sim_scores = list(enumerate(cosine_sim[lyrics.index[-1]]))\n",
    "\n",
    "        sim_scores = sorted(sim_scores, key=lambda x: x[1], reverse=True)\n",
    "\n",
    "        sim_scores = sim_scores[1:11]\n",
    "\n",
    "        lyrics_indices = [i[0] for i in sim_scores]\n",
    "\n",
    "        lyrics_arr = lyrics.iloc[lyrics_indices].values\n",
    "\n",
    "        results = df[df['lyrics'].isin(lyrics_arr)]\n",
    "        results.set_index('title', inplace=True)\n",
    "\n",
    "        return results[['lyrics']]\n",
    "    \n",
    "    except EOFError:\n",
    "            return"
   ]
  },
  {
   "cell_type": "markdown",
   "id": "45678677-7652-4774-98b3-c59c896bea31",
   "metadata": {
    "canvas": {
     "comments": [],
     "componentType": "CodeCell",
     "copiedOriginId": null,
     "diskcache": false,
     "headerColor": "inherit",
     "id": "ff9faf57-e250-4fb0-9948-04614acdbdcb",
     "isComponent": false,
     "name": "",
     "parents": []
    }
   },
   "source": [
    "# **Creating Dashboard**"
   ]
  },
  {
   "cell_type": "code",
   "execution_count": null,
   "id": "a1ccc4cd-0cb6-49aa-aaa5-be58e8fd6258",
   "metadata": {
    "canvas": {
     "comments": [],
     "componentType": "CodeCell",
     "copiedOriginId": null,
     "diskcache": false,
     "headerColor": "inherit",
     "id": "5e9189be-a555-40cf-a96e-cd15a7cbfcd5",
     "isComponent": false,
     "name": "",
     "parents": []
    }
   },
   "outputs": [],
   "source": [
    "ACCENT_COLOR = pn.template.FastListTemplate.accent_base_color\n",
    "\n",
    "template = pn.template.FastListTemplate(\n",
    "    title=\"Top Spotify tracks of 1970-2020 Exploration\",\n",
    "    sidebar=[pn.pane.Markdown(\"## Settings\"), \n",
    "             year_slider,\n",
    "             # pn.pane.PNG('https://www.freepnglogos.com/uploads/spotify-logo-png/file-spotify-logo-png-4.png', sizing_mode='scale_both'),\n",
    "             pn.pane.Markdown(\"## Content description\"),\n",
    "             pn.pane.Markdown(\"### 1. Visualize the changes of each feature (on average) over time, grouped by music genres. You can also slide to the right to see its curve regardless of genre.\"),\n",
    "             pn.pane.Markdown(\"### 2. Visualize the correlation between any 2 features with scatter plot.\"),\n",
    "             pn.pane.Markdown(\"### 3. Generate a (kind of blurry) wordcloud of your favorite artist. Words are picked based on their frequency of appearance in the artist's songs.\"),\n",
    "             pn.pane.Markdown(\"### 4. Attempt to predict the genre of a track by its music features, fetched from cache or Spotify API. At the moment, the functionality is limited to classifying into rock, pop, rap and 'others'.\"),\n",
    "             pn.pane.Markdown(\"### 5. Get 10 recommendations, accepting inputs as varied as an existing track or some random keywords.\"),\n",
    "             pn.pane.Markdown(\"### *Since this is a demo, a lot of things do not look and function that great and the layout is not (yet) responsive, so ... sorry.\")\n",
    "            ],\n",
    "    main=[pn.Row(pn.Column(genre_options,\n",
    "                           pn.Row( \n",
    "                               feature_plot.panel(width=900),\n",
    "                               pn.bind(get_average_over_year, feature=genre_options, year=year_slider),\n",
    "                           ),\n",
    "                          ),\n",
    "                ), \n",
    "          pn.Row(pn.Column(\n",
    "                 first_feature_options,\n",
    "                 second_feature_options,\n",
    "                 pn.bind(visualize_correlation, x=first_feature_options, y=second_feature_options)\n",
    "          )),\n",
    "          pn.Row(pn.Column('## Wordcloud', artist_select,\n",
    "                   pn.bind(artist_wordcloud, artist=artist_select))\n",
    "                ),\n",
    "            pn.Row(pn.Column('## Genre Classifier', \n",
    "                             artist_widget,\n",
    "                             track_title_widget,\n",
    "                             pn.bind(fetch_track_features,\n",
    "                                     artist=artist_widget,\n",
    "                                    track=track_title_widget\n",
    "                                    ),\n",
    "                )),\n",
    "          pn.Row(pn.Column('## Song Recommendations', title_select,\n",
    "                           pn.bind(get_song_recommendations, title=title_select)\n",
    "                           ),\n",
    "                  pn.Column('## Lyrics Recommendations', keywords_widget,\n",
    "                           pn.bind(get_lyrics_recommendations, keywords=keywords_widget)\n",
    "                  ),\n",
    "                 ),\n",
    "        ],\n",
    "    accent_base_color=\"#1DB954\",\n",
    "    header_background=\"#1DB954\"\n",
    ").servable();"
   ]
  }
 ],
 "metadata": {
  "canvas": {
   "colorPalette": [
    "inherit",
    "inherit",
    "inherit",
    "inherit",
    "inherit",
    "inherit",
    "inherit",
    "inherit",
    "inherit",
    "inherit"
   ],
   "parameters": [],
   "version": "1.0"
  },
  "kernelspec": {
   "display_name": "Python 3",
   "language": "python",
   "name": "python3"
  },
  "language_info": {
   "codemirror_mode": {
    "name": "ipython",
    "version": 3
   },
   "file_extension": ".py",
   "mimetype": "text/x-python",
   "name": "python",
   "nbconvert_exporter": "python",
   "pygments_lexer": "ipython3",
   "version": "3.9.13 (tags/v3.9.13:6de2ca5, May 17 2022, 16:36:42) [MSC v.1929 64 bit (AMD64)]"
  },
  "vscode": {
   "interpreter": {
    "hash": "3060fcc539b54be53ee777ac782d248ae4552ea8c22520a78d66901157210319"
   }
  }
 },
 "nbformat": 4,
 "nbformat_minor": 5
}

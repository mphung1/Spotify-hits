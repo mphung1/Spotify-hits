{
 "cells": [
  {
   "cell_type": "code",
   "execution_count": 1,
   "id": "7802f072",
   "metadata": {
    "canvas": {
     "comments": [],
     "componentType": "CodeCell",
     "copiedOriginId": null,
     "diskcache": false,
     "headerColor": "none",
     "id": "fd033b02-4dfb-43da-bbae-5592844045cc",
     "isComponent": false,
     "name": "",
     "parents": []
    },
    "tags": []
   },
   "outputs": [],
   "source": [
    "import numpy as np\n",
    "import pandas as pd\n",
    "import os\n",
    "from bs4 import BeautifulSoup\n",
    "import requests\n",
    "from dotenv import load_dotenv\n",
    "import spotipy\n",
    "from spotipy.oauth2 import SpotifyClientCredentials\n",
    "import warnings\n",
    "warnings.filterwarnings('ignore')"
   ]
  },
  {
   "cell_type": "code",
   "execution_count": 3,
   "id": "4e6e611b",
   "metadata": {
    "canvas": {
     "comments": [],
     "componentType": "CodeCell",
     "copiedOriginId": null,
     "diskcache": false,
     "headerColor": "none",
     "id": "182f470a-3007-4bd3-8e21-49b69e1ce37f",
     "isComponent": false,
     "name": "",
     "parents": []
    }
   },
   "outputs": [
    {
     "data": {
      "text/plain": [
       "['data\\\\songs-1970.csv',\n",
       " 'data\\\\songs-1971.csv',\n",
       " 'data\\\\songs-1972.csv',\n",
       " 'data\\\\songs-1973.csv',\n",
       " 'data\\\\songs-1974.csv',\n",
       " 'data\\\\songs-1975.csv',\n",
       " 'data\\\\songs-1976.csv',\n",
       " 'data\\\\songs-1977.csv',\n",
       " 'data\\\\songs-1978.csv',\n",
       " 'data\\\\songs-1979.csv',\n",
       " 'data\\\\songs-1980.csv',\n",
       " 'data\\\\songs-1981.csv',\n",
       " 'data\\\\songs-1982.csv',\n",
       " 'data\\\\songs-1983.csv',\n",
       " 'data\\\\songs-1984.csv',\n",
       " 'data\\\\songs-1985.csv',\n",
       " 'data\\\\songs-1986.csv',\n",
       " 'data\\\\songs-1987.csv',\n",
       " 'data\\\\songs-1988.csv',\n",
       " 'data\\\\songs-1989.csv',\n",
       " 'data\\\\songs-1990.csv',\n",
       " 'data\\\\songs-1991.csv',\n",
       " 'data\\\\songs-1992.csv',\n",
       " 'data\\\\songs-1993.csv',\n",
       " 'data\\\\songs-1994.csv',\n",
       " 'data\\\\songs-1995.csv',\n",
       " 'data\\\\songs-1996.csv',\n",
       " 'data\\\\songs-1998.csv',\n",
       " 'data\\\\songs-1999.csv',\n",
       " 'data\\\\songs-2000.csv',\n",
       " 'data\\\\songs-2001.csv',\n",
       " 'data\\\\songs-2002.csv',\n",
       " 'data\\\\songs-2003.csv',\n",
       " 'data\\\\songs-2005.csv',\n",
       " 'data\\\\songs-2006.csv',\n",
       " 'data\\\\songs-2007.csv',\n",
       " 'data\\\\songs-2008.csv',\n",
       " 'data\\\\songs-2009.csv',\n",
       " 'data\\\\songs-2010.csv',\n",
       " 'data\\\\songs-2011.csv',\n",
       " 'data\\\\songs-2012.csv',\n",
       " 'data\\\\songs-2013.csv',\n",
       " 'data\\\\songs-2014.csv',\n",
       " 'data\\\\songs-2015.csv',\n",
       " 'data\\\\songs-2016.csv',\n",
       " 'data\\\\songs-2017.csv',\n",
       " 'data\\\\songs-2018.csv',\n",
       " 'data\\\\songs-2019.csv']"
      ]
     },
     "execution_count": 3,
     "metadata": {},
     "output_type": "execute_result"
    }
   ],
   "source": [
    "directory = 'data'\n",
    "all_data = []\n",
    "years = []\n",
    "for file in os.listdir(directory)[5:-2]:\n",
    "    filename = file.split('.')[0]\n",
    "    year = filename.split('-')[-1]\n",
    "    years.extend([year]*100)\n",
    "    with open(os.path.join(directory, file), 'r') as f:\n",
    "        all_data.append(f.name)\n",
    "\n",
    "all_data"
   ]
  },
  {
   "cell_type": "code",
   "execution_count": null,
   "id": "ba63d89f",
   "metadata": {
    "canvas": {
     "comments": [],
     "componentType": "CodeCell",
     "copiedOriginId": null,
     "diskcache": false,
     "headerColor": "none",
     "id": "8b3a1b54-6fb2-4f33-b878-b6701489a6b7",
     "isComponent": false,
     "name": "",
     "parents": []
    },
    "scrolled": true
   },
   "outputs": [],
   "source": [
    "df = pd.concat(map(pd.read_csv, all_data), ignore_index=True)\n",
    "df = df.drop(['Unnamed: 0'], axis=1)\n",
    "# Add the column for the song's year of appearance\n",
    "df['year'] = years\n",
    "\n",
    "df.columns"
   ]
  },
  {
   "cell_type": "code",
   "execution_count": null,
   "id": "a0d9a12f",
   "metadata": {
    "canvas": {
     "comments": [],
     "componentType": "CodeCell",
     "copiedOriginId": null,
     "diskcache": false,
     "headerColor": "none",
     "id": "17ae036c-d0a0-4f2e-8303-250e26ab61b4",
     "isComponent": false,
     "name": "",
     "parents": []
    }
   },
   "outputs": [],
   "source": [
    "import string\n",
    "import re\n",
    "chars = re.escape(string.punctuation) # !\"\\#\\$%\\&'\\(\\)\\*\\+,\\-\\./:;<=>\\?@\\[\\\\\\]\\^_`\\{\\|\\}\\~\n",
    "\n",
    "load_dotenv()\n",
    "cid = os.getenv('client_id')\n",
    "secret = os.getenv('client_secret')\n",
    "client_credentials_manager = SpotifyClientCredentials(client_id=cid, client_secret=secret)\n",
    "sp = spotipy.Spotify(client_credentials_manager = client_credentials_manager)\n",
    "\n",
    "df = df.assign(genres = '')\n",
    "\n",
    "def get_genre_by_artist(df):\n",
    "    for artist in df['primary_artist'].unique():\n",
    "        artistname = re.sub(r'['+chars+']', '', artist) if artist in [\"T'Pau\", \"Des'ree\", \"K'NAAN\", \"Rag'n'Bone Man\"] else artist\n",
    "        clean_artistname = artistname.replace('&', 'and') if '&' in artistname else artistname\n",
    "        try:  \n",
    "            results = sp.search(q='artist:' + clean_artistname, type='artist')\n",
    "            genres = results['artists']['items'][0]['genres']\n",
    "\n",
    "            artist_idx = df[df['primary_artist'] == str(artist)].index\n",
    "            for idx in artist_idx:\n",
    "                df.at[idx, 'genres'] = genres\n",
    "        except:\n",
    "            print('Error at', artist)\n",
    "        \n",
    "get_genre_by_artist(df)"
   ]
  },
  {
   "cell_type": "code",
   "execution_count": null,
   "id": "f02ca18b",
   "metadata": {
    "canvas": {
     "comments": [],
     "componentType": "CodeCell",
     "copiedOriginId": null,
     "diskcache": false,
     "headerColor": "none",
     "id": "1504d1ac-14e1-491e-9b40-27cb876f50d3",
     "isComponent": false,
     "name": "",
     "parents": []
    },
    "scrolled": true
   },
   "outputs": [],
   "source": [
    "from unidecode import unidecode # coding=utf-8\n",
    "chars = r\"\"\"!\"\\#\\$%\\&'\\(\\)\\*\\+,\\\\./:;<=>\\?@\\[\\\\\\]\\^_`\\{\\|\\}\\~’\"\"\"\n",
    "stop_words = [\"(Pt.\", \"(Part\", \"(Live)\", \"(feat.\", \"[feat.\", \"(ft.\", \"(Theme\", \"(with\", \"(From\", \"(Anniversary\",\n",
    "                      \"(Edit\", \"(from\", \"(Featuring\", \"(Extended\", \" Pt.\", \"(Strike\", \"(Part\", \"(Remaster\", \"(1\", \"(20\", \"- \"]\n",
    "\n",
    "def get_lyrics_by_song(df):\n",
    "    for index, row in df.iterrows():\n",
    "        artist = df.iloc[index]['primary_artist']\n",
    "        song = df.iloc[index]['title']\n",
    "    # Modify some special artist names\n",
    "        if artist == 'Yusuf / Cat Stevens':\n",
    "            artist = 'Cat Stevens'\n",
    "        elif artist == 'P!nk':\n",
    "            artist = 'Pink'\n",
    "        artistname = artist.replace('&', 'and') if '&' in artist else artist\n",
    "        artistname_2 = artistname.replace(' /', '') if ' /' in artistname else artistname\n",
    "        clean_artistname = unidecode(re.sub(r'['+chars+']', '', artistname_2))\n",
    "        artistname_url =  clean_artistname.replace(' ','-') if ' ' in clean_artistname else clean_artistname\n",
    "\n",
    "        songname = song.replace('&', 'and') if '&' in song else song\n",
    "        for char in [' / ', '...']:\n",
    "            if char in songname:\n",
    "                songname = songname.replace(char, ' ')\n",
    "                \n",
    "        for string in stop_words:\n",
    "            if string in songname:\n",
    "                songname = songname.split(string)[0][:-1]\n",
    "        songname_2 = unidecode(re.sub(r'['+chars+']', '', songname))\n",
    "        clean_songname = songname_2.replace(' ','-') if ' ' in songname_2 else songname_2\n",
    "        songname_url = clean_songname[:-1] if clean_songname[-1:] == '-' else clean_songname\n",
    "\n",
    "        url = 'https://genius.com/'+ artistname_url + '-' + songname_url + '-' + 'lyrics'\n",
    "        page = requests.get(url)\n",
    "        html = BeautifulSoup(page.text, 'html.parser')\n",
    "        lyrics_container = html.find(\"div\", class_=\"Lyrics__Container-sc-1ynbvzw-6 YYrds\")\n",
    "\n",
    "        if lyrics_container: \n",
    "            lyrics = lyrics_container.text\n",
    "        elif lyrics_container == None:\n",
    "            lyrics = None\n",
    "            print(df.at[index,'primary_artist']+':', df.at[index,'title'], '||||', url)\n",
    "\n",
    "        df.at[index, 'lyrics'] = lyrics\n",
    "        \n",
    "get_lyrics_by_song(df)"
   ]
  },
  {
   "cell_type": "code",
   "execution_count": null,
   "id": "4a043b9d",
   "metadata": {
    "canvas": {
     "comments": [],
     "componentType": "CodeCell",
     "copiedOriginId": null,
     "diskcache": false,
     "headerColor": "none",
     "id": "554ef37b-b142-43c2-a21d-0f9abe2f5b9a",
     "isComponent": false,
     "name": "",
     "parents": []
    }
   },
   "outputs": [],
   "source": [
    "df"
   ]
  },
  {
   "cell_type": "code",
   "execution_count": null,
   "id": "b8c01561",
   "metadata": {
    "canvas": {
     "comments": [],
     "componentType": "CodeCell",
     "copiedOriginId": null,
     "diskcache": false,
     "headerColor": "none",
     "id": "f580a083-3aaa-443c-b373-06446aa60050",
     "isComponent": false,
     "name": "",
     "parents": []
    }
   },
   "outputs": [],
   "source": [
    "df[df['lyrics'].isnull()]"
   ]
  },
  {
   "cell_type": "code",
   "execution_count": null,
   "id": "f3a9ef0c",
   "metadata": {
    "canvas": {
     "comments": [],
     "componentType": "CodeCell",
     "copiedOriginId": null,
     "diskcache": false,
     "headerColor": "none",
     "id": "b746265e-463c-4977-8ba9-4ab6a9c32f8d",
     "isComponent": false,
     "name": "",
     "parents": []
    }
   },
   "outputs": [],
   "source": [
    "with open('./data/merge_with_lyrics_and_genres.csv', 'w', encoding='utf-8') as f:\n",
    "        df.to_csv(f, header= True, index=False)"
   ]
  },
  {
   "cell_type": "code",
   "execution_count": null,
   "id": "1b8f200d-2e0b-420e-9087-50b10e38edd3",
   "metadata": {
    "canvas": {
     "comments": [],
     "componentType": "CodeCell",
     "copiedOriginId": null,
     "diskcache": false,
     "headerColor": "inherit",
     "id": "e1a25481-fe95-400f-aa23-e6b1a1874052",
     "isComponent": false,
     "name": "",
     "parents": []
    }
   },
   "outputs": [],
   "source": [
    "def convert_to_list(genres_str):\n",
    "    arr = []\n",
    "    for val in genres_str.split(\"',\"):\n",
    "        val = val.replace(\"['\", '').replace(\"']\", '').replace(\"'\", '').strip()\n",
    "        arr.append(val)\n",
    "    return arr\n",
    "\n",
    "# Add list-formatted genres back to the column\n",
    "for idx, genre in enumerate(df['genres']):\n",
    "    if genre is not None:\n",
    "        df.at[idx, 'genres'] = convert_to_list(genre)  "
   ]
  },
  {
   "cell_type": "code",
   "execution_count": null,
   "id": "c51c5b1c-0549-4162-91f8-c0c8b2604c97",
   "metadata": {
    "canvas": {
     "comments": [],
     "componentType": "CodeCell",
     "copiedOriginId": null,
     "diskcache": false,
     "headerColor": "inherit",
     "id": "fa22e0ef-2e01-41cf-8641-91277ef05e12",
     "isComponent": false,
     "name": "",
     "parents": []
    },
    "tags": []
   },
   "outputs": [],
   "source": [
    "genre_els = dict()\n",
    "for genre in df['genres']:\n",
    "    for entry in genre:\n",
    "        words = entry.split(\" \")\n",
    "        for word in words:\n",
    "            if word in genre_els:\n",
    "                genre_els[word] += 1\n",
    "            else:\n",
    "                genre_els[word] = 1\n",
    "\n",
    "# Look at elements that make up the genres with the most counts\n",
    "common_genre_els = sorted(genre_els.items(), key=lambda item: item[1])\n",
    "common_genre_els_dict = {k: v for k, v in common_genre_els}\n",
    "\n",
    "common_genre_els_dict"
   ]
  },
  {
   "cell_type": "code",
   "execution_count": null,
   "id": "adcdc281-e597-4b22-8a61-cab621d5f07f",
   "metadata": {
    "canvas": {
     "comments": [],
     "componentType": "CodeCell",
     "copiedOriginId": null,
     "diskcache": false,
     "headerColor": "inherit",
     "id": "c9e7ae2f-54a8-4b3f-937a-c5f6b561949f",
     "isComponent": false,
     "name": "",
     "parents": []
    }
   },
   "outputs": [],
   "source": [
    "### We will re-categorize the genres into: pop, rock, hip hop, dance/electronic, r&b, reggae, rap, soul, etc.\n",
    "new_genre_list = ['rap', 'soul', 'country', 'funk', 'folk', \n",
    "                  'metal', 'blues', 'jazz', 'contemporary']\n",
    "pop_genre_list = ['pop', 'pop punk', 'show tunes', 'neo mellow', 'pop argentino']\n",
    "rock_genre_list = ['rock', 'punk', 'rock-and-roll', 'mellow gold', 'melancholia', 'revival']\n",
    "hiphop_genre_list = ['hip hop', 'trap']\n",
    "dance_electronic_genre_list = ['dance','house', 'wave', 'disco', 'edm', 'latino', 'electronic', \n",
    "                         'electronica', 'tropical', 'beach music', 'grime']\n",
    "r_and_b_genre_list = ['r&b', 'quiet storm']\n",
    "reggae_genre_list = ['reggae', 'fusion', 'reggaeton']\n",
    "\n",
    "for idx, row in enumerate(df['genres']):\n",
    "    new_genre = []\n",
    "    for entry in row:\n",
    "        if 'pop' not in new_genre:\n",
    "            for pop_genre in pop_genre_list:\n",
    "                if entry[-len(pop_genre):] == pop_genre:\n",
    "                    new_genre.append('pop') \n",
    "                    \n",
    "        if 'rock' not in new_genre:\n",
    "            for rock_genre in rock_genre_list:\n",
    "                if entry[-len(rock_genre):] == rock_genre:\n",
    "                    new_genre.append('rock') \n",
    "                    \n",
    "        if 'hip hop' not in new_genre:\n",
    "            for hiphop_genre in hiphop_genre_list:\n",
    "                if entry[-len(hiphop_genre):] == hiphop_genre:\n",
    "                    new_genre.append('hip hop') \n",
    "                        \n",
    "        if 'dance/electronic' not in new_genre:      \n",
    "            for dance_electronic_genre in dance_electronic_genre_list:\n",
    "                if entry[-len(dance_electronic_genre):] == dance_electronic_genre:\n",
    "                    new_genre.append('dance/electronic') \n",
    "                    \n",
    "        if 'r&b' not in new_genre:      \n",
    "            for r_and_b_genre in r_and_b_genre_list:\n",
    "                if entry[-len(r_and_b_genre):] == r_and_b_genre:\n",
    "                    new_genre.append('r&b') \n",
    "                    \n",
    "        if 'reggae' not in new_genre:\n",
    "            for reggae_genre in reggae_genre_list:\n",
    "                if entry[-len(reggae_genre):] == reggae_genre:\n",
    "                    new_genre.append('reggae') \n",
    "                    \n",
    "        for genre in new_genre_list:\n",
    "            if entry[-len(genre):] == genre:\n",
    "                if genre not in new_genre:\n",
    "                    new_genre.append(genre) \n",
    "        \n",
    "    if (new_genre == []):\n",
    "        df.at[idx, 'genres'] = ['others']\n",
    "    else:\n",
    "        df.at[idx, 'genres'] = sorted(new_genre)"
   ]
  },
  {
   "cell_type": "code",
   "execution_count": null,
   "id": "9c07b583-95e3-4c3f-9118-8d64e2744ba0",
   "metadata": {
    "canvas": {
     "comments": [],
     "componentType": "CodeCell",
     "copiedOriginId": null,
     "diskcache": false,
     "headerColor": "inherit",
     "id": "1a259fa1-174a-470a-a66f-5b550997c220",
     "isComponent": false,
     "name": "",
     "parents": []
    }
   },
   "outputs": [],
   "source": [
    "df[df['genres'].apply(lambda c: c==['others'])]"
   ]
  },
  {
   "cell_type": "code",
   "execution_count": null,
   "id": "3b6b565f-3de8-4693-98b9-02f42995a34f",
   "metadata": {
    "canvas": {
     "comments": [],
     "componentType": "CodeCell",
     "copiedOriginId": null,
     "diskcache": false,
     "headerColor": "inherit",
     "id": "7a81c4fd-102e-4b27-8cbd-93032a0ce4a5",
     "isComponent": false,
     "name": "",
     "parents": []
    }
   },
   "outputs": [],
   "source": [
    "from unidecode import unidecode # coding=utf-8\n",
    "import string\n",
    "import re\n",
    "import nltk\n",
    "from nltk.corpus import stopwords\n",
    "\n",
    "chars = re.escape(string.punctuation) # !\"\\#\\$%\\&'\\(\\)\\*\\+,\\-\\./:;<=>\\?@\\[\\\\\\]\\^_`\\{\\|\\}\\~\n",
    "stop_words = stopwords.words('english')\n",
    "\n",
    "def clean_lyrics(lyrics_str):\n",
    "    lyrics_str = unidecode(re.sub(r'['+chars+']', '', lyrics_str))\n",
    "    lyrics_list = list(lyrics_str)\n",
    "    for idx in range(1, len(lyrics_list)):\n",
    "        if lyrics_list[idx].isupper():\n",
    "            if lyrics_list[idx-1].islower():\n",
    "                lyrics_list[idx-1] += \". \"\n",
    "    return ''.join(lyrics_list)"
   ]
  },
  {
   "cell_type": "code",
   "execution_count": null,
   "id": "8bcec2fb-f119-49c6-93d2-7777dde4115c",
   "metadata": {
    "canvas": {
     "comments": [],
     "componentType": "CodeCell",
     "copiedOriginId": null,
     "diskcache": false,
     "headerColor": "inherit",
     "id": "29be578d-10d4-4cb6-8bfa-aef774762cd3",
     "isComponent": false,
     "name": "",
     "parents": []
    }
   },
   "outputs": [],
   "source": [
    "for idx, lyrics in enumerate(df['lyrics']):\n",
    "    try:\n",
    "        if lyrics is not None:\n",
    "            lyrics = re.sub('([\\(\\[]).*?([\\)\\]])', '', lyrics)\n",
    "            df.at[idx, 'lyrics'] = clean_lyrics(lyrics)  \n",
    "    except:\n",
    "        print('error @', idx, '||||', lyrics)"
   ]
  },
  {
   "cell_type": "code",
   "execution_count": null,
   "id": "1ba83721-9b28-4501-b148-e4e361489280",
   "metadata": {
    "canvas": {
     "comments": [],
     "componentType": "CodeCell",
     "copiedOriginId": null,
     "diskcache": false,
     "headerColor": "inherit",
     "id": "d96f04e7-be86-4d23-a749-9f24b2216a8b",
     "isComponent": false,
     "name": "",
     "parents": []
    }
   },
   "outputs": [],
   "source": [
    "df"
   ]
  },
  {
   "cell_type": "code",
   "execution_count": null,
   "id": "3b8571f0-3caf-47e4-9980-0f4fcb857096",
   "metadata": {
    "canvas": {
     "comments": [],
     "componentType": "CodeCell",
     "copiedOriginId": null,
     "diskcache": false,
     "headerColor": "inherit",
     "id": "98b89abb-253a-455f-af58-929f08fc42bd",
     "isComponent": false,
     "name": "",
     "parents": []
    }
   },
   "outputs": [],
   "source": [
    "with open('./data/songs_df.csv', 'w', encoding='utf-8') as f:\n",
    "        df.to_csv(f, header= True, index=False)"
   ]
  }
 ],
 "metadata": {
  "canvas": {
   "colorPalette": [
    "inherit",
    "inherit",
    "inherit",
    "inherit",
    "inherit",
    "inherit",
    "inherit",
    "inherit",
    "inherit",
    "inherit"
   ],
   "parameters": [],
   "version": "1.0"
  },
  "kernelspec": {
   "display_name": "Python 3 (ipykernel)",
   "language": "python",
   "name": "python3"
  },
  "language_info": {
   "codemirror_mode": {
    "name": "ipython",
    "version": 3
   },
   "file_extension": ".py",
   "mimetype": "text/x-python",
   "name": "python",
   "nbconvert_exporter": "python",
   "pygments_lexer": "ipython3",
   "version": "3.9.13 (tags/v3.9.13:6de2ca5, May 17 2022, 16:36:42) [MSC v.1929 64 bit (AMD64)]"
  },
  "vscode": {
   "interpreter": {
    "hash": "3060fcc539b54be53ee777ac782d248ae4552ea8c22520a78d66901157210319"
   }
  }
 },
 "nbformat": 4,
 "nbformat_minor": 5
}

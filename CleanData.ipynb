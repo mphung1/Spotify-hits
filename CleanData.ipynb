{
 "cells": [
  {
   "cell_type": "code",
   "execution_count": 1,
   "id": "7bd238e0",
   "metadata": {},
   "outputs": [],
   "source": [
    "import numpy as np\n",
    "import pandas as pd\n",
    "import os\n",
    "import warnings\n",
    "warnings.filterwarnings('ignore')"
   ]
  },
  {
   "cell_type": "code",
   "execution_count": 2,
   "id": "d61fa4b5",
   "metadata": {},
   "outputs": [],
   "source": [
    "# def clean_lyrics(string,xWords):\n",
    "#     for word in xWords:\n",
    "#         string = string.replace(word, '')\n",
    "#     return string\n",
    "\n",
    "# xWords = ['[Intro]','[Verse 1]','[Verse 2]', '[Pre-Chorus]', '[Chorus]', '[Post-Chorus]']\n",
    "# clean_lyrics = clean_lyrics(lyrics.text, xWords)\n",
    "# print(clean_lyrics, '\\n')\n",
    "\n",
    "# unnecessary_words = ['a', 'an', 'and', 'the', 'of']\n",
    "# print(' '.join(i for i in clean_lyrics.split() if i not in unnecessary_words))"
   ]
  },
  {
   "cell_type": "code",
   "execution_count": 54,
   "id": "8b861467",
   "metadata": {},
   "outputs": [
    {
     "name": "stdout",
     "output_type": "stream",
     "text": [
      "Signed\n",
      "!\"\\#\\$%\\&'\\(\\)\\*\\+,\\-\\./:;<=>\\?@\\[\\\\\\]\\^_`\\{\\|\\}\\~\n"
     ]
    }
   ],
   "source": [
    "import string\n",
    "import re\n",
    "chars = re.escape(string.punctuation)\n",
    "\n",
    "song = \"Signed, Sealed, Delivered (I'm Yours)\"\n",
    "songname = re.sub(r'['+chars+']', '', (song.split(' - ')[0].split(\"[\")[0].split(\",\")[0]))\n",
    "clean_songname = songname.replace(' ','-') if ' ' in songname else songname\n",
    "songname_url = clean_songname[:-1] if clean_songname[-1:] == '-' else clean_songname\n",
    "\n",
    "print(songname_url)\n",
    "\n",
    "print(chars)"
   ]
  },
  {
   "cell_type": "code",
   "execution_count": 59,
   "id": "0abfcdee",
   "metadata": {},
   "outputs": [
    {
     "name": "stdout",
     "output_type": "stream",
     "text": [
      "Frank Ocean Pink\n"
     ]
    }
   ],
   "source": [
    "song = 'Frank Ocean: Pink + White'\n",
    "songname = song\n",
    "for string in [\"(Pt. 1 & Pt. 2)\", \"(Part 1)\", \"(Part 2)\", \"(Live)\", \"(feat)\", \"(feat. \", \"(Theme\", \"(with\", \"- Remaster\", \"+ \"]:\n",
    "    if string in song:\n",
    "        songname = song.split(string)[0][:-1]\n",
    "songname_2 = re.sub(r'['+chars+']', '', songname)\n",
    "\n",
    "# clean_songname = songname.replace(' ','-') if ' ' in songname else songname\n",
    "# songname_url = clean_songname[:-1] if clean_songname[-1:] == '-' else clean_songname\n",
    "\n",
    "# (feat. xxx)\n",
    "print(songname_2)\n",
    "\n",
    "# "
   ]
  },
  {
   "cell_type": "code",
   "execution_count": null,
   "id": "ce782ebf",
   "metadata": {},
   "outputs": [],
   "source": [
    "sonFrank Ocean: Pink + White "
   ]
  }
 ],
 "metadata": {
  "kernelspec": {
   "display_name": "Python 3 (ipykernel)",
   "language": "python",
   "name": "python3"
  },
  "language_info": {
   "codemirror_mode": {
    "name": "ipython",
    "version": 3
   },
   "file_extension": ".py",
   "mimetype": "text/x-python",
   "name": "python",
   "nbconvert_exporter": "python",
   "pygments_lexer": "ipython3",
   "version": "3.9.12"
  }
 },
 "nbformat": 4,
 "nbformat_minor": 5
}

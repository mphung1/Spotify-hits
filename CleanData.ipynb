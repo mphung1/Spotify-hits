{
 "cells": [
  {
   "cell_type": "code",
   "execution_count": 1,
   "id": "7bd238e0",
   "metadata": {},
   "outputs": [],
   "source": [
    "import numpy as np\n",
    "import pandas as pd\n",
    "import os\n",
    "import warnings\n",
    "warnings.filterwarnings('ignore')"
   ]
  },
  {
   "cell_type": "code",
   "execution_count": 2,
   "id": "d61fa4b5",
   "metadata": {},
   "outputs": [],
   "source": [
    "# def clean_lyrics(string,xWords):\n",
    "#     for word in xWords:\n",
    "#         string = string.replace(word, '')\n",
    "#     return string\n",
    "\n",
    "# xWords = ['[Intro]','[Verse 1]','[Verse 2]', '[Pre-Chorus]', '[Chorus]', '[Post-Chorus]']\n",
    "# clean_lyrics = clean_lyrics(lyrics.text, xWords)\n",
    "# print(clean_lyrics, '\\n')\n",
    "\n",
    "# unnecessary_words = ['a', 'an', 'and', 'the', 'of']\n",
    "# print(' '.join(i for i in clean_lyrics.split() if i not in unnecessary_words))"
   ]
  }
 ],
 "metadata": {
  "kernelspec": {
   "display_name": "Python 3 (ipykernel)",
   "language": "python",
   "name": "python3"
  },
  "language_info": {
   "codemirror_mode": {
    "name": "ipython",
    "version": 3
   },
   "file_extension": ".py",
   "mimetype": "text/x-python",
   "name": "python",
   "nbconvert_exporter": "python",
   "pygments_lexer": "ipython3",
   "version": "3.9.12"
  }
 },
 "nbformat": 4,
 "nbformat_minor": 5
}

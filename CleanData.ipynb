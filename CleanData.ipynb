{
 "cells": [
  {
   "cell_type": "code",
   "execution_count": 1,
   "id": "7802f072",
   "metadata": {},
   "outputs": [],
   "source": [
    "import numpy as np\n",
    "import pandas as pd\n",
    "import os"
   ]
  },
  {
   "cell_type": "code",
   "execution_count": 2,
   "id": "4e6e611b",
   "metadata": {},
   "outputs": [
    {
     "data": {
      "text/plain": [
       "['data\\\\merge.csv',\n",
       " 'data\\\\merged',\n",
       " 'data\\\\merged.csv',\n",
       " 'data\\\\songs-1970.csv',\n",
       " 'data\\\\songs-1971.csv',\n",
       " 'data\\\\songs-1972.csv',\n",
       " 'data\\\\songs-1973.csv',\n",
       " 'data\\\\songs-1974.csv',\n",
       " 'data\\\\songs-1975.csv',\n",
       " 'data\\\\songs-1976.csv',\n",
       " 'data\\\\songs-1977.csv',\n",
       " 'data\\\\songs-1978.csv',\n",
       " 'data\\\\songs-1979.csv',\n",
       " 'data\\\\songs-1980.csv',\n",
       " 'data\\\\songs-1981.csv',\n",
       " 'data\\\\songs-1982.csv',\n",
       " 'data\\\\songs-1983.csv',\n",
       " 'data\\\\songs-1984.csv',\n",
       " 'data\\\\songs-1985.csv',\n",
       " 'data\\\\songs-1986.csv',\n",
       " 'data\\\\songs-1987.csv',\n",
       " 'data\\\\songs-1988.csv',\n",
       " 'data\\\\songs-1989.csv',\n",
       " 'data\\\\songs-1990.csv',\n",
       " 'data\\\\songs-1991.csv',\n",
       " 'data\\\\songs-1992.csv',\n",
       " 'data\\\\songs-1993.csv',\n",
       " 'data\\\\songs-1994.csv',\n",
       " 'data\\\\songs-1995.csv',\n",
       " 'data\\\\songs-1996.csv',\n",
       " 'data\\\\songs-1998.csv',\n",
       " 'data\\\\songs-1999.csv',\n",
       " 'data\\\\songs-2000.csv',\n",
       " 'data\\\\songs-2001.csv',\n",
       " 'data\\\\songs-2002.csv',\n",
       " 'data\\\\songs-2003.csv',\n",
       " 'data\\\\songs-2005.csv',\n",
       " 'data\\\\songs-2006.csv',\n",
       " 'data\\\\songs-2007.csv',\n",
       " 'data\\\\songs-2008.csv',\n",
       " 'data\\\\songs-2009.csv',\n",
       " 'data\\\\songs-2010.csv',\n",
       " 'data\\\\songs-2011.csv',\n",
       " 'data\\\\songs-2012.csv',\n",
       " 'data\\\\songs-2013.csv',\n",
       " 'data\\\\songs-2014.csv',\n",
       " 'data\\\\songs-2015.csv',\n",
       " 'data\\\\songs-2016.csv',\n",
       " 'data\\\\songs-2017.csv',\n",
       " 'data\\\\songs-2018.csv',\n",
       " 'data\\\\songs-2019.csv']"
      ]
     },
     "execution_count": 2,
     "metadata": {},
     "output_type": "execute_result"
    }
   ],
   "source": [
    "directory = 'data'\n",
    "all_data = []\n",
    "for filename in os.listdir(directory):\n",
    "    with open(os.path.join(directory, filename), 'r') as f:\n",
    "        all_data.append(f.name)\n",
    "\n",
    "all_data"
   ]
  },
  {
   "cell_type": "code",
   "execution_count": 3,
   "id": "ba63d89f",
   "metadata": {},
   "outputs": [
    {
     "name": "stdout",
     "output_type": "stream",
     "text": [
      "                           id                        title  \\\n",
      "0      7iN1s7xHE4ifF5povM6A48  Let It Be - Remastered 2009   \n",
      "1      6QhXQOpyYvbpdbyjgAqKdY                      Cecilia   \n",
      "2      2BhrrVRC8CoiWejbzj0VjQ        Son of a Preacher Man   \n",
      "3      3Bh6uInhcVBVvLraGZdkKD         Who'll Stop The Rain   \n",
      "4      6UkMcAA19lTdjs22jtB7o2              Big Yellow Taxi   \n",
      "...                       ...                          ...   \n",
      "47995  7AODNxFNPnKaz4hURLzw5l               Ladbroke Grove   \n",
      "47996  44ADyYoY5liaRa3EOAl4uf                   Slide Away   \n",
      "47997  2KKijf6Ett4kmVNJze2roh                   The Git Up   \n",
      "47998  2bjUEg4jBtKBlPdNrTAppI                       Easier   \n",
      "47999  3cWI6Hj9LQ0MfMuhw9uSMc             Lost Without You   \n",
      "\n",
      "                     primary_artist                       all_artists  \\\n",
      "0                       The Beatles                   ['The Beatles']   \n",
      "1                 Simon & Garfunkel             ['Simon & Garfunkel']   \n",
      "2                   Aretha Franklin               ['Aretha Franklin']   \n",
      "3      Creedence Clearwater Revival  ['Creedence Clearwater Revival']   \n",
      "4                     Joni Mitchell                 ['Joni Mitchell']   \n",
      "...                             ...                               ...   \n",
      "47995                     AJ Tracey                     ['AJ Tracey']   \n",
      "47996                   Miley Cyrus                   ['Miley Cyrus']   \n",
      "47997                  Blanco Brown                  ['Blanco Brown']   \n",
      "47998           5 Seconds of Summer           ['5 Seconds of Summer']   \n",
      "47999                 Freya Ridings                 ['Freya Ridings']   \n",
      "\n",
      "       danceability  energy  key  loudness  mode  speechiness  acousticness  \\\n",
      "0             0.443   0.403    0    -8.339     1       0.0322        0.6310   \n",
      "1             0.755   0.876    0    -8.867     1       0.0362        0.3570   \n",
      "2             0.474   0.473    2   -11.454     1       0.0601        0.5450   \n",
      "3             0.598   0.797    7    -6.793     1       0.0332        0.0424   \n",
      "4             0.611   0.470    4    -9.135     1       0.0356        0.5790   \n",
      "...             ...     ...  ...       ...   ...          ...           ...   \n",
      "47995         0.902   0.839   11    -9.447     0       0.2080        0.0933   \n",
      "47996         0.530   0.538    5    -6.672     1       0.0335        0.1700   \n",
      "47997         0.847   0.678    9    -8.635     1       0.1090        0.0669   \n",
      "47998         0.562   0.460    5    -4.173     1       0.2590        0.4760   \n",
      "47999         0.386   0.136    6    -9.267     1       0.0458        0.9320   \n",
      "\n",
      "       instrumentalness  liveness  valence    tempo  time_signature  \\\n",
      "0              0.000000    0.1110   0.4100  143.462               4   \n",
      "1              0.000005    0.2200   0.9540  102.762               4   \n",
      "2              0.000001    0.0356   0.5610   77.583               4   \n",
      "3              0.000407    0.0717   0.6220  123.566               4   \n",
      "4              0.000000    0.5810   0.9700   85.527               4   \n",
      "...                 ...       ...      ...      ...             ...   \n",
      "47995          0.000000    0.1020   0.7270  133.989               4   \n",
      "47996          0.000003    0.2480   0.2880  148.051               4   \n",
      "47997          0.000000    0.2740   0.8110   97.984               4   \n",
      "47998          0.000000    0.1070   0.6230  176.055               4   \n",
      "47999          0.000000    0.0653   0.0976   67.016               3   \n",
      "\n",
      "       duration_s  Unnamed: 0.1  \n",
      "0             243           NaN  \n",
      "1             175           NaN  \n",
      "2             199           NaN  \n",
      "3             147           NaN  \n",
      "4             135           NaN  \n",
      "...           ...           ...  \n",
      "47995         191           NaN  \n",
      "47996         234           NaN  \n",
      "47997         201           NaN  \n",
      "47998         158           NaN  \n",
      "47999         226           NaN  \n",
      "\n",
      "[48000 rows x 18 columns]\n",
      "Index(['id', 'title', 'primary_artist', 'all_artists', 'danceability',\n",
      "       'energy', 'key', 'loudness', 'mode', 'speechiness', 'acousticness',\n",
      "       'instrumentalness', 'liveness', 'valence', 'tempo', 'time_signature',\n",
      "       'duration_s', 'Unnamed: 0.1'],\n",
      "      dtype='object')\n"
     ]
    }
   ],
   "source": [
    "df = pd.concat(\n",
    "    map(pd.read_csv, all_data), ignore_index=True)\n",
    "songs_df = df.drop(['Unnamed: 0'], axis=1)\n",
    "\n",
    "print(songs_df)\n",
    "print(songs_df.columns)"
   ]
  },
  {
   "cell_type": "code",
   "execution_count": 4,
   "id": "f3a9ef0c",
   "metadata": {},
   "outputs": [],
   "source": [
    "with open('./data/merge.csv', 'w', encoding='utf-8') as f:\n",
    "        songs_df.to_csv(f, header= True, index=False)"
   ]
  }
 ],
 "metadata": {
  "kernelspec": {
   "display_name": "Python 3 (ipykernel)",
   "language": "python",
   "name": "python3"
  },
  "language_info": {
   "codemirror_mode": {
    "name": "ipython",
    "version": 3
   },
   "file_extension": ".py",
   "mimetype": "text/x-python",
   "name": "python",
   "nbconvert_exporter": "python",
   "pygments_lexer": "ipython3",
   "version": "3.9.12"
  }
 },
 "nbformat": 4,
 "nbformat_minor": 5
}

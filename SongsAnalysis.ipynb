{
 "cells": [
  {
   "cell_type": "code",
   "execution_count": 1,
   "id": "113aa4d9",
   "metadata": {
    "canvas": {
     "comments": [],
     "componentType": "CodeCell",
     "copiedOriginId": null,
     "diskcache": true,
     "headerColor": "none",
     "id": "cbcb858c-ca57-4a71-909b-b3c049c6ddb2",
     "isComponent": true,
     "name": "Import and Config",
     "parents": []
    },
    "tags": []
   },
   "outputs": [
    {
     "name": "stderr",
     "output_type": "stream",
     "text": [
      "Warning: Link pipeline does not support non-serializable objects by policy in order to pass objects from a parent component to a child component. Objects ['stopwords'] in component 'Import and Config' cannot be serialized. so these are only available in the component in which they have been declared. If necessary, please redefine the objects in the child components\n"
     ]
    }
   ],
   "source": [
    "import numpy as np # linear algebra\n",
    "import pandas as pd # data processing, I/O\n",
    "import matplotlib.pyplot as plt\n",
    "from matplotlib import rcParams\n",
    "import seaborn as sns\n",
    "import plotly.express as px\n",
    "from plotly.offline import init_notebook_mode, iplot, plot\n",
    "from wordcloud import WordCloud, STOPWORDS\n",
    "from nltk.corpus import stopwords\n",
    "from IPython.display import display\n",
    "import math\n",
    "import re\n",
    "plt.rcParams[\"figure.figsize\"] = plt.rcParamsDefault[\"figure.figsize\"]\n",
    "import os\n",
    "import warnings\n",
    "warnings.filterwarnings(\"ignore\")"
   ]
  },
  {
   "cell_type": "code",
   "execution_count": 2,
   "id": "5dbf16d8",
   "metadata": {
    "canvas": {
     "comments": [],
     "componentType": "CodeCell",
     "copiedOriginId": null,
     "diskcache": true,
     "headerColor": "none",
     "id": "34337a1f-b114-4d5c-aaf4-3cab34e78bf6",
     "isComponent": true,
     "name": "Load initial df",
     "parents": [
      {
       "id": "cbcb858c-ca57-4a71-909b-b3c049c6ddb2",
       "name": "Import and Config"
      }
     ]
    },
    "scrolled": true,
    "tags": []
   },
   "outputs": [
    {
     "name": "stdout",
     "output_type": "stream",
     "text": [
      "<class 'pandas.core.frame.DataFrame'>\n",
      "RangeIndex: 4800 entries, 0 to 4799\n",
      "Data columns (total 24 columns):\n",
      " #   Column            Non-Null Count  Dtype  \n",
      "---  ------            --------------  -----  \n",
      " 0   title             4800 non-null   object \n",
      " 1   primary_artist    4800 non-null   object \n",
      " 2   danceability      4800 non-null   float64\n",
      " 3   energy            4800 non-null   float64\n",
      " 4   key               4800 non-null   object \n",
      " 5   loudness          4800 non-null   float64\n",
      " 6   mode              4800 non-null   object \n",
      " 7   speechiness       4800 non-null   float64\n",
      " 8   acousticness      4800 non-null   float64\n",
      " 9   instrumentalness  4800 non-null   float64\n",
      " 10  liveness          4800 non-null   float64\n",
      " 11  valence           4800 non-null   float64\n",
      " 12  tempo             4800 non-null   float64\n",
      " 13  time_signature    4800 non-null   int64  \n",
      " 14  duration_s        4800 non-null   int64  \n",
      " 15  year              4800 non-null   int64  \n",
      " 16  genres            4800 non-null   object \n",
      " 17  lyrics            4628 non-null   object \n",
      " 18  nltk              4628 non-null   float64\n",
      " 19  Happy             4628 non-null   float64\n",
      " 20  Angry             4628 non-null   float64\n",
      " 21  Surprise          4628 non-null   float64\n",
      " 22  Sad               4628 non-null   float64\n",
      " 23  Fear              4628 non-null   float64\n",
      "dtypes: float64(15), int64(3), object(6)\n",
      "memory usage: 900.1+ KB\n"
     ]
    },
    {
     "data": {
      "text/plain": [
       "None"
      ]
     },
     "metadata": {},
     "output_type": "display_data"
    },
    {
     "data": {
      "text/html": [
       "<div>\n",
       "<style scoped>\n",
       "    .dataframe tbody tr th:only-of-type {\n",
       "        vertical-align: middle;\n",
       "    }\n",
       "\n",
       "    .dataframe tbody tr th {\n",
       "        vertical-align: top;\n",
       "    }\n",
       "\n",
       "    .dataframe thead th {\n",
       "        text-align: right;\n",
       "    }\n",
       "</style>\n",
       "<table border=\"1\" class=\"dataframe\">\n",
       "  <thead>\n",
       "    <tr style=\"text-align: right;\">\n",
       "      <th></th>\n",
       "      <th>count</th>\n",
       "      <th>mean</th>\n",
       "      <th>std</th>\n",
       "      <th>min</th>\n",
       "      <th>25%</th>\n",
       "      <th>50%</th>\n",
       "      <th>75%</th>\n",
       "      <th>max</th>\n",
       "    </tr>\n",
       "  </thead>\n",
       "  <tbody>\n",
       "    <tr>\n",
       "      <th>danceability</th>\n",
       "      <td>4800.0</td>\n",
       "      <td>0.630908</td>\n",
       "      <td>0.147346</td>\n",
       "      <td>0.135000</td>\n",
       "      <td>0.539000</td>\n",
       "      <td>0.644000</td>\n",
       "      <td>0.734000</td>\n",
       "      <td>0.980</td>\n",
       "    </tr>\n",
       "    <tr>\n",
       "      <th>energy</th>\n",
       "      <td>4800.0</td>\n",
       "      <td>0.663262</td>\n",
       "      <td>0.189208</td>\n",
       "      <td>0.026400</td>\n",
       "      <td>0.534750</td>\n",
       "      <td>0.686000</td>\n",
       "      <td>0.817000</td>\n",
       "      <td>0.996</td>\n",
       "    </tr>\n",
       "    <tr>\n",
       "      <th>loudness</th>\n",
       "      <td>4800.0</td>\n",
       "      <td>-7.941893</td>\n",
       "      <td>3.454099</td>\n",
       "      <td>-24.709000</td>\n",
       "      <td>-10.088500</td>\n",
       "      <td>-7.247000</td>\n",
       "      <td>-5.304500</td>\n",
       "      <td>-0.140</td>\n",
       "    </tr>\n",
       "    <tr>\n",
       "      <th>speechiness</th>\n",
       "      <td>4800.0</td>\n",
       "      <td>0.071971</td>\n",
       "      <td>0.075093</td>\n",
       "      <td>0.022500</td>\n",
       "      <td>0.032700</td>\n",
       "      <td>0.043100</td>\n",
       "      <td>0.071825</td>\n",
       "      <td>0.911</td>\n",
       "    </tr>\n",
       "    <tr>\n",
       "      <th>acousticness</th>\n",
       "      <td>4800.0</td>\n",
       "      <td>0.199933</td>\n",
       "      <td>0.226299</td>\n",
       "      <td>0.000005</td>\n",
       "      <td>0.026075</td>\n",
       "      <td>0.106000</td>\n",
       "      <td>0.305000</td>\n",
       "      <td>0.978</td>\n",
       "    </tr>\n",
       "    <tr>\n",
       "      <th>instrumentalness</th>\n",
       "      <td>4800.0</td>\n",
       "      <td>0.028952</td>\n",
       "      <td>0.118180</td>\n",
       "      <td>0.000000</td>\n",
       "      <td>0.000000</td>\n",
       "      <td>0.000009</td>\n",
       "      <td>0.000961</td>\n",
       "      <td>0.985</td>\n",
       "    </tr>\n",
       "    <tr>\n",
       "      <th>liveness</th>\n",
       "      <td>4800.0</td>\n",
       "      <td>0.173598</td>\n",
       "      <td>0.141214</td>\n",
       "      <td>0.015000</td>\n",
       "      <td>0.083575</td>\n",
       "      <td>0.119000</td>\n",
       "      <td>0.223000</td>\n",
       "      <td>0.989</td>\n",
       "    </tr>\n",
       "    <tr>\n",
       "      <th>valence</th>\n",
       "      <td>4800.0</td>\n",
       "      <td>0.597184</td>\n",
       "      <td>0.240588</td>\n",
       "      <td>0.038100</td>\n",
       "      <td>0.410000</td>\n",
       "      <td>0.615500</td>\n",
       "      <td>0.800000</td>\n",
       "      <td>0.989</td>\n",
       "    </tr>\n",
       "    <tr>\n",
       "      <th>tempo</th>\n",
       "      <td>4800.0</td>\n",
       "      <td>119.899201</td>\n",
       "      <td>26.666675</td>\n",
       "      <td>50.937000</td>\n",
       "      <td>99.981000</td>\n",
       "      <td>119.536500</td>\n",
       "      <td>133.935750</td>\n",
       "      <td>210.857</td>\n",
       "    </tr>\n",
       "    <tr>\n",
       "      <th>time_signature</th>\n",
       "      <td>4800.0</td>\n",
       "      <td>3.975208</td>\n",
       "      <td>0.209212</td>\n",
       "      <td>1.000000</td>\n",
       "      <td>4.000000</td>\n",
       "      <td>4.000000</td>\n",
       "      <td>4.000000</td>\n",
       "      <td>5.000</td>\n",
       "    </tr>\n",
       "    <tr>\n",
       "      <th>duration_s</th>\n",
       "      <td>4800.0</td>\n",
       "      <td>243.995833</td>\n",
       "      <td>60.975572</td>\n",
       "      <td>93.000000</td>\n",
       "      <td>209.000000</td>\n",
       "      <td>235.000000</td>\n",
       "      <td>269.000000</td>\n",
       "      <td>1561.000</td>\n",
       "    </tr>\n",
       "    <tr>\n",
       "      <th>year</th>\n",
       "      <td>4800.0</td>\n",
       "      <td>1994.250000</td>\n",
       "      <td>14.659432</td>\n",
       "      <td>1970.000000</td>\n",
       "      <td>1981.750000</td>\n",
       "      <td>1993.500000</td>\n",
       "      <td>2007.250000</td>\n",
       "      <td>2019.000</td>\n",
       "    </tr>\n",
       "    <tr>\n",
       "      <th>nltk</th>\n",
       "      <td>4628.0</td>\n",
       "      <td>0.402634</td>\n",
       "      <td>0.778731</td>\n",
       "      <td>-0.999600</td>\n",
       "      <td>-0.361225</td>\n",
       "      <td>0.904250</td>\n",
       "      <td>0.983300</td>\n",
       "      <td>1.000</td>\n",
       "    </tr>\n",
       "    <tr>\n",
       "      <th>Happy</th>\n",
       "      <td>4628.0</td>\n",
       "      <td>0.180361</td>\n",
       "      <td>0.157591</td>\n",
       "      <td>0.000000</td>\n",
       "      <td>0.060000</td>\n",
       "      <td>0.140000</td>\n",
       "      <td>0.260000</td>\n",
       "      <td>1.000</td>\n",
       "    </tr>\n",
       "    <tr>\n",
       "      <th>Angry</th>\n",
       "      <td>4628.0</td>\n",
       "      <td>0.085707</td>\n",
       "      <td>0.099057</td>\n",
       "      <td>0.000000</td>\n",
       "      <td>0.000000</td>\n",
       "      <td>0.060000</td>\n",
       "      <td>0.120000</td>\n",
       "      <td>1.000</td>\n",
       "    </tr>\n",
       "    <tr>\n",
       "      <th>Surprise</th>\n",
       "      <td>4628.0</td>\n",
       "      <td>0.207377</td>\n",
       "      <td>0.156617</td>\n",
       "      <td>0.000000</td>\n",
       "      <td>0.100000</td>\n",
       "      <td>0.180000</td>\n",
       "      <td>0.290000</td>\n",
       "      <td>1.000</td>\n",
       "    </tr>\n",
       "    <tr>\n",
       "      <th>Sad</th>\n",
       "      <td>4628.0</td>\n",
       "      <td>0.281424</td>\n",
       "      <td>0.163730</td>\n",
       "      <td>0.000000</td>\n",
       "      <td>0.170000</td>\n",
       "      <td>0.260000</td>\n",
       "      <td>0.380000</td>\n",
       "      <td>1.000</td>\n",
       "    </tr>\n",
       "    <tr>\n",
       "      <th>Fear</th>\n",
       "      <td>4628.0</td>\n",
       "      <td>0.239676</td>\n",
       "      <td>0.160497</td>\n",
       "      <td>0.000000</td>\n",
       "      <td>0.120000</td>\n",
       "      <td>0.220000</td>\n",
       "      <td>0.330000</td>\n",
       "      <td>1.000</td>\n",
       "    </tr>\n",
       "  </tbody>\n",
       "</table>\n",
       "</div>"
      ],
      "text/plain": [
       "                   count         mean        std          min          25%  \\\n",
       "danceability      4800.0     0.630908   0.147346     0.135000     0.539000   \n",
       "energy            4800.0     0.663262   0.189208     0.026400     0.534750   \n",
       "loudness          4800.0    -7.941893   3.454099   -24.709000   -10.088500   \n",
       "speechiness       4800.0     0.071971   0.075093     0.022500     0.032700   \n",
       "acousticness      4800.0     0.199933   0.226299     0.000005     0.026075   \n",
       "instrumentalness  4800.0     0.028952   0.118180     0.000000     0.000000   \n",
       "liveness          4800.0     0.173598   0.141214     0.015000     0.083575   \n",
       "valence           4800.0     0.597184   0.240588     0.038100     0.410000   \n",
       "tempo             4800.0   119.899201  26.666675    50.937000    99.981000   \n",
       "time_signature    4800.0     3.975208   0.209212     1.000000     4.000000   \n",
       "duration_s        4800.0   243.995833  60.975572    93.000000   209.000000   \n",
       "year              4800.0  1994.250000  14.659432  1970.000000  1981.750000   \n",
       "nltk              4628.0     0.402634   0.778731    -0.999600    -0.361225   \n",
       "Happy             4628.0     0.180361   0.157591     0.000000     0.060000   \n",
       "Angry             4628.0     0.085707   0.099057     0.000000     0.000000   \n",
       "Surprise          4628.0     0.207377   0.156617     0.000000     0.100000   \n",
       "Sad               4628.0     0.281424   0.163730     0.000000     0.170000   \n",
       "Fear              4628.0     0.239676   0.160497     0.000000     0.120000   \n",
       "\n",
       "                          50%          75%       max  \n",
       "danceability         0.644000     0.734000     0.980  \n",
       "energy               0.686000     0.817000     0.996  \n",
       "loudness            -7.247000    -5.304500    -0.140  \n",
       "speechiness          0.043100     0.071825     0.911  \n",
       "acousticness         0.106000     0.305000     0.978  \n",
       "instrumentalness     0.000009     0.000961     0.985  \n",
       "liveness             0.119000     0.223000     0.989  \n",
       "valence              0.615500     0.800000     0.989  \n",
       "tempo              119.536500   133.935750   210.857  \n",
       "time_signature       4.000000     4.000000     5.000  \n",
       "duration_s         235.000000   269.000000  1561.000  \n",
       "year              1993.500000  2007.250000  2019.000  \n",
       "nltk                 0.904250     0.983300     1.000  \n",
       "Happy                0.140000     0.260000     1.000  \n",
       "Angry                0.060000     0.120000     1.000  \n",
       "Surprise             0.180000     0.290000     1.000  \n",
       "Sad                  0.260000     0.380000     1.000  \n",
       "Fear                 0.220000     0.330000     1.000  "
      ]
     },
     "metadata": {},
     "output_type": "display_data"
    },
    {
     "data": {
      "text/html": [
       "<div>\n",
       "<style scoped>\n",
       "    .dataframe tbody tr th:only-of-type {\n",
       "        vertical-align: middle;\n",
       "    }\n",
       "\n",
       "    .dataframe tbody tr th {\n",
       "        vertical-align: top;\n",
       "    }\n",
       "\n",
       "    .dataframe thead th {\n",
       "        text-align: right;\n",
       "    }\n",
       "</style>\n",
       "<table border=\"1\" class=\"dataframe\">\n",
       "  <thead>\n",
       "    <tr style=\"text-align: right;\">\n",
       "      <th></th>\n",
       "      <th>title</th>\n",
       "      <th>primary_artist</th>\n",
       "      <th>danceability</th>\n",
       "      <th>energy</th>\n",
       "      <th>key</th>\n",
       "      <th>loudness</th>\n",
       "      <th>mode</th>\n",
       "      <th>speechiness</th>\n",
       "      <th>acousticness</th>\n",
       "      <th>instrumentalness</th>\n",
       "      <th>...</th>\n",
       "      <th>duration_s</th>\n",
       "      <th>year</th>\n",
       "      <th>genres</th>\n",
       "      <th>lyrics</th>\n",
       "      <th>nltk</th>\n",
       "      <th>Happy</th>\n",
       "      <th>Angry</th>\n",
       "      <th>Surprise</th>\n",
       "      <th>Sad</th>\n",
       "      <th>Fear</th>\n",
       "    </tr>\n",
       "  </thead>\n",
       "  <tbody>\n",
       "    <tr>\n",
       "      <th>0</th>\n",
       "      <td>Let It Be - Remastered 2009</td>\n",
       "      <td>The Beatles</td>\n",
       "      <td>0.443</td>\n",
       "      <td>0.403</td>\n",
       "      <td>C</td>\n",
       "      <td>-8.339</td>\n",
       "      <td>Major</td>\n",
       "      <td>0.0322</td>\n",
       "      <td>0.6310</td>\n",
       "      <td>0.000000</td>\n",
       "      <td>...</td>\n",
       "      <td>243</td>\n",
       "      <td>1970</td>\n",
       "      <td>['rock']</td>\n",
       "      <td>When I find myself in times of trouble Mother ...</td>\n",
       "      <td>0.9856</td>\n",
       "      <td>0.00</td>\n",
       "      <td>0.35</td>\n",
       "      <td>0.00</td>\n",
       "      <td>0.05</td>\n",
       "      <td>0.60</td>\n",
       "    </tr>\n",
       "    <tr>\n",
       "      <th>1</th>\n",
       "      <td>Cecilia</td>\n",
       "      <td>Simon &amp; Garfunkel</td>\n",
       "      <td>0.755</td>\n",
       "      <td>0.876</td>\n",
       "      <td>C</td>\n",
       "      <td>-8.867</td>\n",
       "      <td>Major</td>\n",
       "      <td>0.0362</td>\n",
       "      <td>0.3570</td>\n",
       "      <td>0.000005</td>\n",
       "      <td>...</td>\n",
       "      <td>175</td>\n",
       "      <td>1970</td>\n",
       "      <td>['folk', 'rock']</td>\n",
       "      <td>Cilia youre breaking my heart. Youre shaking m...</td>\n",
       "      <td>0.9716</td>\n",
       "      <td>0.17</td>\n",
       "      <td>0.00</td>\n",
       "      <td>0.17</td>\n",
       "      <td>0.40</td>\n",
       "      <td>0.27</td>\n",
       "    </tr>\n",
       "    <tr>\n",
       "      <th>2</th>\n",
       "      <td>Son of a Preacher Man</td>\n",
       "      <td>Aretha Franklin</td>\n",
       "      <td>0.474</td>\n",
       "      <td>0.473</td>\n",
       "      <td>D</td>\n",
       "      <td>-11.454</td>\n",
       "      <td>Major</td>\n",
       "      <td>0.0601</td>\n",
       "      <td>0.5450</td>\n",
       "      <td>0.000001</td>\n",
       "      <td>...</td>\n",
       "      <td>199</td>\n",
       "      <td>1970</td>\n",
       "      <td>['blues', 'soul']</td>\n",
       "      <td>Billy Ray was a preachers son. And when his da...</td>\n",
       "      <td>0.9271</td>\n",
       "      <td>0.00</td>\n",
       "      <td>0.20</td>\n",
       "      <td>0.30</td>\n",
       "      <td>0.40</td>\n",
       "      <td>0.10</td>\n",
       "    </tr>\n",
       "    <tr>\n",
       "      <th>3</th>\n",
       "      <td>Who'll Stop The Rain</td>\n",
       "      <td>Creedence Clearwater Revival</td>\n",
       "      <td>0.598</td>\n",
       "      <td>0.797</td>\n",
       "      <td>G</td>\n",
       "      <td>-6.793</td>\n",
       "      <td>Major</td>\n",
       "      <td>0.0332</td>\n",
       "      <td>0.0424</td>\n",
       "      <td>0.000407</td>\n",
       "      <td>...</td>\n",
       "      <td>147</td>\n",
       "      <td>1970</td>\n",
       "      <td>['rock']</td>\n",
       "      <td>Long as I remember the rain been coming down. ...</td>\n",
       "      <td>0.1280</td>\n",
       "      <td>0.12</td>\n",
       "      <td>0.06</td>\n",
       "      <td>0.47</td>\n",
       "      <td>0.12</td>\n",
       "      <td>0.24</td>\n",
       "    </tr>\n",
       "    <tr>\n",
       "      <th>4</th>\n",
       "      <td>Big Yellow Taxi</td>\n",
       "      <td>Joni Mitchell</td>\n",
       "      <td>0.611</td>\n",
       "      <td>0.470</td>\n",
       "      <td>E</td>\n",
       "      <td>-9.135</td>\n",
       "      <td>Major</td>\n",
       "      <td>0.0356</td>\n",
       "      <td>0.5790</td>\n",
       "      <td>0.000000</td>\n",
       "      <td>...</td>\n",
       "      <td>135</td>\n",
       "      <td>1970</td>\n",
       "      <td>['folk', 'rock']</td>\n",
       "      <td>They paved paradise and put up a parking lot. ...</td>\n",
       "      <td>0.9091</td>\n",
       "      <td>0.03</td>\n",
       "      <td>0.10</td>\n",
       "      <td>0.03</td>\n",
       "      <td>0.41</td>\n",
       "      <td>0.41</td>\n",
       "    </tr>\n",
       "    <tr>\n",
       "      <th>...</th>\n",
       "      <td>...</td>\n",
       "      <td>...</td>\n",
       "      <td>...</td>\n",
       "      <td>...</td>\n",
       "      <td>...</td>\n",
       "      <td>...</td>\n",
       "      <td>...</td>\n",
       "      <td>...</td>\n",
       "      <td>...</td>\n",
       "      <td>...</td>\n",
       "      <td>...</td>\n",
       "      <td>...</td>\n",
       "      <td>...</td>\n",
       "      <td>...</td>\n",
       "      <td>...</td>\n",
       "      <td>...</td>\n",
       "      <td>...</td>\n",
       "      <td>...</td>\n",
       "      <td>...</td>\n",
       "      <td>...</td>\n",
       "      <td>...</td>\n",
       "    </tr>\n",
       "    <tr>\n",
       "      <th>4795</th>\n",
       "      <td>Ladbroke Grove</td>\n",
       "      <td>AJ Tracey</td>\n",
       "      <td>0.902</td>\n",
       "      <td>0.839</td>\n",
       "      <td>B</td>\n",
       "      <td>-9.447</td>\n",
       "      <td>minor</td>\n",
       "      <td>0.2080</td>\n",
       "      <td>0.0933</td>\n",
       "      <td>0.000000</td>\n",
       "      <td>...</td>\n",
       "      <td>191</td>\n",
       "      <td>2019</td>\n",
       "      <td>['dance/electronic', 'hip hop', 'rock']</td>\n",
       "      <td>No one sees. No one. One. No one sees. No one ...</td>\n",
       "      <td>-0.9618</td>\n",
       "      <td>0.00</td>\n",
       "      <td>0.00</td>\n",
       "      <td>0.00</td>\n",
       "      <td>0.00</td>\n",
       "      <td>1.00</td>\n",
       "    </tr>\n",
       "    <tr>\n",
       "      <th>4796</th>\n",
       "      <td>Slide Away</td>\n",
       "      <td>Miley Cyrus</td>\n",
       "      <td>0.530</td>\n",
       "      <td>0.538</td>\n",
       "      <td>F</td>\n",
       "      <td>-6.672</td>\n",
       "      <td>Major</td>\n",
       "      <td>0.0335</td>\n",
       "      <td>0.1700</td>\n",
       "      <td>0.000003</td>\n",
       "      <td>...</td>\n",
       "      <td>234</td>\n",
       "      <td>2019</td>\n",
       "      <td>['pop']</td>\n",
       "      <td>Wooooh wooooh wooooh. Wooooh wooooh wooooh. On...</td>\n",
       "      <td>-0.7753</td>\n",
       "      <td>0.09</td>\n",
       "      <td>0.36</td>\n",
       "      <td>0.09</td>\n",
       "      <td>0.27</td>\n",
       "      <td>0.18</td>\n",
       "    </tr>\n",
       "    <tr>\n",
       "      <th>4797</th>\n",
       "      <td>The Git Up</td>\n",
       "      <td>Blanco Brown</td>\n",
       "      <td>0.847</td>\n",
       "      <td>0.678</td>\n",
       "      <td>A</td>\n",
       "      <td>-8.635</td>\n",
       "      <td>Major</td>\n",
       "      <td>0.1090</td>\n",
       "      <td>0.0669</td>\n",
       "      <td>0.000000</td>\n",
       "      <td>...</td>\n",
       "      <td>201</td>\n",
       "      <td>2019</td>\n",
       "      <td>['rap']</td>\n",
       "      <td>Right now. I just need you to get real loose. ...</td>\n",
       "      <td>0.9853</td>\n",
       "      <td>0.33</td>\n",
       "      <td>0.00</td>\n",
       "      <td>0.06</td>\n",
       "      <td>0.33</td>\n",
       "      <td>0.28</td>\n",
       "    </tr>\n",
       "    <tr>\n",
       "      <th>4798</th>\n",
       "      <td>Easier</td>\n",
       "      <td>5 Seconds of Summer</td>\n",
       "      <td>0.562</td>\n",
       "      <td>0.460</td>\n",
       "      <td>F</td>\n",
       "      <td>-4.173</td>\n",
       "      <td>Major</td>\n",
       "      <td>0.2590</td>\n",
       "      <td>0.4760</td>\n",
       "      <td>0.000000</td>\n",
       "      <td>...</td>\n",
       "      <td>158</td>\n",
       "      <td>2019</td>\n",
       "      <td>['pop']</td>\n",
       "      <td>Is it easier to stay Is it easier to go. I don...</td>\n",
       "      <td>0.9900</td>\n",
       "      <td>0.29</td>\n",
       "      <td>0.29</td>\n",
       "      <td>0.00</td>\n",
       "      <td>0.21</td>\n",
       "      <td>0.21</td>\n",
       "    </tr>\n",
       "    <tr>\n",
       "      <th>4799</th>\n",
       "      <td>Lost Without You</td>\n",
       "      <td>Freya Ridings</td>\n",
       "      <td>0.386</td>\n",
       "      <td>0.136</td>\n",
       "      <td>F♯/G♭</td>\n",
       "      <td>-9.267</td>\n",
       "      <td>Major</td>\n",
       "      <td>0.0458</td>\n",
       "      <td>0.9320</td>\n",
       "      <td>0.000000</td>\n",
       "      <td>...</td>\n",
       "      <td>226</td>\n",
       "      <td>2019</td>\n",
       "      <td>['pop']</td>\n",
       "      <td>Standing on the platform watching you go. Its ...</td>\n",
       "      <td>-0.8271</td>\n",
       "      <td>0.19</td>\n",
       "      <td>0.04</td>\n",
       "      <td>0.15</td>\n",
       "      <td>0.42</td>\n",
       "      <td>0.19</td>\n",
       "    </tr>\n",
       "  </tbody>\n",
       "</table>\n",
       "<p>4800 rows × 24 columns</p>\n",
       "</div>"
      ],
      "text/plain": [
       "                            title                primary_artist  danceability  \\\n",
       "0     Let It Be - Remastered 2009                   The Beatles         0.443   \n",
       "1                         Cecilia             Simon & Garfunkel         0.755   \n",
       "2           Son of a Preacher Man               Aretha Franklin         0.474   \n",
       "3            Who'll Stop The Rain  Creedence Clearwater Revival         0.598   \n",
       "4                 Big Yellow Taxi                 Joni Mitchell         0.611   \n",
       "...                           ...                           ...           ...   \n",
       "4795               Ladbroke Grove                     AJ Tracey         0.902   \n",
       "4796                   Slide Away                   Miley Cyrus         0.530   \n",
       "4797                   The Git Up                  Blanco Brown         0.847   \n",
       "4798                       Easier           5 Seconds of Summer         0.562   \n",
       "4799             Lost Without You                 Freya Ridings         0.386   \n",
       "\n",
       "      energy    key  loudness   mode  speechiness  acousticness  \\\n",
       "0      0.403      C    -8.339  Major       0.0322        0.6310   \n",
       "1      0.876      C    -8.867  Major       0.0362        0.3570   \n",
       "2      0.473      D   -11.454  Major       0.0601        0.5450   \n",
       "3      0.797      G    -6.793  Major       0.0332        0.0424   \n",
       "4      0.470      E    -9.135  Major       0.0356        0.5790   \n",
       "...      ...    ...       ...    ...          ...           ...   \n",
       "4795   0.839      B    -9.447  minor       0.2080        0.0933   \n",
       "4796   0.538      F    -6.672  Major       0.0335        0.1700   \n",
       "4797   0.678      A    -8.635  Major       0.1090        0.0669   \n",
       "4798   0.460      F    -4.173  Major       0.2590        0.4760   \n",
       "4799   0.136  F♯/G♭    -9.267  Major       0.0458        0.9320   \n",
       "\n",
       "      instrumentalness  ...  duration_s  year  \\\n",
       "0             0.000000  ...         243  1970   \n",
       "1             0.000005  ...         175  1970   \n",
       "2             0.000001  ...         199  1970   \n",
       "3             0.000407  ...         147  1970   \n",
       "4             0.000000  ...         135  1970   \n",
       "...                ...  ...         ...   ...   \n",
       "4795          0.000000  ...         191  2019   \n",
       "4796          0.000003  ...         234  2019   \n",
       "4797          0.000000  ...         201  2019   \n",
       "4798          0.000000  ...         158  2019   \n",
       "4799          0.000000  ...         226  2019   \n",
       "\n",
       "                                       genres  \\\n",
       "0                                    ['rock']   \n",
       "1                            ['folk', 'rock']   \n",
       "2                           ['blues', 'soul']   \n",
       "3                                    ['rock']   \n",
       "4                            ['folk', 'rock']   \n",
       "...                                       ...   \n",
       "4795  ['dance/electronic', 'hip hop', 'rock']   \n",
       "4796                                  ['pop']   \n",
       "4797                                  ['rap']   \n",
       "4798                                  ['pop']   \n",
       "4799                                  ['pop']   \n",
       "\n",
       "                                                 lyrics    nltk  Happy Angry  \\\n",
       "0     When I find myself in times of trouble Mother ...  0.9856   0.00  0.35   \n",
       "1     Cilia youre breaking my heart. Youre shaking m...  0.9716   0.17  0.00   \n",
       "2     Billy Ray was a preachers son. And when his da...  0.9271   0.00  0.20   \n",
       "3     Long as I remember the rain been coming down. ...  0.1280   0.12  0.06   \n",
       "4     They paved paradise and put up a parking lot. ...  0.9091   0.03  0.10   \n",
       "...                                                 ...     ...    ...   ...   \n",
       "4795  No one sees. No one. One. No one sees. No one ... -0.9618   0.00  0.00   \n",
       "4796  Wooooh wooooh wooooh. Wooooh wooooh wooooh. On... -0.7753   0.09  0.36   \n",
       "4797  Right now. I just need you to get real loose. ...  0.9853   0.33  0.00   \n",
       "4798  Is it easier to stay Is it easier to go. I don...  0.9900   0.29  0.29   \n",
       "4799  Standing on the platform watching you go. Its ... -0.8271   0.19  0.04   \n",
       "\n",
       "     Surprise   Sad  Fear  \n",
       "0        0.00  0.05  0.60  \n",
       "1        0.17  0.40  0.27  \n",
       "2        0.30  0.40  0.10  \n",
       "3        0.47  0.12  0.24  \n",
       "4        0.03  0.41  0.41  \n",
       "...       ...   ...   ...  \n",
       "4795     0.00  0.00  1.00  \n",
       "4796     0.09  0.27  0.18  \n",
       "4797     0.06  0.33  0.28  \n",
       "4798     0.00  0.21  0.21  \n",
       "4799     0.15  0.42  0.19  \n",
       "\n",
       "[4800 rows x 24 columns]"
      ]
     },
     "execution_count": 2,
     "metadata": {},
     "output_type": "execute_result"
    }
   ],
   "source": [
    "path = './data'\n",
    "df = pd.read_csv(path+'/songs_df_final.csv')\n",
    "\n",
    "display(df.info())\n",
    "display(df.describe().T)\n",
    "df"
   ]
  },
  {
   "cell_type": "code",
   "execution_count": null,
   "id": "520cec52-5245-4a24-adad-0beb7c9bd3db",
   "metadata": {
    "canvas": {
     "comments": [],
     "componentType": "CodeCell",
     "copiedOriginId": null,
     "diskcache": true,
     "headerColor": "inherit",
     "id": "48482bb3-ba5e-4e80-a9b8-9ab59d7c42c3",
     "isComponent": true,
     "name": "Reformat some columns",
     "parents": [
      {
       "id": "34337a1f-b114-4d5c-aaf4-3cab34e78bf6",
       "name": "Load initial df"
      }
     ]
    },
    "scrolled": true,
    "tags": []
   },
   "outputs": [],
   "source": [
    "# Reformat 'mode' and 'key' columns\n",
    "# df.drop_duplicates()\n",
    "# df['mode'].replace({1: 'Major', 0: 'minor'}, inplace=True)\n",
    "# key_dict = { 0: 'C', 1: 'C♯/D♭', 2: 'D', 3: 'D♯/E♭',\n",
    "#              4: 'E', 5: 'F', 6: 'F♯/G♭', 7: 'G',\n",
    "#              8: 'G♯/A♭', 9: 'A', 10: 'A♯/B♭', 11: 'B',\n",
    "#              -1: 'Unknown'\n",
    "#            }\n",
    "# df['key'].replace(key_dict, inplace=True)\n",
    "\n",
    "# df"
   ]
  },
  {
   "cell_type": "code",
   "execution_count": null,
   "id": "cc028a95",
   "metadata": {
    "canvas": {
     "comments": [],
     "componentType": "CodeCell",
     "copiedOriginId": null,
     "diskcache": false,
     "headerColor": "none",
     "id": "8be66c61-0977-421e-b7aa-c65de5947893",
     "isComponent": false,
     "name": "",
     "parents": []
    },
    "tags": []
   },
   "outputs": [],
   "source": [
    "songs_per_year = (df.year.value_counts().rename_axis('year').reset_index(name='songs'))\n",
    "\n",
    "plt.figure(figsize=(18,6))\n",
    "ax = sns.barplot(x = 'year', y = 'songs', data = songs_per_year)\n",
    "plt.ylabel('Number of songs', size = 15)\n",
    "plt.xlabel('Year', size = 15)\n",
    "plt.title('Number of songs released per year')\n",
    "plt.xticks(fontsize=12, rotation = 50)\n",
    "ax.bar_label(ax.containers[0],size = 10)\n",
    "plt.show()\n",
    "\n",
    "# The df is missing data from 1997 and 2004"
   ]
  },
  {
   "cell_type": "markdown",
   "id": "2d615dfe-f3c7-497e-8296-12d817f66496",
   "metadata": {
    "canvas": {
     "comments": [],
     "componentType": "CodeCell",
     "copiedOriginId": null,
     "diskcache": false,
     "headerColor": "inherit",
     "id": "40891eca-2865-4428-a35f-4e9aebce90d4",
     "isComponent": false,
     "name": "",
     "parents": []
    }
   },
   "source": [
    "# **Analysis**"
   ]
  },
  {
   "cell_type": "markdown",
   "id": "a8582060-abe0-49ee-aa44-939f37a33595",
   "metadata": {
    "canvas": {
     "comments": [],
     "componentType": "CodeCell",
     "copiedOriginId": null,
     "diskcache": false,
     "headerColor": "inherit",
     "id": "eb7d9278-f0eb-4da7-91fd-7b6a831c95d8",
     "isComponent": false,
     "name": "",
     "parents": []
    }
   },
   "source": [
    "## Distribution of artists, genres and music features"
   ]
  },
  {
   "cell_type": "code",
   "execution_count": null,
   "id": "172f8ab5-d1df-44f1-a731-2025cd891c81",
   "metadata": {
    "canvas": {
     "comments": [],
     "componentType": "CodeCell",
     "copiedOriginId": null,
     "diskcache": false,
     "headerColor": "inherit",
     "id": "64043362-3f86-4947-9329-9122557430f0",
     "isComponent": false,
     "name": "",
     "parents": []
    }
   },
   "outputs": [],
   "source": [
    "# Histogram\n",
    "df.hist(bins=25,figsize=(20,15))\n",
    "plt.show()"
   ]
  },
  {
   "cell_type": "code",
   "execution_count": null,
   "id": "c027d578-c63a-493d-b994-e071cdd8d7ae",
   "metadata": {
    "canvas": {
     "comments": [],
     "componentType": "CodeCell",
     "copiedOriginId": null,
     "diskcache": false,
     "headerColor": "inherit",
     "id": "9b159539-c7a8-4f5d-91d1-95e5b778c83d",
     "isComponent": false,
     "name": "",
     "parents": []
    },
    "tags": []
   },
   "outputs": [],
   "source": [
    "# Descending counts of keys\n",
    "print('Common keys: \\n', df['key'].value_counts().sort_values(ascending=False), '\\n')\n",
    "\n",
    "# Descending counts of appearances of artists\n",
    "artists = df['primary_artist'].value_counts().sort_values(ascending=False)\n",
    "artists.columns = ['artist', 'appearances']\n",
    "print('Common artists: \\n', artists)\n",
    "\n",
    "fig = plt.figure(figsize = (15,7))\n",
    "df.groupby('primary_artist')['title'].agg(len).sort_values(ascending = False)[:30].plot(kind = 'bar')\n",
    "plt.xlabel('Artist Name', fontsize = 20)\n",
    "plt.ylabel('Track Counts', fontsize = 20)\n",
    "plt.title('Top 30 artists with most appearances on the chart', fontsize = 30)"
   ]
  },
  {
   "cell_type": "code",
   "execution_count": null,
   "id": "a370f8bb-16d0-4cc5-9a41-358d33fe73a6",
   "metadata": {
    "canvas": {
     "comments": [],
     "componentType": "CodeCell",
     "copiedOriginId": null,
     "diskcache": false,
     "headerColor": "inherit",
     "id": "d32f5646-7730-4268-aa15-9a51580b7fb1",
     "isComponent": false,
     "name": "",
     "parents": []
    }
   },
   "outputs": [],
   "source": [
    "artists = df['primary_artist'].value_counts()\n",
    "px.pie(names=['1 song', '>1 songs'], \n",
    "       values=[len(artists.loc[lambda x:x==1]), \n",
    "          len(artists)-len(artists.loc[lambda x:x==1])\n",
    "         ],\n",
    "       title=\"Artists with only 1 hit versus artists with more than 1 hit\",\n",
    "      ).show()\n",
    "\n",
    "px.pie(values=[artists[:50].sum(),4800-artists[:50].sum()], \n",
    "       names=['top 50 artists',f'remaining {len(artists)-50} artists'], \n",
    "       title=\"Distribution of songs belonging to top 50 artists\",\n",
    "      )"
   ]
  },
  {
   "cell_type": "code",
   "execution_count": null,
   "id": "8ca5913c-be7e-4ea6-a396-b173173fa9d3",
   "metadata": {
    "canvas": {
     "comments": [],
     "componentType": "CodeCell",
     "copiedOriginId": null,
     "diskcache": false,
     "headerColor": "inherit",
     "id": "b6ec7609-ef91-4bad-95e5-a2b827ce96f9",
     "isComponent": false,
     "name": "",
     "parents": []
    }
   },
   "outputs": [],
   "source": [
    "fig=px.histogram(df.groupby('genres',as_index=False).count().sort_values(by='title',ascending=False),x='genres',y='title',template='simple_white',marginal='box',title='<b>Total songs based on genres</b>')\n",
    "fig.update_layout(title_x=0.5)"
   ]
  },
  {
   "cell_type": "code",
   "execution_count": null,
   "id": "4c96b39a-19db-4bb8-aaa7-26e9ee781c92",
   "metadata": {
    "canvas": {
     "comments": [],
     "componentType": "CodeCell",
     "copiedOriginId": null,
     "diskcache": false,
     "headerColor": "none",
     "id": "3c5fd5e2-4325-4e43-b64c-fb41a15369bd",
     "isComponent": false,
     "name": "",
     "parents": []
    }
   },
   "outputs": [],
   "source": [
    "# Some pie charts of key, mode and time signature\n",
    "# ig, ax = plt.subplots(figsize=(6, 3), subplot_kw=dict(aspect=\"equal\"))\n",
    "# key_labels = sorted(df['key'].unique())\n",
    "# key_sizes = df['key'].value_counts().sort_index().to_list()\n",
    "# wedges, texts = ax.pie(key_sizes, wedgeprops=dict(width=0.5), startangle=-40)\n",
    "# bbox_props = dict(boxstyle=\"square,pad=0.3\", fc=\"w\", ec=\"k\", lw=0.72)\n",
    "# kw = dict(arrowprops=dict(arrowstyle=\"-\"),\n",
    "#           bbox=bbox_props, zorder=0, va=\"center\")\n",
    "\n",
    "# for i, p in enumerate(wedges):\n",
    "#     ang = (p.theta2 - p.theta1)/2. + p.theta1\n",
    "#     y = np.sin(np.deg2rad(ang))\n",
    "#     x = np.cos(np.deg2rad(ang))\n",
    "#     horizontalalignment = {-1: \"right\", 1: \"left\"}[int(np.sign(x))]\n",
    "#     connectionstyle = \"angle,angleA=0,angleB={}\".format(ang)\n",
    "#     kw[\"arrowprops\"].update({\"connectionstyle\": connectionstyle})\n",
    "#     ax.annotate(key_labels[i], xy=(x, y), xytext=(1.35*np.sign(x), 1.4*y),\n",
    "#                 horizontalalignment=horizontalalignment, **kw)\n",
    "\n",
    "# ax.set_title(\"Distribution of keys\")\n",
    "# plt.show()\n",
    "\n",
    "# mode_sizes = df['mode'].value_counts().sort_index().to_list()\n",
    "# mode_labels = sorted(df['mode'].unique())\n",
    "# explode = (0, 0)\n",
    "# fig2, ax2 = plt.subplots()\n",
    "# ax2.pie(mode_sizes, explode=explode, labels=mode_labels, autopct='%1.1f%%', shadow=True, startangle=90)\n",
    "# ax2.axis('equal') \n",
    "# ax2.set_title(\"Distribution of modes\")\n",
    "# plt.show()\n",
    "\n",
    "fig=px.pie(df.groupby('key',as_index=False).count().sort_values(by='title',ascending=False),names='key',values='title',hole=.5,template='simple_white',title='<b>Key')\n",
    "fig.update_layout(title_x=0.5)\n",
    "fig.show()\n",
    "\n",
    "fig=px.pie(df.groupby('mode',as_index=False).count().sort_values(by='title',ascending=False),names='mode',values='title',hole=.5,template='simple_white',title='<b>Mode')\n",
    "fig.update_layout(title_x=0.5)\n",
    "fig.show()\n",
    "\n",
    "fig=px.pie(df.groupby('time_signature',as_index=False).count().sort_values(by='title',ascending=False),names='time_signature',values='title',hole=.5,template='simple_white',title='<b>Time signature')\n",
    "fig.update_layout(title_x=0.5)\n",
    "fig.show()"
   ]
  },
  {
   "cell_type": "code",
   "execution_count": null,
   "id": "f2e63c8a-a2b3-4d4e-92f3-746ac2f93457",
   "metadata": {
    "canvas": {
     "comments": [],
     "componentType": "CodeCell",
     "copiedOriginId": null,
     "diskcache": false,
     "headerColor": "inherit",
     "id": "311c13cd-23d6-4b29-99f7-f77e718a9645",
     "isComponent": false,
     "name": "",
     "parents": []
    }
   },
   "outputs": [],
   "source": [
    "# Some graphs of the features\n",
    "fig,ax = plt.subplots(4,2,figsize=(20,20))\n",
    "sns.distplot(df['tempo'],color='red',ax=ax[0][0],bins=10)\n",
    "sns.distplot(df['energy'],ax=ax[0][1],color='violet',bins=10)\n",
    "sns.distplot(df['loudness'],ax=ax[1][0],color='yellow',bins=10)\n",
    "sns.distplot(df['liveness'],ax=ax[1][1],color='blue',bins=10)\n",
    "sns.distplot(df['acousticness'],ax=ax[2][0],color='green',bins=10)\n",
    "sns.distplot(df['duration_s'],ax=ax[2][1],color='black',bins=10)\n",
    "sns.distplot(df['speechiness'],ax=ax[3][0],color='orange',bins=10)\n",
    "sns.distplot(df['valence'],ax=ax[3][1],color='purple',bins=10)\n",
    "plt.show()"
   ]
  },
  {
   "cell_type": "code",
   "execution_count": null,
   "id": "940549b0-54d2-49ed-a397-403f24256ec9",
   "metadata": {
    "canvas": {
     "comments": [],
     "componentType": "CodeCell",
     "copiedOriginId": null,
     "diskcache": false,
     "headerColor": "inherit",
     "id": "0ffc3eca-5769-44c6-a2c8-6fcd3f726286",
     "isComponent": false,
     "name": "",
     "parents": []
    }
   },
   "outputs": [],
   "source": [
    "fig,ax = plt.subplots(3,2,figsize=(20,20))\n",
    "sns.distplot(df['nltk'],ax=ax[0][0],bins=10)\n",
    "sns.distplot(df['Happy'],ax=ax[0][1],color='pink',bins=10)\n",
    "sns.distplot(df['Angry'],ax=ax[1][0],color='brown',bins=10)\n",
    "sns.distplot(df['Sad'],ax=ax[1][1],color='blue',bins=10)\n",
    "sns.distplot(df['Surprise'],ax=ax[2][0],color='yellow',bins=10)\n",
    "sns.distplot(df['Fear'],ax=ax[2][1],color='gray',bins=10)"
   ]
  },
  {
   "cell_type": "markdown",
   "id": "027c4dcd-5423-466a-baea-103337e76552",
   "metadata": {
    "canvas": {
     "comments": [],
     "componentType": "CodeCell",
     "copiedOriginId": null,
     "diskcache": false,
     "headerColor": "inherit",
     "id": "f0a6f33c-9e8f-4893-8756-0379577006b8",
     "isComponent": false,
     "name": "",
     "parents": []
    }
   },
   "source": [
    "## Changes of features over time or based on artist"
   ]
  },
  {
   "cell_type": "code",
   "execution_count": null,
   "id": "52dbdc87",
   "metadata": {
    "canvas": {
     "comments": [],
     "componentType": "CodeCell",
     "copiedOriginId": null,
     "diskcache": false,
     "headerColor": "none",
     "id": "e3a33c6f-fe7d-441d-8025-c43e79d91279",
     "isComponent": false,
     "name": "",
     "parents": []
    },
    "scrolled": true
   },
   "outputs": [],
   "source": [
    "def get_average_x_by_y(x, y):\n",
    "    return (df.groupby([y]).agg({str(x):'mean'}))\n",
    "\n",
    "print('Most fast-paced artists')\n",
    "artist_tempo = df.groupby(['primary_artist']).agg({str('tempo'):'mean'})\n",
    "display(artist_tempo.sort_values('tempo', ascending=False).head(10))\n",
    "\n",
    "print('Loudest artists')\n",
    "artist_loudness = df.groupby(['primary_artist']).agg({str('loudness'):'mean'})\n",
    "display(artist_loudness.sort_values('loudness', ascending=False).head(10))\n",
    "\n",
    "def get_average_over_year(feature):\n",
    "    data = (df.groupby(['year']).agg({str(feature):'mean'}))\n",
    "    chart_title = 'Average ' + str(feature) + ' changes over time'\n",
    "    # row_gap = int(math.ceil((year-1970)/9))\n",
    "    # line_chart = data.plot(title=chart_title, xticks=range(1970, year+2, row_gap))\n",
    "    # line_chart = px.line(df, x=\"year\", y=feature, title=chart_title)\n",
    "    line_chart = sns.lineplot(data=df, x=\"year\", y=feature)\n",
    "    plt.show()\n",
    "\n",
    "get_average_over_year('tempo')\n",
    "get_average_over_year('duration_s')\n",
    "get_average_over_year('liveness')\n",
    "get_average_over_year('speechiness')"
   ]
  },
  {
   "cell_type": "markdown",
   "id": "111434bf-a7aa-4e97-aa06-938ee682c26d",
   "metadata": {
    "canvas": {
     "comments": [],
     "componentType": "CodeCell",
     "copiedOriginId": null,
     "diskcache": false,
     "headerColor": "inherit",
     "id": "e80ab5d6-954a-4cb4-aac2-7b5840af8575",
     "isComponent": false,
     "name": "",
     "parents": []
    }
   },
   "source": [
    "## Correlation between the features"
   ]
  },
  {
   "cell_type": "code",
   "execution_count": null,
   "id": "8548c5e5-c6b6-4567-ae9b-13bc86b79ce8",
   "metadata": {
    "canvas": {
     "comments": [],
     "componentType": "CodeCell",
     "copiedOriginId": null,
     "diskcache": false,
     "headerColor": "inherit",
     "id": "f51b3047-3399-4b21-9386-91c56c7ff476",
     "isComponent": false,
     "name": "",
     "parents": []
    }
   },
   "outputs": [],
   "source": [
    "# Heatmap\n",
    "features = df.drop([\"primary_artist\", \"title\"], axis=1)\n",
    "corr = features.corr()\n",
    "fig, ax = plt.subplots(figsize=(15,10))         \n",
    "sns.heatmap(corr, vmin=0, vmax=1, cmap=\"Blues\", cbar=True, linewidths=1, linecolor='black', annot=True)"
   ]
  },
  {
   "cell_type": "code",
   "execution_count": null,
   "id": "b532b083-ffac-48e2-b4cb-3b7e3faa190c",
   "metadata": {
    "canvas": {
     "comments": [],
     "componentType": "CodeCell",
     "copiedOriginId": null,
     "diskcache": false,
     "headerColor": "inherit",
     "id": "2ab9b997-7fa2-43c4-93b7-4e0d6e96078f",
     "isComponent": false,
     "name": "",
     "parents": []
    }
   },
   "outputs": [],
   "source": [
    "# Correlation between energy and other features\n",
    "px.scatter(df,x='energy',y='danceability',color='danceability',template='simple_white',title='<b>Energy Vs Danceability', trendline=\"ols\").show()\n",
    "px.scatter(df,x='energy',y='loudness',color='loudness',template='simple_white',title='<b>Energy Vs Loudness', trendline=\"ols\").show()\n",
    "px.scatter(df,x='energy',y='speechiness',color='speechiness',template='simple_white',title='<b>Energy Vs Speechiness', trendline=\"ols\").show()"
   ]
  },
  {
   "cell_type": "code",
   "execution_count": null,
   "id": "f00371f1-c519-428c-a352-7fc42e16222c",
   "metadata": {
    "canvas": {
     "comments": [],
     "componentType": "CodeCell",
     "copiedOriginId": null,
     "diskcache": false,
     "headerColor": "inherit",
     "id": "8eea81b7-60ed-4408-8fa2-5c8f9a16af39",
     "isComponent": false,
     "name": "",
     "parents": []
    }
   },
   "outputs": [],
   "source": [
    "# Correlation between some other features\n",
    "px.scatter(df,x='loudness',y='acousticness',color='acousticness',template='simple_white',title='<b>Loudness Vs Acousticness', trendline=\"ols\").show()\n",
    "px.scatter(df,x='valence',y='danceability',color='danceability',template='simple_white',title='<b>Valence Vs Danceability', trendline=\"ols\").show()\n",
    "px.scatter(df,x='danceability',y='Surprise',color='Surprise',template='simple_white',title='<b>Danceability Vs Surprised', trendline=\"ols\").show()"
   ]
  },
  {
   "cell_type": "markdown",
   "id": "4857c986-bfda-4d6f-b1ba-b85bd2ca7435",
   "metadata": {
    "canvas": {
     "comments": [],
     "componentType": "CodeCell",
     "copiedOriginId": null,
     "diskcache": false,
     "headerColor": "inherit",
     "id": "3e4c678e-0a8a-4269-8f48-5048c62b1e7b",
     "isComponent": false,
     "name": "",
     "parents": []
    }
   },
   "source": [
    "## Frequency of genre and of words of the lyrics"
   ]
  },
  {
   "cell_type": "code",
   "execution_count": null,
   "id": "f9eb0ecc",
   "metadata": {
    "canvas": {
     "comments": [],
     "componentType": "CodeCell",
     "copiedOriginId": null,
     "diskcache": false,
     "headerColor": "none",
     "id": "0dde35ce-45e8-4453-b0de-4123c1364f15",
     "isComponent": false,
     "name": "",
     "parents": []
    },
    "tags": []
   },
   "outputs": [],
   "source": [
    "# Reformat the genres column\n",
    "import ast\n",
    "import itertools\n",
    "\n",
    "genres_list = []\n",
    "for entry in df['genres']:\n",
    "    new_entry = [n.strip() for n in ast.literal_eval(entry)]\n",
    "    genres_list.append(new_entry)\n",
    "    \n",
    "joined_list = list(itertools.chain.from_iterable(genres_list))\n",
    "\n",
    "# Genres wordcloud\n",
    "genres = ' '.join(joined_list)\n",
    "rcParams['figure.figsize'] = (12,8)\n",
    "wordcloud = WordCloud(stopwords = STOPWORDS, collocations=True, \n",
    "                      background_color='black', colormap='rainbow',\n",
    "                     max_words=200, max_font_size=40).generate(genres)\n",
    "plt.imshow(wordcloud, interpolation='bilInear')\n",
    "plt.axis('off')\n",
    "plt.show()"
   ]
  },
  {
   "cell_type": "code",
   "execution_count": null,
   "id": "f07b21a4-6ace-4973-94ec-ddcfb52b3889",
   "metadata": {
    "canvas": {
     "comments": [],
     "componentType": "CodeCell",
     "copiedOriginId": null,
     "diskcache": false,
     "headerColor": "none",
     "id": "7e9e889c-a74f-4a5e-aa05-d165d5a24c76",
     "isComponent": false,
     "name": "",
     "parents": []
    },
    "tags": []
   },
   "outputs": [],
   "source": [
    "# Lyrics wordcloud\n",
    "from PIL import Image\n",
    "from nltk.corpus import stopwords\n",
    "import string\n",
    "lyrics_list = df['lyrics'].to_list()\n",
    "lyrics_words = \" \".join(map(str,lyrics_list))\n",
    "# punctuations = list(string.punctuation)\n",
    "stop_words_en = list(stopwords.words(\"english\"))\n",
    "stop_words_es = list(stopwords.words(\"spanish\"))\n",
    "forbidden = ['(',')',\"'\",',','oh',\"'s\", 'yo',\"'ll\", 'el', \"'re\",\"'m\",\"oh-oh\",\"'d\", \"n't\", \"``\", \"ooh\", \"uah\", \"'em\", \"'ve\", \"eh\", \"pa\", \"brr\", \"yeah\",\n",
    "            'Im', 'Ill', 'Id', 'your', 'youre', \"you're\", 'youll', 'u'] \n",
    "stop_words_all = set(stop_words_en + stop_words_es + forbidden)\n",
    "\n",
    "mask = np.array(Image.open('./mask_guitar.png'))\n",
    "wordcloud = WordCloud(stopwords=stop_words_all, background_color='white', \n",
    "                      max_words=200, mask=mask\n",
    "                     ).generate(lyrics_words)\n",
    "plt.figure(figsize=(20,10))\n",
    "plt.imshow(wordcloud)\n",
    "plt.axis('off')\n",
    "plt.show()"
   ]
  },
  {
   "cell_type": "code",
   "execution_count": null,
   "id": "a0b7c428",
   "metadata": {
    "canvas": {
     "comments": [],
     "componentType": "CodeCell",
     "copiedOriginId": null,
     "diskcache": true,
     "headerColor": "inherit",
     "id": "997c60db-b89e-4c7a-a9b8-37cc41db5248",
     "isComponent": true,
     "name": "Display sentiment in df",
     "parents": [
      {
       "id": "48482bb3-ba5e-4e80-a9b8-9ab59d7c42c3",
       "name": "Reformat some columns"
      }
     ]
    },
    "tags": []
   },
   "outputs": [],
   "source": [
    "# import nltk\n",
    "# from nltk.sentiment.vader import SentimentIntensityAnalyzer as SIA\n",
    "# from textblob import TextBlob\n",
    "# from textblob import Blobber\n",
    "# from textblob.sentiments import NaiveBayesAnalyzer\n",
    "\n",
    "# sia = SIA()\n",
    "# blobber = Blobber(analyzer=NaiveBayesAnalyzer())\n",
    "\n",
    "# def get_sentiment_scores(content):\n",
    "#     sia_scores = sia.polarity_scores(content)\n",
    "    \n",
    "#     return pd.Series({\n",
    "#         'content': content,\n",
    "#         'nltk': sia_scores['compound'],\n",
    "# })\n",
    "\n",
    "# for idx, lyrics in enumerate(df['lyrics']):\n",
    "#     if type(lyrics) is not float:            \n",
    "#         scores = get_sentiment_scores(lyrics)\n",
    "#         df.at[idx, 'nltk'] = scores['nltk']    "
   ]
  },
  {
   "cell_type": "code",
   "execution_count": null,
   "id": "a4ffb98f-4c48-4938-b64e-93a6685fc85c",
   "metadata": {
    "canvas": {
     "comments": [],
     "componentType": "CodeCell",
     "copiedOriginId": null,
     "diskcache": true,
     "headerColor": "inherit",
     "id": "e5744553-4527-45e8-93c3-6cf76f8b6bd7",
     "isComponent": true,
     "name": "Display emotion in df",
     "parents": [
      {
       "id": "48482bb3-ba5e-4e80-a9b8-9ab59d7c42c3",
       "name": "Reformat some columns"
      }
     ]
    },
    "tags": []
   },
   "outputs": [],
   "source": [
    "# import text2emotion as te\n",
    "\n",
    "# for idx, lyrics in enumerate(df['lyrics']):\n",
    "#     if type(lyrics) is not float:            \n",
    "#         emotions = te.get_emotion(lyrics)\n",
    "#         df.at[idx, 'Happy'] = emotions['Happy']     \n",
    "#         df.at[idx, 'Angry'] = emotions['Angry'] \n",
    "#         df.at[idx, 'Surprised'] = emotions['Surprise']    \n",
    "#         df.at[idx, 'Sad'] = emotions['Sad'] \n",
    "#         df.at[idx, 'Fear'] = emotions['Fear']"
   ]
  },
  {
   "cell_type": "code",
   "execution_count": null,
   "id": "528f4996-0bd6-45de-adb7-f1c4b38559ea",
   "metadata": {
    "canvas": {
     "comments": [],
     "componentType": "CodeCell",
     "copiedOriginId": null,
     "diskcache": false,
     "headerColor": "inherit",
     "id": "46a3d2eb-ad1f-46d8-a5b8-39f738bdff90",
     "isComponent": false,
     "name": "",
     "parents": []
    },
    "tags": []
   },
   "outputs": [],
   "source": [
    "# path = './data'\n",
    "# df = pd.read_csv(path+'/songs_df_final.csv')\n",
    "# display(df.info())\n",
    "# display(df.describe().T)\n",
    "df"
   ]
  },
  {
   "cell_type": "markdown",
   "id": "b1458b07-5aac-433d-89c4-40f38c6b8f29",
   "metadata": {
    "canvas": {
     "comments": [],
     "componentType": "CodeCell",
     "copiedOriginId": null,
     "diskcache": false,
     "headerColor": "inherit",
     "id": "1d636535-b84f-4c82-875e-f36624d18d83",
     "isComponent": false,
     "name": "",
     "parents": []
    }
   },
   "source": [
    "# **Supervised Learning**"
   ]
  },
  {
   "cell_type": "markdown",
   "id": "91182e89-002c-4a1b-87d6-76202a74d55e",
   "metadata": {
    "canvas": {
     "comments": [],
     "componentType": "CodeCell",
     "copiedOriginId": null,
     "diskcache": false,
     "headerColor": "inherit",
     "id": "3e2f8ce1-e90d-49c8-b998-99cf6980980b",
     "isComponent": false,
     "name": "",
     "parents": []
    }
   },
   "source": [
    "## Genre Classification"
   ]
  },
  {
   "cell_type": "code",
   "execution_count": 100,
   "id": "0ffea411-beca-4283-bf0b-6823409c4a32",
   "metadata": {
    "canvas": {
     "comments": [],
     "componentType": "CodeCell",
     "copiedOriginId": null,
     "diskcache": false,
     "headerColor": "inherit",
     "id": "c60c3262-5855-4ed5-87a1-c90006771c22",
     "isComponent": false,
     "name": "",
     "parents": []
    }
   },
   "outputs": [],
   "source": [
    "from pandas.plotting import scatter_matrix # scatterplot\n",
    "from matplotlib import pyplot # visualization\n",
    "from sklearn.model_selection import train_test_split\n",
    "from sklearn.model_selection import cross_val_score # check how accurate\n",
    "from sklearn.model_selection import StratifiedKFold\n",
    "from sklearn.metrics import classification_report # what type of errors, where they lie \n",
    "from sklearn.metrics import confusion_matrix\n",
    "from sklearn.metrics import accuracy_score\n",
    "from sklearn.linear_model import LogisticRegression\n",
    "from sklearn.tree import DecisionTreeClassifier\n",
    "from sklearn.neighbors import KNeighborsClassifier\n",
    "from sklearn.discriminant_analysis import LinearDiscriminantAnalysis\n",
    "from sklearn.naive_bayes import GaussianNB\n",
    "from sklearn.svm import SVC"
   ]
  },
  {
   "cell_type": "code",
   "execution_count": 101,
   "id": "a0d73cc3-ce0a-4edf-ae88-c2e10b084b4c",
   "metadata": {
    "canvas": {
     "comments": [],
     "componentType": "CodeCell",
     "copiedOriginId": null,
     "diskcache": false,
     "headerColor": "inherit",
     "id": "caa5f085-a1a2-4ef8-9d10-80d4e34d87c2",
     "isComponent": false,
     "name": "",
     "parents": []
    },
    "tags": []
   },
   "outputs": [
    {
     "data": {
      "text/plain": [
       "0                                      ['rock']\n",
       "1                              ['folk', 'rock']\n",
       "2                             ['blues', 'soul']\n",
       "3                                      ['rock']\n",
       "4                              ['folk', 'rock']\n",
       "                         ...                   \n",
       "4795    ['dance/electronic', 'hip hop', 'rock']\n",
       "4796                                    ['pop']\n",
       "4797                                    ['rap']\n",
       "4798                                    ['pop']\n",
       "4799                                    ['pop']\n",
       "Name: genres, Length: 4800, dtype: object"
      ]
     },
     "execution_count": 101,
     "metadata": {},
     "output_type": "execute_result"
    }
   ],
   "source": [
    "genres = df[\"genres\"]\n",
    "genres"
   ]
  },
  {
   "cell_type": "code",
   "execution_count": 102,
   "id": "bf426297-698a-493d-9bcd-4e8e3cefe0c2",
   "metadata": {
    "canvas": {
     "comments": [],
     "componentType": "CodeCell",
     "copiedOriginId": null,
     "diskcache": false,
     "headerColor": "inherit",
     "id": "044f8c85-ec13-46ff-8ff1-8bb87ebdefdc",
     "isComponent": false,
     "name": "",
     "parents": []
    }
   },
   "outputs": [],
   "source": [
    "# Split the genre column\n",
    "def genre_splitter(genre):\n",
    "    result = genre.copy()\n",
    "    result = result.str.split(\" \",1)\n",
    "    for i in range(len(result)):\n",
    "        if (len(result[i]) > 1):\n",
    "            result[i] = [result[i][1]]\n",
    "        \n",
    "    return result.str.join('')"
   ]
  },
  {
   "cell_type": "code",
   "execution_count": 103,
   "id": "b5a54de8-005f-4263-bee1-f42a755bbe5c",
   "metadata": {
    "canvas": {
     "comments": [],
     "componentType": "CodeCell",
     "copiedOriginId": null,
     "diskcache": false,
     "headerColor": "inherit",
     "id": "88fc4a04-671c-4b3d-a3f2-3532db40ad25",
     "isComponent": false,
     "name": "",
     "parents": []
    },
    "tags": []
   },
   "outputs": [
    {
     "data": {
      "text/plain": [
       "rock               1938\n",
       "pop                1135\n",
       "rap                 646\n",
       "soul                498\n",
       "rb                  206\n",
       "others              119\n",
       "danceelectronic     118\n",
       "reggae               59\n",
       "country              25\n",
       "metal                20\n",
       "hop                  17\n",
       "jazz                  8\n",
       "funk                  6\n",
       "folk                  3\n",
       "contemporary          2\n",
       "Name: genres, dtype: int64"
      ]
     },
     "execution_count": 103,
     "metadata": {},
     "output_type": "execute_result"
    }
   ],
   "source": [
    "genre_mod = genres.copy()\n",
    "while(max((genre_mod.str.split(\" \", 1)).str.len()) > 1):\n",
    "    genre_mod = genre_splitter(genre_mod)\n",
    "\n",
    "genre_mod=genre_mod.apply(lambda x: re.sub('[^A-Za-z0-9]+', '', x))\n",
    "genre_mod.value_counts()"
   ]
  },
  {
   "cell_type": "code",
   "execution_count": 10,
   "id": "ec74a6ae-92bd-45c9-9385-4358820565b7",
   "metadata": {
    "canvas": {
     "comments": [],
     "componentType": "CodeCell",
     "copiedOriginId": null,
     "diskcache": false,
     "headerColor": "inherit",
     "id": "15a79f27-7fa8-4f05-9789-e371a5ff31f4",
     "isComponent": false,
     "name": "",
     "parents": []
    }
   },
   "outputs": [],
   "source": [
    "genre_mod.replace({'danceelectronic': 'dance/electronic', 'rb': 'r&b', 'hop':'hiphop'}, inplace=True)"
   ]
  },
  {
   "cell_type": "code",
   "execution_count": 104,
   "id": "3d651854-245c-41f7-9bc3-146d6d0634f3",
   "metadata": {
    "canvas": {
     "comments": [],
     "componentType": "CodeCell",
     "copiedOriginId": null,
     "diskcache": false,
     "headerColor": "inherit",
     "id": "51f46a47-5f1c-4916-a4e5-5fe607fda971",
     "isComponent": false,
     "name": "",
     "parents": []
    },
    "tags": []
   },
   "outputs": [
    {
     "data": {
      "text/plain": [
       "rock               1938\n",
       "pop                1135\n",
       "rap                 646\n",
       "soul                498\n",
       "rb                  206\n",
       "others              119\n",
       "danceelectronic     118\n",
       "reggae               59\n",
       "country              25\n",
       "metal                20\n",
       "hop                  17\n",
       "jazz                  8\n",
       "funk                  6\n",
       "folk                  3\n",
       "contemporary          2\n",
       "Name: primary_genre, dtype: int64"
      ]
     },
     "execution_count": 104,
     "metadata": {},
     "output_type": "execute_result"
    }
   ],
   "source": [
    "df['primary_genre'] = genre_mod\n",
    "df[\"primary_genre\"].value_counts()"
   ]
  },
  {
   "cell_type": "code",
   "execution_count": 108,
   "id": "40d0ae75-30f7-43cc-8676-ab4c9df8212c",
   "metadata": {
    "canvas": {
     "comments": [],
     "componentType": "CodeCell",
     "copiedOriginId": null,
     "diskcache": false,
     "headerColor": "inherit",
     "id": "5bd7263b-b089-48c5-aa05-e196ea381566",
     "isComponent": false,
     "name": "",
     "parents": []
    }
   },
   "outputs": [
    {
     "data": {
      "text/html": [
       "<div>\n",
       "<style scoped>\n",
       "    .dataframe tbody tr th:only-of-type {\n",
       "        vertical-align: middle;\n",
       "    }\n",
       "\n",
       "    .dataframe tbody tr th {\n",
       "        vertical-align: top;\n",
       "    }\n",
       "\n",
       "    .dataframe thead th {\n",
       "        text-align: right;\n",
       "    }\n",
       "</style>\n",
       "<table border=\"1\" class=\"dataframe\">\n",
       "  <thead>\n",
       "    <tr style=\"text-align: right;\">\n",
       "      <th></th>\n",
       "      <th>title</th>\n",
       "      <th>primary_artist</th>\n",
       "      <th>danceability</th>\n",
       "      <th>energy</th>\n",
       "      <th>key</th>\n",
       "      <th>loudness</th>\n",
       "      <th>mode</th>\n",
       "      <th>speechiness</th>\n",
       "      <th>acousticness</th>\n",
       "      <th>instrumentalness</th>\n",
       "      <th>...</th>\n",
       "      <th>year</th>\n",
       "      <th>genres</th>\n",
       "      <th>lyrics</th>\n",
       "      <th>nltk</th>\n",
       "      <th>Happy</th>\n",
       "      <th>Angry</th>\n",
       "      <th>Surprise</th>\n",
       "      <th>Sad</th>\n",
       "      <th>Fear</th>\n",
       "      <th>primary_genre</th>\n",
       "    </tr>\n",
       "  </thead>\n",
       "  <tbody>\n",
       "    <tr>\n",
       "      <th>0</th>\n",
       "      <td>Let It Be - Remastered 2009</td>\n",
       "      <td>The Beatles</td>\n",
       "      <td>0.443</td>\n",
       "      <td>0.403</td>\n",
       "      <td>C</td>\n",
       "      <td>-8.339</td>\n",
       "      <td>Major</td>\n",
       "      <td>0.0322</td>\n",
       "      <td>0.631000</td>\n",
       "      <td>0.000000</td>\n",
       "      <td>...</td>\n",
       "      <td>1970</td>\n",
       "      <td>['rock']</td>\n",
       "      <td>When I find myself in times of trouble Mother ...</td>\n",
       "      <td>0.9856</td>\n",
       "      <td>0.00</td>\n",
       "      <td>0.35</td>\n",
       "      <td>0.00</td>\n",
       "      <td>0.05</td>\n",
       "      <td>0.60</td>\n",
       "      <td>rock</td>\n",
       "    </tr>\n",
       "    <tr>\n",
       "      <th>1</th>\n",
       "      <td>Cecilia</td>\n",
       "      <td>Simon &amp; Garfunkel</td>\n",
       "      <td>0.755</td>\n",
       "      <td>0.876</td>\n",
       "      <td>C</td>\n",
       "      <td>-8.867</td>\n",
       "      <td>Major</td>\n",
       "      <td>0.0362</td>\n",
       "      <td>0.357000</td>\n",
       "      <td>0.000005</td>\n",
       "      <td>...</td>\n",
       "      <td>1970</td>\n",
       "      <td>['folk', 'rock']</td>\n",
       "      <td>Cilia youre breaking my heart. Youre shaking m...</td>\n",
       "      <td>0.9716</td>\n",
       "      <td>0.17</td>\n",
       "      <td>0.00</td>\n",
       "      <td>0.17</td>\n",
       "      <td>0.40</td>\n",
       "      <td>0.27</td>\n",
       "      <td>rock</td>\n",
       "    </tr>\n",
       "    <tr>\n",
       "      <th>2</th>\n",
       "      <td>Who'll Stop The Rain</td>\n",
       "      <td>Creedence Clearwater Revival</td>\n",
       "      <td>0.598</td>\n",
       "      <td>0.797</td>\n",
       "      <td>G</td>\n",
       "      <td>-6.793</td>\n",
       "      <td>Major</td>\n",
       "      <td>0.0332</td>\n",
       "      <td>0.042400</td>\n",
       "      <td>0.000407</td>\n",
       "      <td>...</td>\n",
       "      <td>1970</td>\n",
       "      <td>['rock']</td>\n",
       "      <td>Long as I remember the rain been coming down. ...</td>\n",
       "      <td>0.1280</td>\n",
       "      <td>0.12</td>\n",
       "      <td>0.06</td>\n",
       "      <td>0.47</td>\n",
       "      <td>0.12</td>\n",
       "      <td>0.24</td>\n",
       "      <td>rock</td>\n",
       "    </tr>\n",
       "    <tr>\n",
       "      <th>3</th>\n",
       "      <td>Big Yellow Taxi</td>\n",
       "      <td>Joni Mitchell</td>\n",
       "      <td>0.611</td>\n",
       "      <td>0.470</td>\n",
       "      <td>E</td>\n",
       "      <td>-9.135</td>\n",
       "      <td>Major</td>\n",
       "      <td>0.0356</td>\n",
       "      <td>0.579000</td>\n",
       "      <td>0.000000</td>\n",
       "      <td>...</td>\n",
       "      <td>1970</td>\n",
       "      <td>['folk', 'rock']</td>\n",
       "      <td>They paved paradise and put up a parking lot. ...</td>\n",
       "      <td>0.9091</td>\n",
       "      <td>0.03</td>\n",
       "      <td>0.10</td>\n",
       "      <td>0.03</td>\n",
       "      <td>0.41</td>\n",
       "      <td>0.41</td>\n",
       "      <td>rock</td>\n",
       "    </tr>\n",
       "    <tr>\n",
       "      <th>4</th>\n",
       "      <td>Instant Karma! (We All Shine On) - Ultimate Mix</td>\n",
       "      <td>John Lennon</td>\n",
       "      <td>0.605</td>\n",
       "      <td>0.948</td>\n",
       "      <td>B</td>\n",
       "      <td>-7.351</td>\n",
       "      <td>minor</td>\n",
       "      <td>0.1360</td>\n",
       "      <td>0.000638</td>\n",
       "      <td>0.000136</td>\n",
       "      <td>...</td>\n",
       "      <td>1970</td>\n",
       "      <td>['rock']</td>\n",
       "      <td>Three four. Instant Karmas going to get you. G...</td>\n",
       "      <td>0.9819</td>\n",
       "      <td>0.22</td>\n",
       "      <td>0.00</td>\n",
       "      <td>0.44</td>\n",
       "      <td>0.11</td>\n",
       "      <td>0.22</td>\n",
       "      <td>rock</td>\n",
       "    </tr>\n",
       "    <tr>\n",
       "      <th>...</th>\n",
       "      <td>...</td>\n",
       "      <td>...</td>\n",
       "      <td>...</td>\n",
       "      <td>...</td>\n",
       "      <td>...</td>\n",
       "      <td>...</td>\n",
       "      <td>...</td>\n",
       "      <td>...</td>\n",
       "      <td>...</td>\n",
       "      <td>...</td>\n",
       "      <td>...</td>\n",
       "      <td>...</td>\n",
       "      <td>...</td>\n",
       "      <td>...</td>\n",
       "      <td>...</td>\n",
       "      <td>...</td>\n",
       "      <td>...</td>\n",
       "      <td>...</td>\n",
       "      <td>...</td>\n",
       "      <td>...</td>\n",
       "      <td>...</td>\n",
       "    </tr>\n",
       "    <tr>\n",
       "      <th>4795</th>\n",
       "      <td>Soltera - Remix</td>\n",
       "      <td>Lunay</td>\n",
       "      <td>0.795</td>\n",
       "      <td>0.783</td>\n",
       "      <td>F</td>\n",
       "      <td>-4.271</td>\n",
       "      <td>Major</td>\n",
       "      <td>0.0432</td>\n",
       "      <td>0.361000</td>\n",
       "      <td>0.000000</td>\n",
       "      <td>...</td>\n",
       "      <td>2019</td>\n",
       "      <td>['dance/electronic', 'hip hop', 'pop', 'reggae']</td>\n",
       "      <td>Lu. Lu. Lunay. Ella lo que quiere e joder vaci...</td>\n",
       "      <td>-0.9712</td>\n",
       "      <td>0.00</td>\n",
       "      <td>0.00</td>\n",
       "      <td>0.00</td>\n",
       "      <td>0.00</td>\n",
       "      <td>1.00</td>\n",
       "      <td>others</td>\n",
       "    </tr>\n",
       "    <tr>\n",
       "      <th>4796</th>\n",
       "      <td>Secreto</td>\n",
       "      <td>Anuel AA</td>\n",
       "      <td>0.807</td>\n",
       "      <td>0.803</td>\n",
       "      <td>B</td>\n",
       "      <td>-4.156</td>\n",
       "      <td>Major</td>\n",
       "      <td>0.1260</td>\n",
       "      <td>0.602000</td>\n",
       "      <td>0.008530</td>\n",
       "      <td>...</td>\n",
       "      <td>2019</td>\n",
       "      <td>['dance/electronic', 'reggae']</td>\n",
       "      <td>NaN</td>\n",
       "      <td>NaN</td>\n",
       "      <td>NaN</td>\n",
       "      <td>NaN</td>\n",
       "      <td>NaN</td>\n",
       "      <td>NaN</td>\n",
       "      <td>NaN</td>\n",
       "      <td>others</td>\n",
       "    </tr>\n",
       "    <tr>\n",
       "      <th>4797</th>\n",
       "      <td>Otro Trago</td>\n",
       "      <td>Sech</td>\n",
       "      <td>0.746</td>\n",
       "      <td>0.700</td>\n",
       "      <td>C</td>\n",
       "      <td>-4.669</td>\n",
       "      <td>Major</td>\n",
       "      <td>0.3410</td>\n",
       "      <td>0.136000</td>\n",
       "      <td>0.000159</td>\n",
       "      <td>...</td>\n",
       "      <td>2019</td>\n",
       "      <td>['dance/electronic', 'pop', 'reggae']</td>\n",
       "      <td>Sigue aqui tomandose otro trago. Su exnovio co...</td>\n",
       "      <td>-0.9451</td>\n",
       "      <td>0.00</td>\n",
       "      <td>0.00</td>\n",
       "      <td>0.00</td>\n",
       "      <td>0.00</td>\n",
       "      <td>1.00</td>\n",
       "      <td>others</td>\n",
       "    </tr>\n",
       "    <tr>\n",
       "      <th>4798</th>\n",
       "      <td>Talk (feat. Disclosure)</td>\n",
       "      <td>Khalid</td>\n",
       "      <td>0.900</td>\n",
       "      <td>0.400</td>\n",
       "      <td>C</td>\n",
       "      <td>-8.575</td>\n",
       "      <td>Major</td>\n",
       "      <td>0.1270</td>\n",
       "      <td>0.051600</td>\n",
       "      <td>0.000000</td>\n",
       "      <td>...</td>\n",
       "      <td>2019</td>\n",
       "      <td>['pop', 'r&amp;b']</td>\n",
       "      <td>Can we just talk Can we just talk. Talk about ...</td>\n",
       "      <td>-0.9313</td>\n",
       "      <td>0.00</td>\n",
       "      <td>0.11</td>\n",
       "      <td>0.05</td>\n",
       "      <td>0.68</td>\n",
       "      <td>0.16</td>\n",
       "      <td>others</td>\n",
       "    </tr>\n",
       "    <tr>\n",
       "      <th>4799</th>\n",
       "      <td>Adan y Eva</td>\n",
       "      <td>Paulo Londra</td>\n",
       "      <td>0.767</td>\n",
       "      <td>0.709</td>\n",
       "      <td>C♯/D♭</td>\n",
       "      <td>-4.470</td>\n",
       "      <td>Major</td>\n",
       "      <td>0.3360</td>\n",
       "      <td>0.323000</td>\n",
       "      <td>0.000000</td>\n",
       "      <td>...</td>\n",
       "      <td>2019</td>\n",
       "      <td>['dance/electronic', 'hip hop']</td>\n",
       "      <td>OOOvy On The Drums. Acercate deja la duda. La ...</td>\n",
       "      <td>-0.9595</td>\n",
       "      <td>0.00</td>\n",
       "      <td>0.00</td>\n",
       "      <td>0.00</td>\n",
       "      <td>0.00</td>\n",
       "      <td>1.00</td>\n",
       "      <td>others</td>\n",
       "    </tr>\n",
       "  </tbody>\n",
       "</table>\n",
       "<p>4800 rows × 25 columns</p>\n",
       "</div>"
      ],
      "text/plain": [
       "                                                title  \\\n",
       "0                         Let It Be - Remastered 2009   \n",
       "1                                             Cecilia   \n",
       "2                                Who'll Stop The Rain   \n",
       "3                                     Big Yellow Taxi   \n",
       "4     Instant Karma! (We All Shine On) - Ultimate Mix   \n",
       "...                                               ...   \n",
       "4795                                  Soltera - Remix   \n",
       "4796                                          Secreto   \n",
       "4797                                       Otro Trago   \n",
       "4798                          Talk (feat. Disclosure)   \n",
       "4799                                       Adan y Eva   \n",
       "\n",
       "                    primary_artist  danceability  energy    key  loudness  \\\n",
       "0                      The Beatles         0.443   0.403      C    -8.339   \n",
       "1                Simon & Garfunkel         0.755   0.876      C    -8.867   \n",
       "2     Creedence Clearwater Revival         0.598   0.797      G    -6.793   \n",
       "3                    Joni Mitchell         0.611   0.470      E    -9.135   \n",
       "4                      John Lennon         0.605   0.948      B    -7.351   \n",
       "...                            ...           ...     ...    ...       ...   \n",
       "4795                         Lunay         0.795   0.783      F    -4.271   \n",
       "4796                      Anuel AA         0.807   0.803      B    -4.156   \n",
       "4797                          Sech         0.746   0.700      C    -4.669   \n",
       "4798                        Khalid         0.900   0.400      C    -8.575   \n",
       "4799                  Paulo Londra         0.767   0.709  C♯/D♭    -4.470   \n",
       "\n",
       "       mode  speechiness  acousticness  instrumentalness  ...  year  \\\n",
       "0     Major       0.0322      0.631000          0.000000  ...  1970   \n",
       "1     Major       0.0362      0.357000          0.000005  ...  1970   \n",
       "2     Major       0.0332      0.042400          0.000407  ...  1970   \n",
       "3     Major       0.0356      0.579000          0.000000  ...  1970   \n",
       "4     minor       0.1360      0.000638          0.000136  ...  1970   \n",
       "...     ...          ...           ...               ...  ...   ...   \n",
       "4795  Major       0.0432      0.361000          0.000000  ...  2019   \n",
       "4796  Major       0.1260      0.602000          0.008530  ...  2019   \n",
       "4797  Major       0.3410      0.136000          0.000159  ...  2019   \n",
       "4798  Major       0.1270      0.051600          0.000000  ...  2019   \n",
       "4799  Major       0.3360      0.323000          0.000000  ...  2019   \n",
       "\n",
       "                                                genres  \\\n",
       "0                                             ['rock']   \n",
       "1                                     ['folk', 'rock']   \n",
       "2                                             ['rock']   \n",
       "3                                     ['folk', 'rock']   \n",
       "4                                             ['rock']   \n",
       "...                                                ...   \n",
       "4795  ['dance/electronic', 'hip hop', 'pop', 'reggae']   \n",
       "4796                    ['dance/electronic', 'reggae']   \n",
       "4797             ['dance/electronic', 'pop', 'reggae']   \n",
       "4798                                    ['pop', 'r&b']   \n",
       "4799                   ['dance/electronic', 'hip hop']   \n",
       "\n",
       "                                                 lyrics    nltk  Happy  Angry  \\\n",
       "0     When I find myself in times of trouble Mother ...  0.9856   0.00   0.35   \n",
       "1     Cilia youre breaking my heart. Youre shaking m...  0.9716   0.17   0.00   \n",
       "2     Long as I remember the rain been coming down. ...  0.1280   0.12   0.06   \n",
       "3     They paved paradise and put up a parking lot. ...  0.9091   0.03   0.10   \n",
       "4     Three four. Instant Karmas going to get you. G...  0.9819   0.22   0.00   \n",
       "...                                                 ...     ...    ...    ...   \n",
       "4795  Lu. Lu. Lunay. Ella lo que quiere e joder vaci... -0.9712   0.00   0.00   \n",
       "4796                                                NaN     NaN    NaN    NaN   \n",
       "4797  Sigue aqui tomandose otro trago. Su exnovio co... -0.9451   0.00   0.00   \n",
       "4798  Can we just talk Can we just talk. Talk about ... -0.9313   0.00   0.11   \n",
       "4799  OOOvy On The Drums. Acercate deja la duda. La ... -0.9595   0.00   0.00   \n",
       "\n",
       "     Surprise   Sad  Fear  primary_genre  \n",
       "0        0.00  0.05  0.60           rock  \n",
       "1        0.17  0.40  0.27           rock  \n",
       "2        0.47  0.12  0.24           rock  \n",
       "3        0.03  0.41  0.41           rock  \n",
       "4        0.44  0.11  0.22           rock  \n",
       "...       ...   ...   ...            ...  \n",
       "4795     0.00  0.00  1.00         others  \n",
       "4796      NaN   NaN   NaN         others  \n",
       "4797     0.00  0.00  1.00         others  \n",
       "4798     0.05  0.68  0.16         others  \n",
       "4799     0.00  0.00  1.00         others  \n",
       "\n",
       "[4800 rows x 25 columns]"
      ]
     },
     "execution_count": 108,
     "metadata": {},
     "output_type": "execute_result"
    }
   ],
   "source": [
    "# Remove genres that have less than 100 entries\n",
    "# df_mod = df[~df['primary_genre'].isin(['contemporary','folk','funk','jazz','hiphop','metal','country','reggae','dance/electronic','others'])]\n",
    "main_genre=df[df['primary_genre'].isin(['rock','pop','rap'])]\n",
    "other_genre=df[~df['primary_genre'].isin(['rock','pop','rap'])]\n",
    "other_genre['primary_genre']='others'\n",
    "df_mod = main_genre.append(other_genre, ignore_index=True)\n",
    "df_mod"
   ]
  },
  {
   "cell_type": "code",
   "execution_count": 109,
   "id": "0113cf27-d077-4b36-8088-9a0c01d8294d",
   "metadata": {
    "canvas": {
     "comments": [],
     "componentType": "CodeCell",
     "copiedOriginId": null,
     "diskcache": false,
     "headerColor": "inherit",
     "id": "5fff15ec-a8e7-4943-bb24-d3c211771c5b",
     "isComponent": false,
     "name": "",
     "parents": []
    }
   },
   "outputs": [
    {
     "data": {
      "text/plain": [
       "rock      1893\n",
       "pop       1097\n",
       "others    1019\n",
       "rap        619\n",
       "Name: primary_genre, dtype: int64"
      ]
     },
     "metadata": {},
     "output_type": "display_data"
    },
    {
     "data": {
      "text/html": [
       "<div>\n",
       "<style scoped>\n",
       "    .dataframe tbody tr th:only-of-type {\n",
       "        vertical-align: middle;\n",
       "    }\n",
       "\n",
       "    .dataframe tbody tr th {\n",
       "        vertical-align: top;\n",
       "    }\n",
       "\n",
       "    .dataframe thead th {\n",
       "        text-align: right;\n",
       "    }\n",
       "</style>\n",
       "<table border=\"1\" class=\"dataframe\">\n",
       "  <thead>\n",
       "    <tr style=\"text-align: right;\">\n",
       "      <th></th>\n",
       "      <th>danceability</th>\n",
       "      <th>energy</th>\n",
       "      <th>loudness</th>\n",
       "      <th>speechiness</th>\n",
       "      <th>acousticness</th>\n",
       "      <th>instrumentalness</th>\n",
       "      <th>liveness</th>\n",
       "      <th>valence</th>\n",
       "      <th>tempo</th>\n",
       "      <th>nltk</th>\n",
       "      <th>Happy</th>\n",
       "      <th>Angry</th>\n",
       "      <th>Surprise</th>\n",
       "      <th>Sad</th>\n",
       "      <th>Fear</th>\n",
       "      <th>primary_genre</th>\n",
       "    </tr>\n",
       "  </thead>\n",
       "  <tbody>\n",
       "    <tr>\n",
       "      <th>0</th>\n",
       "      <td>0.443</td>\n",
       "      <td>0.403</td>\n",
       "      <td>-8.339</td>\n",
       "      <td>0.0322</td>\n",
       "      <td>0.631000</td>\n",
       "      <td>0.000000</td>\n",
       "      <td>0.1110</td>\n",
       "      <td>0.410</td>\n",
       "      <td>143.462</td>\n",
       "      <td>0.9856</td>\n",
       "      <td>0.00</td>\n",
       "      <td>0.35</td>\n",
       "      <td>0.00</td>\n",
       "      <td>0.05</td>\n",
       "      <td>0.60</td>\n",
       "      <td>rock</td>\n",
       "    </tr>\n",
       "    <tr>\n",
       "      <th>1</th>\n",
       "      <td>0.755</td>\n",
       "      <td>0.876</td>\n",
       "      <td>-8.867</td>\n",
       "      <td>0.0362</td>\n",
       "      <td>0.357000</td>\n",
       "      <td>0.000005</td>\n",
       "      <td>0.2200</td>\n",
       "      <td>0.954</td>\n",
       "      <td>102.762</td>\n",
       "      <td>0.9716</td>\n",
       "      <td>0.17</td>\n",
       "      <td>0.00</td>\n",
       "      <td>0.17</td>\n",
       "      <td>0.40</td>\n",
       "      <td>0.27</td>\n",
       "      <td>rock</td>\n",
       "    </tr>\n",
       "    <tr>\n",
       "      <th>2</th>\n",
       "      <td>0.598</td>\n",
       "      <td>0.797</td>\n",
       "      <td>-6.793</td>\n",
       "      <td>0.0332</td>\n",
       "      <td>0.042400</td>\n",
       "      <td>0.000407</td>\n",
       "      <td>0.0717</td>\n",
       "      <td>0.622</td>\n",
       "      <td>123.566</td>\n",
       "      <td>0.1280</td>\n",
       "      <td>0.12</td>\n",
       "      <td>0.06</td>\n",
       "      <td>0.47</td>\n",
       "      <td>0.12</td>\n",
       "      <td>0.24</td>\n",
       "      <td>rock</td>\n",
       "    </tr>\n",
       "    <tr>\n",
       "      <th>3</th>\n",
       "      <td>0.611</td>\n",
       "      <td>0.470</td>\n",
       "      <td>-9.135</td>\n",
       "      <td>0.0356</td>\n",
       "      <td>0.579000</td>\n",
       "      <td>0.000000</td>\n",
       "      <td>0.5810</td>\n",
       "      <td>0.970</td>\n",
       "      <td>85.527</td>\n",
       "      <td>0.9091</td>\n",
       "      <td>0.03</td>\n",
       "      <td>0.10</td>\n",
       "      <td>0.03</td>\n",
       "      <td>0.41</td>\n",
       "      <td>0.41</td>\n",
       "      <td>rock</td>\n",
       "    </tr>\n",
       "    <tr>\n",
       "      <th>4</th>\n",
       "      <td>0.605</td>\n",
       "      <td>0.948</td>\n",
       "      <td>-7.351</td>\n",
       "      <td>0.1360</td>\n",
       "      <td>0.000638</td>\n",
       "      <td>0.000136</td>\n",
       "      <td>0.2140</td>\n",
       "      <td>0.442</td>\n",
       "      <td>119.717</td>\n",
       "      <td>0.9819</td>\n",
       "      <td>0.22</td>\n",
       "      <td>0.00</td>\n",
       "      <td>0.44</td>\n",
       "      <td>0.11</td>\n",
       "      <td>0.22</td>\n",
       "      <td>rock</td>\n",
       "    </tr>\n",
       "    <tr>\n",
       "      <th>...</th>\n",
       "      <td>...</td>\n",
       "      <td>...</td>\n",
       "      <td>...</td>\n",
       "      <td>...</td>\n",
       "      <td>...</td>\n",
       "      <td>...</td>\n",
       "      <td>...</td>\n",
       "      <td>...</td>\n",
       "      <td>...</td>\n",
       "      <td>...</td>\n",
       "      <td>...</td>\n",
       "      <td>...</td>\n",
       "      <td>...</td>\n",
       "      <td>...</td>\n",
       "      <td>...</td>\n",
       "      <td>...</td>\n",
       "    </tr>\n",
       "    <tr>\n",
       "      <th>4623</th>\n",
       "      <td>0.596</td>\n",
       "      <td>0.552</td>\n",
       "      <td>-10.278</td>\n",
       "      <td>0.0970</td>\n",
       "      <td>0.076500</td>\n",
       "      <td>0.334000</td>\n",
       "      <td>0.1040</td>\n",
       "      <td>0.112</td>\n",
       "      <td>97.949</td>\n",
       "      <td>0.4304</td>\n",
       "      <td>0.15</td>\n",
       "      <td>0.30</td>\n",
       "      <td>0.10</td>\n",
       "      <td>0.35</td>\n",
       "      <td>0.10</td>\n",
       "      <td>others</td>\n",
       "    </tr>\n",
       "    <tr>\n",
       "      <th>4624</th>\n",
       "      <td>0.795</td>\n",
       "      <td>0.783</td>\n",
       "      <td>-4.271</td>\n",
       "      <td>0.0432</td>\n",
       "      <td>0.361000</td>\n",
       "      <td>0.000000</td>\n",
       "      <td>0.4370</td>\n",
       "      <td>0.799</td>\n",
       "      <td>92.010</td>\n",
       "      <td>-0.9712</td>\n",
       "      <td>0.00</td>\n",
       "      <td>0.00</td>\n",
       "      <td>0.00</td>\n",
       "      <td>0.00</td>\n",
       "      <td>1.00</td>\n",
       "      <td>others</td>\n",
       "    </tr>\n",
       "    <tr>\n",
       "      <th>4625</th>\n",
       "      <td>0.746</td>\n",
       "      <td>0.700</td>\n",
       "      <td>-4.669</td>\n",
       "      <td>0.3410</td>\n",
       "      <td>0.136000</td>\n",
       "      <td>0.000159</td>\n",
       "      <td>0.1100</td>\n",
       "      <td>0.619</td>\n",
       "      <td>176.044</td>\n",
       "      <td>-0.9451</td>\n",
       "      <td>0.00</td>\n",
       "      <td>0.00</td>\n",
       "      <td>0.00</td>\n",
       "      <td>0.00</td>\n",
       "      <td>1.00</td>\n",
       "      <td>others</td>\n",
       "    </tr>\n",
       "    <tr>\n",
       "      <th>4626</th>\n",
       "      <td>0.900</td>\n",
       "      <td>0.400</td>\n",
       "      <td>-8.575</td>\n",
       "      <td>0.1270</td>\n",
       "      <td>0.051600</td>\n",
       "      <td>0.000000</td>\n",
       "      <td>0.0599</td>\n",
       "      <td>0.346</td>\n",
       "      <td>135.984</td>\n",
       "      <td>-0.9313</td>\n",
       "      <td>0.00</td>\n",
       "      <td>0.11</td>\n",
       "      <td>0.05</td>\n",
       "      <td>0.68</td>\n",
       "      <td>0.16</td>\n",
       "      <td>others</td>\n",
       "    </tr>\n",
       "    <tr>\n",
       "      <th>4627</th>\n",
       "      <td>0.767</td>\n",
       "      <td>0.709</td>\n",
       "      <td>-4.470</td>\n",
       "      <td>0.3360</td>\n",
       "      <td>0.323000</td>\n",
       "      <td>0.000000</td>\n",
       "      <td>0.0745</td>\n",
       "      <td>0.720</td>\n",
       "      <td>171.993</td>\n",
       "      <td>-0.9595</td>\n",
       "      <td>0.00</td>\n",
       "      <td>0.00</td>\n",
       "      <td>0.00</td>\n",
       "      <td>0.00</td>\n",
       "      <td>1.00</td>\n",
       "      <td>others</td>\n",
       "    </tr>\n",
       "  </tbody>\n",
       "</table>\n",
       "<p>4628 rows × 16 columns</p>\n",
       "</div>"
      ],
      "text/plain": [
       "      danceability  energy  loudness  speechiness  acousticness  \\\n",
       "0            0.443   0.403    -8.339       0.0322      0.631000   \n",
       "1            0.755   0.876    -8.867       0.0362      0.357000   \n",
       "2            0.598   0.797    -6.793       0.0332      0.042400   \n",
       "3            0.611   0.470    -9.135       0.0356      0.579000   \n",
       "4            0.605   0.948    -7.351       0.1360      0.000638   \n",
       "...            ...     ...       ...          ...           ...   \n",
       "4623         0.596   0.552   -10.278       0.0970      0.076500   \n",
       "4624         0.795   0.783    -4.271       0.0432      0.361000   \n",
       "4625         0.746   0.700    -4.669       0.3410      0.136000   \n",
       "4626         0.900   0.400    -8.575       0.1270      0.051600   \n",
       "4627         0.767   0.709    -4.470       0.3360      0.323000   \n",
       "\n",
       "      instrumentalness  liveness  valence    tempo    nltk  Happy  Angry  \\\n",
       "0             0.000000    0.1110    0.410  143.462  0.9856   0.00   0.35   \n",
       "1             0.000005    0.2200    0.954  102.762  0.9716   0.17   0.00   \n",
       "2             0.000407    0.0717    0.622  123.566  0.1280   0.12   0.06   \n",
       "3             0.000000    0.5810    0.970   85.527  0.9091   0.03   0.10   \n",
       "4             0.000136    0.2140    0.442  119.717  0.9819   0.22   0.00   \n",
       "...                ...       ...      ...      ...     ...    ...    ...   \n",
       "4623          0.334000    0.1040    0.112   97.949  0.4304   0.15   0.30   \n",
       "4624          0.000000    0.4370    0.799   92.010 -0.9712   0.00   0.00   \n",
       "4625          0.000159    0.1100    0.619  176.044 -0.9451   0.00   0.00   \n",
       "4626          0.000000    0.0599    0.346  135.984 -0.9313   0.00   0.11   \n",
       "4627          0.000000    0.0745    0.720  171.993 -0.9595   0.00   0.00   \n",
       "\n",
       "      Surprise   Sad  Fear primary_genre  \n",
       "0         0.00  0.05  0.60          rock  \n",
       "1         0.17  0.40  0.27          rock  \n",
       "2         0.47  0.12  0.24          rock  \n",
       "3         0.03  0.41  0.41          rock  \n",
       "4         0.44  0.11  0.22          rock  \n",
       "...        ...   ...   ...           ...  \n",
       "4623      0.10  0.35  0.10        others  \n",
       "4624      0.00  0.00  1.00        others  \n",
       "4625      0.00  0.00  1.00        others  \n",
       "4626      0.05  0.68  0.16        others  \n",
       "4627      0.00  0.00  1.00        others  \n",
       "\n",
       "[4628 rows x 16 columns]"
      ]
     },
     "execution_count": 109,
     "metadata": {},
     "output_type": "execute_result"
    }
   ],
   "source": [
    "df_classification = df_mod.drop(['title', 'primary_artist','key','mode','genres','lyrics','duration_s', 'year', 'time_signature'], axis=1)\n",
    "df_classification.dropna(inplace=True)\n",
    "df_classification.reset_index(drop=True,inplace=True)\n",
    "display(df_classification['primary_genre'].value_counts())\n",
    "df_classification"
   ]
  },
  {
   "cell_type": "code",
   "execution_count": 110,
   "id": "7d448b79-2efc-4d8d-8003-433f943ba7e7",
   "metadata": {
    "canvas": {
     "comments": [],
     "componentType": "CodeCell",
     "copiedOriginId": null,
     "diskcache": false,
     "headerColor": "inherit",
     "id": "5d343e96-75a6-455a-8e96-f4dcda16b28c",
     "isComponent": false,
     "name": "",
     "parents": []
    }
   },
   "outputs": [],
   "source": [
    "array = df_classification.values\n",
    "\n",
    "x = array[:,0:15]\n",
    "y = array[:,15]\n",
    "X_train, X_validation, Y_train, Y_validation = train_test_split(x, y, test_size=0.20, random_state=1)\n",
    "\n",
    "# train_set, test_set = train_test_split(df_classification, test_size = 0.2, random_state = 42)\n",
    "\n",
    "# # Training set\n",
    "# X_train = train_set.values[:,1:]\n",
    "# Y_train = train_set.values[:,0]\n",
    "\n",
    "# # Test set\n",
    "# X_test = test_set.values[:,1:]\n",
    "# Y_test = test_set.values[:,0]"
   ]
  },
  {
   "cell_type": "code",
   "execution_count": 111,
   "id": "e15cb426-e77e-4611-89b0-9fac75a17c3c",
   "metadata": {
    "canvas": {
     "comments": [],
     "componentType": "CodeCell",
     "copiedOriginId": null,
     "diskcache": false,
     "headerColor": "inherit",
     "id": "c942756b-f685-404d-b9ce-bc327c73fe12",
     "isComponent": false,
     "name": "",
     "parents": []
    },
    "tags": []
   },
   "outputs": [
    {
     "name": "stdout",
     "output_type": "stream",
     "text": [
      "[[0.309 0.93 -6.399 0.125 0.0192 0.0022 0.106 0.376 195.815 -0.8381 0.13\n",
      "  0.1 0.13 0.3 0.33]\n",
      " [0.717 0.253 -22.231 0.161 0.56 2.85e-05 0.0556 0.737 105.289 0.9581\n",
      "  0.23 0.07 0.16 0.41 0.14]\n",
      " [0.355 0.379 -8.172 0.0361 0.396 0.0393 0.15 0.329 164.989 0.9983 0.64\n",
      "  0.0 0.03 0.21 0.12]\n",
      " [0.589 0.384 -15.075 0.0332 0.112 2.8e-05 0.0596 0.354 132.909 0.9988\n",
      "  0.1 0.0 0.38 0.38 0.14]\n",
      " [0.94 0.335 -10.179 0.505 0.17 0.0 0.262 0.707 120.04 -0.6189 0.27 0.08\n",
      "  0.27 0.19 0.19]]\n",
      "['pop' 'others' 'rock' 'others' 'rap']\n"
     ]
    }
   ],
   "source": [
    "print(X_train[:5])\n",
    "print(Y_train[:5])"
   ]
  },
  {
   "cell_type": "code",
   "execution_count": 112,
   "id": "25d5e134-9aa6-474b-afdd-a678176c2cde",
   "metadata": {
    "canvas": {
     "comments": [],
     "componentType": "CodeCell",
     "copiedOriginId": null,
     "diskcache": false,
     "headerColor": "inherit",
     "id": "44bbebfc-cfa2-4de7-becf-449dbeaa2fb5",
     "isComponent": false,
     "name": "",
     "parents": []
    }
   },
   "outputs": [],
   "source": [
    "scoring = 'accuracy'\n",
    "\n",
    "models = []\n",
    "models.append(('LR', LogisticRegression(solver='liblinear', multi_class='ovr')))\n",
    "models.append(('LDA', LinearDiscriminantAnalysis()))\n",
    "models.append(('KNN', KNeighborsClassifier()))\n",
    "models.append(('CART', DecisionTreeClassifier()))\n",
    "models.append(('NB', GaussianNB()))\n",
    "models.append(('SVM', SVC(gamma='auto')))"
   ]
  },
  {
   "cell_type": "code",
   "execution_count": 113,
   "id": "789dcaf8-d8c4-4a32-846d-39b4ae4b1f80",
   "metadata": {
    "canvas": {
     "comments": [],
     "componentType": "CodeCell",
     "copiedOriginId": null,
     "diskcache": false,
     "headerColor": "inherit",
     "id": "5e95af18-d35f-4407-858e-1100a4495664",
     "isComponent": false,
     "name": "",
     "parents": []
    }
   },
   "outputs": [
    {
     "name": "stdout",
     "output_type": "stream",
     "text": [
      "LR 0.5272827274714067 0.01999651635713059\n",
      "LDA 0.5310643257813068 0.015144821642893378\n",
      "KNN 0.3479099584759962 0.020877919236002435\n",
      "CART 0.45137102061630363 0.03237698403144426\n",
      "NB 0.4859590587892475 0.016023954261498424\n",
      "SVM 0.42490857434253665 0.013333837399943186\n"
     ]
    }
   ],
   "source": [
    "results = []\n",
    "names = []\n",
    "for name, model in models:\n",
    "    kfold = StratifiedKFold(n_splits=10, random_state=1, shuffle=True)\n",
    "    cv_results = cross_val_score(model, X_train, Y_train, cv=kfold, scoring='accuracy')\n",
    "    results.append(cv_results)\n",
    "    names.append(name)\n",
    "    print(name, cv_results.mean(), cv_results.std())"
   ]
  },
  {
   "cell_type": "code",
   "execution_count": 114,
   "id": "969c34f1-0f72-4b6e-b000-4d232c58db40",
   "metadata": {
    "canvas": {
     "comments": [],
     "componentType": "CodeCell",
     "copiedOriginId": null,
     "diskcache": false,
     "headerColor": "inherit",
     "id": "4f8e2183-ae0a-45f7-a709-001a42b7d2af",
     "isComponent": false,
     "name": "",
     "parents": []
    }
   },
   "outputs": [
    {
     "name": "stdout",
     "output_type": "stream",
     "text": [
      "LR    0.52728 0.02000\n",
      "LDA   0.53106 0.01514\n",
      "KNN   0.34791 0.02088\n",
      "CART  0.45137 0.03238\n",
      "NB    0.48596 0.01602\n",
      "SVM   0.42491 0.01333\n"
     ]
    }
   ],
   "source": [
    "model_names= {\n",
    "    'LR': 'LR',\n",
    "    'LDA': 'LDA',\n",
    "    'KNN': 'KNN',\n",
    "    'CART': 'CART',\n",
    "    'NB': 'NB',\n",
    "    'SVM': 'SVM'\n",
    "}\n",
    "for name, result in zip(names, results):\n",
    "    print(\"{:5.5s} {:5.5f} {:5.5f}\".format(model_names[name], result.mean(), result.std()))"
   ]
  },
  {
   "cell_type": "code",
   "execution_count": 115,
   "id": "89e4bbe2-7bc4-4023-a186-cb10f8f1e2ea",
   "metadata": {
    "canvas": {
     "comments": [],
     "componentType": "CodeCell",
     "copiedOriginId": null,
     "diskcache": false,
     "headerColor": "inherit",
     "id": "1917809e-800a-40f7-828c-43e2d3f6ba2e",
     "isComponent": false,
     "name": "",
     "parents": []
    }
   },
   "outputs": [
    {
     "data": {
      "image/png": "[encoded data removed]",
      "text/plain": [
       "<Figure size 460.8x345.6 with 1 Axes>"
      ]
     },
     "metadata": {
      "needs_background": "light"
     },
     "output_type": "display_data"
    }
   ],
   "source": [
    "# Compare Algorithms\n",
    "plt.boxplot(results, labels=names)\n",
    "plt.title('Algorithm Comparison')\n",
    "plt.show()\n"
   ]
  },
  {
   "cell_type": "code",
   "execution_count": 116,
   "id": "fb91149b-20e5-42a5-b1d5-b096655b8b50",
   "metadata": {
    "canvas": {
     "comments": [],
     "componentType": "CodeCell",
     "copiedOriginId": "e4c913ed-cdbc-4977-ba29-68051e6d8746",
     "diskcache": false,
     "headerColor": "inherit",
     "id": "45c351a5-9616-4d93-a3c4-8ba027edf523",
     "isComponent": false,
     "name": "",
     "parents": []
    }
   },
   "outputs": [
    {
     "name": "stdout",
     "output_type": "stream",
     "text": [
      "===Testing results for LR ====\n",
      "=======LR Accuracy=========\n",
      "54.21166306695464\n",
      "\n",
      "\n",
      "==== LR Confusion Matrix=====\n",
      "[[ 40  36  14 127]\n",
      " [  8  63  20 118]\n",
      " [ 10  26  65  21]\n",
      " [ 14  25   5 334]]\n",
      "\n",
      "\n",
      "======= LR Classification Report=========\n",
      "              precision    recall  f1-score   support\n",
      "\n",
      "      others       0.56      0.18      0.28       217\n",
      "         pop       0.42      0.30      0.35       209\n",
      "         rap       0.62      0.53      0.58       122\n",
      "        rock       0.56      0.88      0.68       378\n",
      "\n",
      "    accuracy                           0.54       926\n",
      "   macro avg       0.54      0.48      0.47       926\n",
      "weighted avg       0.53      0.54      0.50       926\n",
      "\n",
      "\n"
     ]
    }
   ],
   "source": [
    "print('===Testing results for LR ====')\n",
    "lr = LogisticRegression(solver='liblinear', multi_class='ovr')\n",
    "lr.fit(X_train,Y_train)\n",
    "predictions = lr.predict(X_validation)\n",
    "print(\"=======LR Accuracy=========\")\n",
    "print(accuracy_score(Y_validation, predictions)*100)\n",
    "print()\n",
    "print('\\n==== LR Confusion Matrix=====')\n",
    "print(confusion_matrix(Y_validation, predictions))\n",
    "print()\n",
    "print(\"\\n======= LR Classification Report=========\")\n",
    "print(classification_report(Y_validation,predictions))\n",
    "print()\n"
   ]
  },
  {
   "cell_type": "code",
   "execution_count": 117,
   "id": "91e77ffc-3b0a-4a3b-bd1f-0e88f31a6d32",
   "metadata": {
    "canvas": {
     "comments": [],
     "componentType": "CodeCell",
     "copiedOriginId": null,
     "diskcache": false,
     "headerColor": "inherit",
     "id": "1f19b1ef-b11e-4b7f-9a24-f3869f36f3a0",
     "isComponent": false,
     "name": "",
     "parents": []
    }
   },
   "outputs": [
    {
     "name": "stdout",
     "output_type": "stream",
     "text": [
      "===Testing results for LR ====\n",
      "=======LR Accuracy=========\n",
      "54.21166306695464\n",
      "\n",
      "\n",
      "==== LR Confusion Matrix=====\n",
      "[[ 40  36  14 127]\n",
      " [  8  63  20 118]\n",
      " [ 10  26  65  21]\n",
      " [ 14  25   5 334]]\n",
      "\n",
      "\n",
      "======= LR Classification Report=========\n",
      "              precision    recall  f1-score   support\n",
      "\n",
      "      others       0.56      0.18      0.28       217\n",
      "         pop       0.42      0.30      0.35       209\n",
      "         rap       0.62      0.53      0.58       122\n",
      "        rock       0.56      0.88      0.68       378\n",
      "\n",
      "    accuracy                           0.54       926\n",
      "   macro avg       0.54      0.48      0.47       926\n",
      "weighted avg       0.53      0.54      0.50       926\n",
      "\n",
      "\n"
     ]
    }
   ],
   "source": [
    "print('===Testing results for LR ====')\n",
    "lr = LogisticRegression(solver='liblinear', multi_class='ovr')\n",
    "lr.fit(X_train,Y_train)\n",
    "predictions = lr.predict(X_validation)\n",
    "print(\"=======LR Accuracy=========\")\n",
    "print(accuracy_score(Y_validation, predictions)*100)\n",
    "print()\n",
    "print('\\n==== LR Confusion Matrix=====')\n",
    "print(confusion_matrix(Y_validation, predictions))\n",
    "print()\n",
    "print(\"\\n======= LR Classification Report=========\")\n",
    "print(classification_report(Y_validation,predictions))\n",
    "print()"
   ]
  },
  {
   "cell_type": "markdown",
   "id": "0d24160e-a289-40a6-a9bd-72576e49677a",
   "metadata": {
    "canvas": {
     "comments": [],
     "componentType": "CodeCell",
     "copiedOriginId": null,
     "diskcache": false,
     "headerColor": "inherit",
     "id": "258d43da-bcc8-4dd8-bd0d-01127d02ce1f",
     "isComponent": false,
     "name": "",
     "parents": []
    }
   },
   "source": [
    "## **Unsupervised Learning**"
   ]
  },
  {
   "cell_type": "markdown",
   "id": "6ddbc206-bbc2-4c58-a2c5-7431bfd31ae0",
   "metadata": {
    "canvas": {
     "comments": [],
     "componentType": "CodeCell",
     "copiedOriginId": null,
     "diskcache": false,
     "headerColor": "inherit",
     "id": "3062e68f-6723-47a0-ba17-d96c148669e3",
     "isComponent": false,
     "name": "",
     "parents": []
    }
   },
   "source": [
    "## Content-based recommender using songs' lyrics"
   ]
  },
  {
   "cell_type": "code",
   "execution_count": null,
   "id": "7f31d7f9-9287-4838-acef-9469ed80ebd4",
   "metadata": {
    "canvas": {
     "comments": [],
     "componentType": "CodeCell",
     "copiedOriginId": null,
     "diskcache": false,
     "headerColor": "inherit",
     "id": "d0edcfc4-e1a6-461c-b584-835a87a356ca",
     "isComponent": false,
     "name": "",
     "parents": []
    }
   },
   "outputs": [],
   "source": [
    "from sklearn.feature_extraction.text import TfidfVectorizer\n",
    "from sklearn.metrics.pairwise import linear_kernel"
   ]
  },
  {
   "cell_type": "code",
   "execution_count": null,
   "id": "89537ac3-2e00-4939-af69-893cfed53557",
   "metadata": {
    "canvas": {
     "comments": [],
     "componentType": "CodeCell",
     "copiedOriginId": null,
     "diskcache": false,
     "headerColor": "inherit",
     "id": "224f28cf-0220-494d-8ba4-f4212be0a254",
     "isComponent": false,
     "name": "",
     "parents": []
    },
    "tags": []
   },
   "outputs": [],
   "source": [
    "tfidf = TfidfVectorizer(stop_words=stop_words_all)\n",
    "\n",
    "lyrics = df['lyrics'].dropna()\n",
    "lyrics.reset_index(drop=True, inplace=True)\n",
    "\n",
    "# Construct the required TF-IDF matrix by fitting and transforming the data\n",
    "tfidf_matrix = tfidf.fit_transform(lyrics)\n",
    "\n",
    "display(tfidf_matrix)\n",
    "\n",
    "# Compute the cosine similarity matrix\n",
    "cosine_sim = linear_kernel(tfidf_matrix, tfidf_matrix)\n",
    "\n",
    "cosine_sim"
   ]
  },
  {
   "cell_type": "code",
   "execution_count": null,
   "id": "64302d84-714f-4890-b117-aee8807582b0",
   "metadata": {
    "canvas": {
     "comments": [],
     "componentType": "CodeCell",
     "copiedOriginId": "dbd39b81-0bd4-4d6a-86a8-d841adf7f6bc",
     "diskcache": false,
     "headerColor": "inherit",
     "id": "4d23df93-b89e-409c-8379-a29401fb30bf",
     "isComponent": false,
     "name": "",
     "parents": []
    }
   },
   "outputs": [],
   "source": [
    "indices = pd.Series(lyrics.index, index=df.dropna()['title']).drop_duplicates()"
   ]
  },
  {
   "cell_type": "code",
   "execution_count": null,
   "id": "5ee9cb2c-09cb-4c2e-b7e8-f4ce042e65c5",
   "metadata": {
    "canvas": {
     "comments": [],
     "componentType": "CodeCell",
     "copiedOriginId": "082d65a8-7be5-4830-8940-0b703b5d4f88",
     "diskcache": false,
     "headerColor": "inherit",
     "id": "ab5912cb-249f-4b9b-b198-d05026fd9e43",
     "isComponent": false,
     "name": "",
     "parents": []
    }
   },
   "outputs": [],
   "source": [
    "def get_song_recommendations(title, cosine_sim=cosine_sim):\n",
    "    idx = indices[title]\n",
    "\n",
    "    # Get the pairwise similarity scores of all songs\n",
    "    sim_scores = list(enumerate(cosine_sim[idx]))\n",
    "\n",
    "    # Sort based on the similarity scores\n",
    "    sim_scores = sorted(sim_scores, key=lambda x: x[1], reverse=True)\n",
    "\n",
    "    # Get the scores of the 10 most similar ones\n",
    "    sim_scores = sim_scores[1:11]\n",
    "\n",
    "    # Get the songs indices\n",
    "    songs_indices = [i[0] for i in sim_scores]\n",
    "\n",
    "    # Return the top 10 most similar results\n",
    "    return df['title'].iloc[songs_indices]"
   ]
  },
  {
   "cell_type": "code",
   "execution_count": null,
   "id": "4d22e22d-5c24-41cf-a716-167ea6619b22",
   "metadata": {
    "canvas": {
     "comments": [],
     "componentType": "CodeCell",
     "copiedOriginId": null,
     "diskcache": false,
     "headerColor": "inherit",
     "id": "e47dc163-701f-404a-8b6f-96bbed79315f",
     "isComponent": false,
     "name": "",
     "parents": []
    }
   },
   "outputs": [],
   "source": [
    "get_song_recommendations('Easier')"
   ]
  },
  {
   "cell_type": "code",
   "execution_count": null,
   "id": "4b613e25-5de4-4dc9-a5a2-856d221fc2b0",
   "metadata": {
    "canvas": {
     "comments": [],
     "componentType": "CodeCell",
     "copiedOriginId": null,
     "diskcache": false,
     "headerColor": "inherit",
     "id": "6570b9cc-ff6e-43a1-9a71-98ebbb9eefe5",
     "isComponent": false,
     "name": "",
     "parents": []
    }
   },
   "outputs": [],
   "source": [
    "def get_lyrics_recommendations(keywords):\n",
    "    lyrics = df['lyrics'].dropna()\n",
    "    lyrics.reset_index(drop=True, inplace=True)\n",
    "    lyrics.loc[len(lyrics.index)] = str(keywords)\n",
    "\n",
    "    # Construct the required TF-IDF matrix by fitting and transforming the data\n",
    "    tfidf_matrix = tfidf.fit_transform(lyrics)\n",
    "\n",
    "    # Compute the cosine similarity matrix\n",
    "    cosine_sim = linear_kernel(tfidf_matrix, tfidf_matrix)    \n",
    "\n",
    "    # Get the pairwsie similarity scores of all songs\n",
    "    sim_scores = list(enumerate(cosine_sim[lyrics.index[-1]]))\n",
    "    \n",
    "    # # Sort based on the similarity scores\n",
    "    sim_scores = sorted(sim_scores, key=lambda x: x[1], reverse=True)\n",
    "\n",
    "    # # Get the scores of the 10 most similar ones\n",
    "    sim_scores = sim_scores[1:11]\n",
    "\n",
    "    # # Get the songs indices\n",
    "    lyrics_indices = [i[0] for i in sim_scores]\n",
    "\n",
    "    # # Return the top 10 most similar results\n",
    "    return lyrics.iloc[lyrics_indices]"
   ]
  },
  {
   "cell_type": "code",
   "execution_count": null,
   "id": "1b910e8a-276f-4937-a1ef-e55f9020b7a9",
   "metadata": {
    "canvas": {
     "comments": [],
     "componentType": "CodeCell",
     "copiedOriginId": null,
     "diskcache": false,
     "headerColor": "inherit",
     "id": "fd843d1b-ab7a-40cb-9c21-2286f5b50421",
     "isComponent": false,
     "name": "",
     "parents": []
    }
   },
   "outputs": [],
   "source": [
    "pd.set_option('display.expand_frame_repr', False)\n",
    "rec = get_lyrics_recommendations('love heartache reciprocate').reset_index()\n",
    "rec"
   ]
  },
  {
   "cell_type": "markdown",
   "id": "f7b6415b-c82a-4238-a1e9-55d5d2f0fcb3",
   "metadata": {
    "canvas": {
     "comments": [],
     "componentType": "CodeCell",
     "copiedOriginId": "d43060e7-cc63-42e5-8102-9a47ee69ee45",
     "diskcache": false,
     "headerColor": "inherit",
     "id": "3df5d80b-9145-4cc1-9a62-c6305fc47c84",
     "isComponent": false,
     "name": "",
     "parents": []
    }
   },
   "source": [
    "## Content-based recommender using songs's features"
   ]
  },
  {
   "cell_type": "markdown",
   "id": "38b68702-f8bc-4a99-b65f-0c987cd1e754",
   "metadata": {
    "canvas": {
     "comments": [],
     "componentType": "CodeCell",
     "copiedOriginId": null,
     "diskcache": false,
     "headerColor": "inherit",
     "id": "1e427692-0061-4362-b47e-857f0f7ef744",
     "isComponent": false,
     "name": "",
     "parents": []
    }
   },
   "source": [
    "### _Clustering on all 15 features_"
   ]
  },
  {
   "cell_type": "code",
   "execution_count": null,
   "id": "4ce06326-3115-4f49-baba-c4423b0f5692",
   "metadata": {
    "canvas": {
     "comments": [],
     "componentType": "CodeCell",
     "copiedOriginId": null,
     "diskcache": false,
     "headerColor": "inherit",
     "id": "190c0cbb-627b-4186-913d-abb9a6513255",
     "isComponent": false,
     "name": "",
     "parents": []
    }
   },
   "outputs": [],
   "source": [
    "from sklearn import preprocessing\n",
    "from sklearn.cluster import KMeans\n",
    "from sklearn.decomposition import PCA\n",
    "from sklearn.metrics import silhouette_samples, silhouette_score\n",
    "from yellowbrick.cluster import SilhouetteVisualizer\n",
    "from yellowbrick.datasets import load_nfl\n",
    "from yellowbrick.cluster import KElbowVisualizer"
   ]
  },
  {
   "cell_type": "code",
   "execution_count": null,
   "id": "52a0d981-dff8-4f10-8be0-1f78ba3ff32c",
   "metadata": {
    "canvas": {
     "comments": [],
     "componentType": "CodeCell",
     "copiedOriginId": null,
     "diskcache": false,
     "headerColor": "inherit",
     "id": "01980a8d-057a-47f4-8046-0201ecabd3fe",
     "isComponent": false,
     "name": "",
     "parents": []
    }
   },
   "outputs": [],
   "source": [
    "df_cluster = df.drop(['title', 'primary_artist','key','mode','genres','lyrics','duration_s'], axis=1)\n",
    "columns = [\"danceability\", \"energy\", \"loudness\", \"speechiness\", \"acousticness\", \"instrumentalness\", \"liveness\", \"valence\", \"tempo\", \"nltk\", \"Happy\", \"Angry\", \"Surprise\", \"Sad\", \"Fear\"]\n",
    "df_cluster = df_cluster[columns]\n",
    "df_cluster.dropna(inplace=True)\n",
    "df_cluster.reset_index(drop=True, inplace=True)\n",
    "df_cluster"
   ]
  },
  {
   "cell_type": "code",
   "execution_count": null,
   "id": "8aba1ad7-23fb-42e2-8243-a9bac49df12f",
   "metadata": {
    "canvas": {
     "comments": [],
     "componentType": "CodeCell",
     "copiedOriginId": null,
     "diskcache": false,
     "headerColor": "inherit",
     "id": "0e3ecacd-7767-4b22-a453-0f0a250ff0f1",
     "isComponent": false,
     "name": "",
     "parents": []
    }
   },
   "outputs": [],
   "source": [
    "x = df_cluster.values \n",
    "min_max_scaler = preprocessing.MinMaxScaler()\n",
    "x_scaled = min_max_scaler.fit_transform(x)\n",
    "\n",
    "model = KMeans()\n",
    "visualizer = KElbowVisualizer(model, k=(2,12), metric='silhouette', timings=False)\n",
    "visualizer.fit(x_scaled)\n",
    "\n",
    "score = visualizer.elbow_score_\n",
    "value = visualizer.elbow_value_"
   ]
  },
  {
   "cell_type": "code",
   "execution_count": null,
   "id": "b4b6f474-9b54-4802-b492-81ea54d54517",
   "metadata": {
    "canvas": {
     "comments": [],
     "componentType": "CodeCell",
     "copiedOriginId": null,
     "diskcache": false,
     "headerColor": "inherit",
     "id": "acab92b9-f03f-437b-8043-05ace9595f8b",
     "isComponent": false,
     "name": "",
     "parents": []
    }
   },
   "outputs": [],
   "source": [
    "clustering_kmeans = KMeans(n_clusters=2, random_state=0)\n",
    "df_cluster['clusters'] = clustering_kmeans.fit_predict(df_cluster)"
   ]
  },
  {
   "cell_type": "code",
   "execution_count": null,
   "id": "167401a6-c75d-4483-83ec-bde4526b09bb",
   "metadata": {
    "canvas": {
     "comments": [],
     "componentType": "CodeCell",
     "copiedOriginId": null,
     "diskcache": false,
     "headerColor": "inherit",
     "id": "0409d7d6-60eb-4632-af8c-3ee115edb5b4",
     "isComponent": false,
     "name": "",
     "parents": []
    }
   },
   "outputs": [],
   "source": [
    "### Run PCA on the data and reduce the dimensions in pca_num_components dimensions\n",
    "pca_num_components = 2\n",
    "\n",
    "reduced_data = PCA(n_components=pca_num_components).fit_transform(df_cluster)\n",
    "results = pd.DataFrame(reduced_data,columns=['pca1','pca2'])\n",
    "\n",
    "sns.scatterplot(x=\"pca1\", y=\"pca2\", hue=df_cluster['clusters'], data=results)\n",
    "plt.title('K-means Clustering with 2 dimensions')\n",
    "plt.show()"
   ]
  },
  {
   "cell_type": "code",
   "execution_count": null,
   "id": "6f386e26-eb25-4187-aa3f-b48816900213",
   "metadata": {
    "canvas": {
     "comments": [],
     "componentType": "CodeCell",
     "copiedOriginId": null,
     "diskcache": false,
     "headerColor": "inherit",
     "id": "e1352404-5dc8-4988-96ab-622b744321d6",
     "isComponent": false,
     "name": "",
     "parents": []
    }
   },
   "outputs": [],
   "source": [
    "df_cluster_0 = df_cluster[df_cluster['clusters']==0]\n",
    "df_cluster_1 = df_cluster[df_cluster['clusters']==1]\n",
    "display(df_cluster_0.describe())\n",
    "display(df_cluster_1.describe())"
   ]
  },
  {
   "cell_type": "code",
   "execution_count": null,
   "id": "e63b3cb2-7353-4cd0-ae38-6487eab0cbb9",
   "metadata": {
    "canvas": {
     "comments": [],
     "componentType": "CodeCell",
     "copiedOriginId": null,
     "diskcache": false,
     "headerColor": "inherit",
     "id": "dab46d97-1928-45b4-a45f-72a968303409",
     "isComponent": false,
     "name": "",
     "parents": []
    }
   },
   "outputs": [],
   "source": [
    "clustering_kmeans = KMeans(n_clusters=3, random_state=0)\n",
    "df_cluster['clusters'] = clustering_kmeans.fit_predict(df_cluster)\n",
    "\n",
    "reduced_data = PCA(n_components=pca_num_components).fit_transform(df_cluster)\n",
    "results = pd.DataFrame(reduced_data,columns=['pca1','pca2'])\n",
    "\n",
    "sns.scatterplot(x=\"pca1\", y=\"pca2\", hue=df_cluster['clusters'], data=results)\n",
    "plt.title('K-means Clustering with 2 dimensions')\n",
    "plt.show()\n",
    "\n",
    "df_cluster_0 = df_cluster[df_cluster['clusters']==0]\n",
    "df_cluster_1 = df_cluster[df_cluster['clusters']==1]\n",
    "df_cluster_2 = df_cluster[df_cluster['clusters']==2]\n",
    "\n",
    "display(df_cluster_0.describe())\n",
    "display(df_cluster_1.describe())\n",
    "display(df_cluster_2.describe())"
   ]
  },
  {
   "cell_type": "code",
   "execution_count": null,
   "id": "0c33b1e2-9440-4337-af01-34d8be51b238",
   "metadata": {
    "canvas": {
     "comments": [],
     "componentType": "CodeCell",
     "copiedOriginId": null,
     "diskcache": false,
     "headerColor": "inherit",
     "id": "0f7a71fe-ea57-4a22-ab7b-8f2455f90a33",
     "isComponent": false,
     "name": "",
     "parents": []
    }
   },
   "outputs": [],
   "source": []
  },
  {
   "cell_type": "markdown",
   "id": "ccaffa8d-0ee0-469c-9abb-82652a9da4b5",
   "metadata": {
    "canvas": {
     "comments": [],
     "componentType": "CodeCell",
     "copiedOriginId": null,
     "diskcache": false,
     "headerColor": "inherit",
     "id": "0c746d9f-8154-47f8-84b2-0885d938274d",
     "isComponent": false,
     "name": "",
     "parents": []
    }
   },
   "source": [
    "### _Finding the ideal number of clusters using Elbow Method_"
   ]
  },
  {
   "cell_type": "code",
   "execution_count": null,
   "id": "3284660c-b38d-4ed3-93d2-856eae742e34",
   "metadata": {
    "canvas": {
     "comments": [],
     "componentType": "CodeCell",
     "copiedOriginId": null,
     "diskcache": false,
     "headerColor": "inherit",
     "id": "be03a541-8d9d-494e-a134-b887d490baf4",
     "isComponent": false,
     "name": "",
     "parents": []
    }
   },
   "outputs": [],
   "source": [
    "df_cluster = df.drop(['title', 'primary_artist','key','mode','genres','lyrics','duration_s'], axis=1)\n",
    "columns = [\"danceability\", \"energy\", \"loudness\", \"speechiness\", \"acousticness\", \"instrumentalness\", \"liveness\", \"valence\", \"tempo\", \"nltk\", \"Happy\", \"Angry\", \"Surprise\", \"Sad\", \"Fear\"]\n",
    "df_cluster = df[columns]\n",
    "df_cluster.dropna(inplace=True)\n",
    "df_cluster.reset_index(drop=True, inplace=True)\n",
    "df_cluster"
   ]
  },
  {
   "cell_type": "code",
   "execution_count": null,
   "id": "a8209ef6-4a05-437b-a238-16ee00134da5",
   "metadata": {
    "canvas": {
     "comments": [],
     "componentType": "CodeCell",
     "copiedOriginId": "264eee42-555f-4c7e-8f59-fd6d5621ea6a",
     "diskcache": false,
     "headerColor": "inherit",
     "id": "b12f6c5a-55b7-4d5e-aea5-c902273666eb",
     "isComponent": false,
     "name": "",
     "parents": []
    }
   },
   "outputs": [],
   "source": [
    "from itertools import combinations, permutations\n",
    "\n",
    "comb = combinations(columns, 3)\n",
    "output = set(map(lambda x: tuple(sorted(x)),comb))\n",
    "\n",
    "column_names = [\"features\", \"score\", \"elbow\"]\n",
    "df2 = pd.DataFrame(columns = column_names)"
   ]
  },
  {
   "cell_type": "code",
   "execution_count": null,
   "id": "14d8d5a2-ffaa-4f8e-8176-36ffc851890c",
   "metadata": {
    "canvas": {
     "comments": [],
     "componentType": "CodeCell",
     "copiedOriginId": null,
     "diskcache": false,
     "headerColor": "inherit",
     "id": "766438f8-4ff2-4252-bbe3-b910f6a6b2d2",
     "isComponent": false,
     "name": "",
     "parents": []
    },
    "tags": []
   },
   "outputs": [],
   "source": [
    "for i in list(output):\n",
    "    try:\n",
    "        df1 = df_cluster[[ i[0], i[1], i[2] ]]\n",
    "        x = df1.values \n",
    "        min_max_scaler = preprocessing.MinMaxScaler()\n",
    "        x_scaled = min_max_scaler.fit_transform(x)\n",
    "\n",
    "        model = KMeans(random_state=0)\n",
    "        visualizer = KElbowVisualizer(model, k=(2,12), metric='silhouette', timings=False)\n",
    "        visualizer.fit(x_scaled)\n",
    "\n",
    "        score = visualizer.elbow_score_\n",
    "        value = visualizer.elbow_value_\n",
    "        if score > 0.4:\n",
    "            # visualizer.show()\n",
    "            idx = df1.columns\n",
    "            mylist = idx.tolist()\n",
    "            dict = {\n",
    "                \"features\": mylist,\n",
    "                \"score\": score,\n",
    "                \"elbow\": value\n",
    "            }\n",
    "            df2 = df2.append(dict, ignore_index=True)\n",
    "    except: \n",
    "        print(\"Input error\")"
   ]
  },
  {
   "cell_type": "code",
   "execution_count": null,
   "id": "8a0a16c9-847b-411d-992f-f1f9a7c63e41",
   "metadata": {
    "canvas": {
     "comments": [],
     "componentType": "CodeCell",
     "copiedOriginId": null,
     "diskcache": false,
     "headerColor": "inherit",
     "id": "7816aa9e-c5a9-4695-99f5-56ef42ba6f9a",
     "isComponent": false,
     "name": "",
     "parents": []
    }
   },
   "outputs": [],
   "source": [
    "# path = './data'\n",
    "# elbow_df = pd.read_csv(path+'/elbow_cluster_combinations.csv')\n",
    "display(elbow_df[elbow_df['elbow']==3].sort_values(by='score', ascending=False)[:10])"
   ]
  },
  {
   "cell_type": "code",
   "execution_count": null,
   "id": "1346a8eb-1302-4392-876d-d775431866ae",
   "metadata": {
    "canvas": {
     "comments": [],
     "componentType": "CodeCell",
     "copiedOriginId": null,
     "diskcache": false,
     "headerColor": "inherit",
     "id": "814056f0-e719-4c02-ac23-6bf3cd7970aa",
     "isComponent": false,
     "name": "",
     "parents": []
    },
    "tags": []
   },
   "outputs": [],
   "source": [
    "kmeans = KMeans(init=\"k-means++\",\n",
    "                n_clusters=2,\n",
    "                random_state=42,\n",
    "                max_iter = 500).fit(x_scaled)\n",
    "new_df_cluster = df_cluster.copy()\n",
    "new_df_cluster['kmeans'] = kmeans.labels_\n",
    "new_df_cluster = new_df_cluster[['instrumentalness', 'nltk', 'speechiness', 'kmeans']]\n",
    "new_df_cluster"
   ]
  },
  {
   "cell_type": "code",
   "execution_count": null,
   "id": "95b3dd32-1f50-4ffd-893a-a34aedcb0528",
   "metadata": {
    "canvas": {
     "comments": [],
     "componentType": "CodeCell",
     "copiedOriginId": null,
     "diskcache": false,
     "headerColor": "inherit",
     "id": "b60c81c6-d8a6-4566-bb85-253a8eea6bf2",
     "isComponent": false,
     "name": "",
     "parents": []
    },
    "tags": []
   },
   "outputs": [],
   "source": [
    "# import plotly.express as px\n",
    "\n",
    "kmeans = new_df_cluster['kmeans']\n",
    "df_cluster['kmeans'] = kmeans\n",
    "\n",
    "fig = px.scatter_3d(df_cluster, x='instrumentalness', y='nltk', z='speechiness',\n",
    "              color='kmeans')\n",
    "fig.show()\n",
    "\n",
    "# Violin Plot for each cluster \n",
    "c0 = new_df_cluster[new_df_cluster['kmeans']==0]\n",
    "c1 = new_df_cluster[new_df_cluster['kmeans']==1]\n",
    "\n",
    "c0.drop(['kmeans'], axis=1, inplace=True)\n",
    "c1.drop(['kmeans'], axis=1, inplace=True)\n",
    "# c2.drop(['kmeans'], axis=1, inplace=True)\n",
    "# c3.drop(['kmeans'], axis=1, inplace=True)\n",
    "\n",
    "\n",
    "x = c0.values #returns a numpy array\n",
    "min_max_scaler = preprocessing.MinMaxScaler()\n",
    "c0_scaled = min_max_scaler.fit_transform(x)\n",
    "c0 = pd.DataFrame(c0_scaled)\n",
    "c0.columns = ['instrumentalness', 'nltk', 'valence']\n",
    "c0=c0.melt(var_name='groups', value_name='vals')\n",
    "\n",
    "x = c1.values \n",
    "min_max_scaler = preprocessing.MinMaxScaler()\n",
    "c1_scaled = min_max_scaler.fit_transform(x)\n",
    "c1 = pd.DataFrame(c1_scaled)\n",
    "c1.columns = ['instrumentalness', 'nltk', 'valence']\n",
    "c1=c1.melt(var_name='groups', value_name='vals')\n",
    "\n",
    "f, axes = plt.subplots(2, 1)\n",
    "ax = sns.violinplot( data=c0 ,x=\"groups\", y=\"vals\", linewidth = 0.6, inner = 'point', scale= 'width', ax=axes[0])\n",
    "ax = sns.violinplot( data=c1 ,x=\"groups\", y=\"vals\", linewidth = 0.6, inner = 'point', scale= 'width', ax=axes[1])\n",
    "# ax = sns.violinplot( data=c2 ,x=\"groups\", y=\"vals\", linewidth = 0.6, inner = 'point', scale= 'width', ax=axes[2])\n",
    "# ax = sns.violinplot( data=c3 ,x=\"groups\", y=\"vals\", linewidth = 0.6, inner = 'point', scale= 'width', ax=axes[3])\n",
    "\n",
    "plt.show()"
   ]
  },
  {
   "cell_type": "code",
   "execution_count": null,
   "id": "b144266b-5d3b-43ff-8346-43488875b7d5",
   "metadata": {
    "canvas": {
     "comments": [],
     "componentType": "CodeCell",
     "copiedOriginId": null,
     "diskcache": false,
     "headerColor": "inherit",
     "id": "7382d591-a8b5-41b9-ac63-5b28c79da456",
     "isComponent": false,
     "name": "",
     "parents": []
    }
   },
   "outputs": [],
   "source": [
    "df_cluster_0 = df_cluster[df_cluster['kmeans']==0]\n",
    "df_cluster_1 = df_cluster[df_cluster['kmeans']==1]\n",
    "display(df_cluster_0.describe())\n",
    "display(df_cluster_1.describe())"
   ]
  },
  {
   "cell_type": "code",
   "execution_count": null,
   "id": "1b4b7c12-dab1-4124-b8ea-4384d8158733",
   "metadata": {
    "canvas": {
     "comments": [],
     "componentType": "CodeCell",
     "copiedOriginId": null,
     "diskcache": false,
     "headerColor": "inherit",
     "id": "b5e32d25-dcf2-4363-92c8-9f9929be4fbc",
     "isComponent": false,
     "name": "",
     "parents": []
    }
   },
   "outputs": [],
   "source": []
  },
  {
   "cell_type": "markdown",
   "id": "dba72cc1-c964-412d-a274-4be82570b76e",
   "metadata": {
    "canvas": {
     "comments": [],
     "componentType": "CodeCell",
     "copiedOriginId": null,
     "diskcache": false,
     "headerColor": "inherit",
     "id": "9cf17890-2321-4187-a9ac-be136eb88fdb",
     "isComponent": false,
     "name": "",
     "parents": []
    }
   },
   "source": [
    "### Try more number of clusters"
   ]
  },
  {
   "cell_type": "code",
   "execution_count": null,
   "id": "59639e87-14c4-4bdf-990d-347e4d8cd4da",
   "metadata": {
    "canvas": {
     "comments": [],
     "componentType": "CodeCell",
     "copiedOriginId": null,
     "diskcache": false,
     "headerColor": "inherit",
     "id": "16b529c7-8725-4ffa-9959-15615eb6da00",
     "isComponent": false,
     "name": "",
     "parents": []
    }
   },
   "outputs": [],
   "source": [
    "kmeans = KMeans(init=\"k-means++\",\n",
    "                n_clusters=3,\n",
    "                random_state=42,\n",
    "                max_iter = 500).fit(x_scaled)\n",
    "new_df_cluster = df_cluster.copy()\n",
    "new_df_cluster['kmeans'] = kmeans.labels_\n",
    "new_df_cluster = new_df_cluster[['acousticness', 'instrumentalness', 'speechiness', 'kmeans']]\n",
    "new_df_cluster"
   ]
  },
  {
   "cell_type": "code",
   "execution_count": null,
   "id": "27000c40-b29c-49a2-bc18-cd66edbb6f53",
   "metadata": {
    "canvas": {
     "comments": [],
     "componentType": "CodeCell",
     "copiedOriginId": null,
     "diskcache": false,
     "headerColor": "inherit",
     "id": "3c89c8f7-09b8-44de-a977-ab89e2c58de9",
     "isComponent": false,
     "name": "",
     "parents": []
    },
    "tags": []
   },
   "outputs": [],
   "source": [
    "kmeans = new_df_cluster['kmeans']\n",
    "df_cluster['kmeans'] = kmeans\n",
    "\n",
    "fig = px.scatter_3d(df_cluster, x='acousticness', y='instrumentalness', z='speechiness',\n",
    "              color='kmeans')\n",
    "fig.show()\n",
    "\n",
    "# Violin Plot for each cluster \n",
    "c0 = new_df_cluster[new_df_cluster['kmeans']==0]\n",
    "c1 = new_df_cluster[new_df_cluster['kmeans']==1]\n",
    "c2 = new_df_cluster[new_df_cluster['kmeans']==2]\n",
    "\n",
    "c0.drop(['kmeans'], axis=1, inplace=True)\n",
    "c1.drop(['kmeans'], axis=1, inplace=True)\n",
    "c2.drop(['kmeans'], axis=1, inplace=True)\n",
    "\n",
    "x = c0.values\n",
    "min_max_scaler = preprocessing.MinMaxScaler()\n",
    "c0_scaled = min_max_scaler.fit_transform(x)\n",
    "c0 = pd.DataFrame(c0_scaled)\n",
    "c0.columns = ['acousticness', 'instrumentalness', 'speechiness']\n",
    "c0=c0.melt(var_name='groups', value_name='vals')\n",
    "\n",
    "x = c1.values \n",
    "min_max_scaler = preprocessing.MinMaxScaler()\n",
    "c1_scaled = min_max_scaler.fit_transform(x)\n",
    "c1 = pd.DataFrame(c1_scaled)\n",
    "c1.columns = ['acousticness', 'instrumentalness', 'speechiness']\n",
    "c1=c1.melt(var_name='groups', value_name='vals')\n",
    "\n",
    "x = c2.values \n",
    "min_max_scaler = preprocessing.MinMaxScaler()\n",
    "c2_scaled = min_max_scaler.fit_transform(x)\n",
    "c2 = pd.DataFrame(c2_scaled)\n",
    "c2.columns = ['acousticness', 'instrumentalness', 'speechiness']\n",
    "c2=c2.melt(var_name='groups', value_name='vals')\n",
    "\n",
    "f, axes = plt.subplots(3, 1)\n",
    "ax = sns.violinplot( data=c0 ,x=\"groups\", y=\"vals\", linewidth = 0.6, inner = 'point', scale= 'width', ax=axes[0])\n",
    "ax = sns.violinplot( data=c1 ,x=\"groups\", y=\"vals\", linewidth = 0.6, inner = 'point', scale= 'width', ax=axes[1])\n",
    "ax = sns.violinplot( data=c2 ,x=\"groups\", y=\"vals\", linewidth = 0.6, inner = 'point', scale= 'width', ax=axes[2])\n",
    "\n",
    "plt.show()"
   ]
  },
  {
   "cell_type": "code",
   "execution_count": null,
   "id": "30f98a8a-433e-4d83-abcf-ecd61cc18eda",
   "metadata": {
    "canvas": {
     "comments": [],
     "componentType": "CodeCell",
     "copiedOriginId": null,
     "diskcache": false,
     "headerColor": "inherit",
     "id": "8c1504fd-f8bf-4e39-9e11-6c563e470307",
     "isComponent": false,
     "name": "",
     "parents": []
    }
   },
   "outputs": [],
   "source": [
    "kmeans = KMeans(init=\"k-means++\",\n",
    "                n_clusters=4,\n",
    "                random_state=42,\n",
    "                max_iter = 500).fit(x_scaled)\n",
    "new_df_cluster = df_cluster.copy()\n",
    "new_df_cluster['kmeans'] = kmeans.labels_\n",
    "new_df_cluster = new_df_cluster[['instrumentalness', 'loudness', 'speechiness', 'kmeans']]\n",
    "new_df_cluster"
   ]
  },
  {
   "cell_type": "code",
   "execution_count": null,
   "id": "f36fa093-b7ed-414c-a79a-72b7194425b2",
   "metadata": {
    "canvas": {
     "comments": [],
     "componentType": "CodeCell",
     "copiedOriginId": null,
     "diskcache": false,
     "headerColor": "inherit",
     "id": "06d1e967-9de7-4007-adc2-8822cfbaf005",
     "isComponent": false,
     "name": "",
     "parents": []
    }
   },
   "outputs": [],
   "source": [
    "# Looking at statistical distribution of the data in each column for each cluster\n",
    "pd.set_option('display.max_columns', None)\n",
    "df_cluster_0 = df_cluster[df_cluster['kmeans']==0]\n",
    "df_cluster_1 = df_cluster[df_cluster['kmeans']==1]\n",
    "df_cluster_2 = df_cluster[df_cluster['kmeans']==2]\n",
    "\n",
    "# display(df_cluster.describe().loc[['mean']])\n",
    "display(df_cluster_0.describe().loc[['mean']])\n",
    "display(df_cluster_1.describe().loc[['mean']])\n",
    "display(df_cluster_2.describe().loc[['mean']])"
   ]
  },
  {
   "cell_type": "code",
   "execution_count": null,
   "id": "653f0ead-a873-4fa9-9fda-5d4d7e429151",
   "metadata": {
    "canvas": {
     "comments": [],
     "componentType": "CodeCell",
     "copiedOriginId": null,
     "diskcache": false,
     "headerColor": "inherit",
     "id": "171c15a9-55a8-45d2-9f41-7b91fe761d87",
     "isComponent": false,
     "name": "",
     "parents": []
    }
   },
   "outputs": [],
   "source": [
    "kmeans = new_df_cluster['kmeans']\n",
    "df_cluster['kmeans'] = kmeans\n",
    "\n",
    "fig = px.scatter_3d(df_cluster, x='instrumentalness', y='loudness', z='speechiness',\n",
    "              color='kmeans')\n",
    "fig.show()\n",
    "\n",
    "# Violin Plot for each cluster \n",
    "c0 = new_df_cluster[new_df_cluster['kmeans']==0]\n",
    "c1 = new_df_cluster[new_df_cluster['kmeans']==1]\n",
    "c2 = new_df_cluster[new_df_cluster['kmeans']==2]\n",
    "c3 = new_df_cluster[new_df_cluster['kmeans']==3]\n",
    "\n",
    "c0.drop(['kmeans'], axis=1, inplace=True)\n",
    "c1.drop(['kmeans'], axis=1, inplace=True)\n",
    "c2.drop(['kmeans'], axis=1, inplace=True)\n",
    "c3.drop(['kmeans'], axis=1, inplace=True)\n",
    "\n",
    "x = c0.values\n",
    "min_max_scaler = preprocessing.MinMaxScaler()\n",
    "c0_scaled = min_max_scaler.fit_transform(x)\n",
    "c0 = pd.DataFrame(c0_scaled)\n",
    "c0.columns = ['instrumentalness', 'loudness', 'speechiness']\n",
    "c0=c0.melt(var_name='groups', value_name='vals')\n",
    "\n",
    "x = c1.values \n",
    "min_max_scaler = preprocessing.MinMaxScaler()\n",
    "c1_scaled = min_max_scaler.fit_transform(x)\n",
    "c1 = pd.DataFrame(c1_scaled)\n",
    "c1.columns = ['instrumentalness', 'loudness', 'speechiness']\n",
    "c1=c1.melt(var_name='groups', value_name='vals')\n",
    "\n",
    "x = c2.values \n",
    "min_max_scaler = preprocessing.MinMaxScaler()\n",
    "c2_scaled = min_max_scaler.fit_transform(x)\n",
    "c2 = pd.DataFrame(c2_scaled)\n",
    "c2.columns = ['instrumentalness', 'loudness', 'speechiness']\n",
    "c2=c2.melt(var_name='groups', value_name='vals')\n",
    "\n",
    "x = c3.values \n",
    "min_max_scaler = preprocessing.MinMaxScaler()\n",
    "c3_scaled = min_max_scaler.fit_transform(x)\n",
    "c3 = pd.DataFrame(c3_scaled)\n",
    "c3.columns = ['instrumentalness', 'loudness', 'speechiness']\n",
    "c3=c3.melt(var_name='groups', value_name='vals')\n",
    "\n",
    "f, axes = plt.subplots(4, 1)\n",
    "ax = sns.violinplot( data=c0 ,x=\"groups\", y=\"vals\", linewidth = 0.6, inner = 'point', scale= 'width', ax=axes[0])\n",
    "ax = sns.violinplot( data=c1 ,x=\"groups\", y=\"vals\", linewidth = 0.6, inner = 'point', scale= 'width', ax=axes[1])\n",
    "ax = sns.violinplot( data=c2 ,x=\"groups\", y=\"vals\", linewidth = 0.6, inner = 'point', scale= 'width', ax=axes[2])\n",
    "ax = sns.violinplot( data=c3 ,x=\"groups\", y=\"vals\", linewidth = 0.6, inner = 'point', scale= 'width', ax=axes[3])\n",
    "\n",
    "plt.show()"
   ]
  },
  {
   "cell_type": "markdown",
   "id": "ebc806a5-670c-4fae-aa0b-2185664f7d88",
   "metadata": {
    "canvas": {
     "comments": [],
     "componentType": "CodeCell",
     "copiedOriginId": null,
     "diskcache": false,
     "headerColor": "inherit",
     "id": "21d32497-d470-4226-b89f-8f50ba6f6a56",
     "isComponent": false,
     "name": "",
     "parents": []
    },
    "tags": []
   },
   "source": [
    "### _4 clusters do not yield great results!_"
   ]
  },
  {
   "cell_type": "code",
   "execution_count": null,
   "id": "6689ee01-1056-4024-a452-d4080880d785",
   "metadata": {
    "canvas": {
     "comments": [],
     "componentType": "CodeCell",
     "copiedOriginId": null,
     "diskcache": false,
     "headerColor": "inherit",
     "id": "4e9f4eca-991e-4e01-84b8-abe2f63b442a",
     "isComponent": false,
     "name": "",
     "parents": []
    }
   },
   "outputs": [],
   "source": []
  },
  {
   "cell_type": "markdown",
   "id": "34f2ee5a-4d92-4d55-bc5e-8d9abba7cb40",
   "metadata": {
    "canvas": {
     "comments": [],
     "componentType": "CodeCell",
     "copiedOriginId": null,
     "diskcache": false,
     "headerColor": "inherit",
     "id": "54522059-1d13-4cce-abb0-aeaf25ffc631",
     "isComponent": false,
     "name": "",
     "parents": []
    }
   },
   "source": [
    "## Auto-generate lyrics using Keras module of Tensorflow"
   ]
  },
  {
   "cell_type": "code",
   "execution_count": null,
   "id": "f2645d82-9cb5-464a-a127-f76e602c8ab4",
   "metadata": {
    "canvas": {
     "comments": [],
     "componentType": "CodeCell",
     "copiedOriginId": null,
     "diskcache": false,
     "headerColor": "inherit",
     "id": "04a5aaea-1703-429e-aa24-34eb79de65c9",
     "isComponent": false,
     "name": "",
     "parents": []
    }
   },
   "outputs": [],
   "source": [
    "import tensorflow as tf\n",
    "from tensorflow.keras.preprocessing.text import Tokenizer\n",
    "from tensorflow.keras.preprocessing.sequence import pad_sequences\n",
    "from tensorflow.keras.layers import Embedding, LSTM, Dense, Bidirectional\n",
    "from tensorflow.keras.models import Sequential\n",
    "from tensorflow.keras.optimizers import Adam\n",
    "from nltk.corpus import stopwords\n",
    "from nltk.tokenize import word_tokenize\n",
    "import string"
   ]
  },
  {
   "cell_type": "code",
   "execution_count": null,
   "id": "5369a366-c70a-4df4-ab89-426e1994e8c1",
   "metadata": {
    "canvas": {
     "comments": [],
     "componentType": "CodeCell",
     "copiedOriginId": null,
     "diskcache": false,
     "headerColor": "inherit",
     "id": "c83689c3-ff67-44ba-97f4-3118ef75333f",
     "isComponent": false,
     "name": "",
     "parents": []
    },
    "tags": []
   },
   "outputs": [],
   "source": [
    "tokenizer = Tokenizer()\n",
    "\n",
    "lyrics_list = df['lyrics'].to_list()\n",
    "lyrics_data = \" \".join(map(str,lyrics_list))\n",
    "corpus = lyrics_data.lower().split('\\n')\n",
    "\n",
    "tokenizer.fit_on_texts(corpus)\n",
    "total_words = len(tokenizer.word_index) + 1\n",
    "\n",
    "print(tokenizer.word_index)\n",
    "print(total_words)"
   ]
  },
  {
   "cell_type": "code",
   "execution_count": null,
   "id": "2fb1811e-80e0-41d9-87d3-99af9af75fd5",
   "metadata": {
    "canvas": {
     "comments": [],
     "componentType": "CodeCell",
     "copiedOriginId": null,
     "diskcache": false,
     "headerColor": "inherit",
     "id": "ee6fed87-59f0-4490-af6b-a77154e150e2",
     "isComponent": false,
     "name": "",
     "parents": []
    }
   },
   "outputs": [],
   "source": [
    "input_sequences = []\n",
    "for line in corpus:\n",
    "    token_list = tokenizer.texts_to_sequences([line])[0]\n",
    "    for i in range(1, len(token_list)):\n",
    "        n_gram_sequence = token_list[: i+1]\n",
    "        input_sequences.append(n_gram_sequence)"
   ]
  },
  {
   "cell_type": "code",
   "execution_count": null,
   "id": "4e7a76ff-cc50-4abf-ba9f-7cb8c0ad7198",
   "metadata": {
    "canvas": {
     "comments": [],
     "componentType": "CodeCell",
     "copiedOriginId": null,
     "diskcache": false,
     "headerColor": "inherit",
     "id": "e6318e10-7db0-4551-aba9-e241152b8154",
     "isComponent": false,
     "name": "",
     "parents": []
    },
    "tags": []
   },
   "outputs": [],
   "source": [
    "n_gram_sequence\n",
    "input_sequences"
   ]
  },
  {
   "cell_type": "code",
   "execution_count": null,
   "id": "f28f26e9-be0e-4a35-956c-4f819cbcff90",
   "metadata": {
    "canvas": {
     "comments": [],
     "componentType": "CodeCell",
     "copiedOriginId": null,
     "diskcache": false,
     "headerColor": "inherit",
     "id": "0870146c-7414-49c3-af81-16deb4101784",
     "isComponent": false,
     "name": "",
     "parents": []
    }
   },
   "outputs": [],
   "source": [
    "max_sequence_len = max([len(x) for x in input_sequences])\n",
    "input_sequences_arr = np.array(pad_sequences(input_sequences, maxlen=max_sequence_len, padding='pre'))"
   ]
  },
  {
   "cell_type": "code",
   "execution_count": null,
   "id": "7d16711d-1b06-4060-a435-8a0a55275d8f",
   "metadata": {
    "canvas": {
     "comments": [],
     "componentType": "CodeCell",
     "copiedOriginId": null,
     "diskcache": false,
     "headerColor": "inherit",
     "id": "95b06d16-8479-4d2b-a187-59ddbc28a031",
     "isComponent": false,
     "name": "",
     "parents": []
    }
   },
   "outputs": [],
   "source": [
    "xs, labels = input_sequences_arr[:, :-1], input_sequences_arr[:,-1]\n",
    "ys = tf.keras.utils.to_categorical(labels, num_classes=total_words)"
   ]
  },
  {
   "cell_type": "code",
   "execution_count": null,
   "id": "e5981c5b-5a41-43cb-91b9-8556e539c9a5",
   "metadata": {
    "canvas": {
     "comments": [],
     "componentType": "CodeCell",
     "copiedOriginId": null,
     "diskcache": false,
     "headerColor": "inherit",
     "id": "605d7be8-ff37-426b-813b-f2484234fd04",
     "isComponent": false,
     "name": "",
     "parents": []
    }
   },
   "outputs": [],
   "source": [
    "model = Sequential()\n",
    "model.add(Embedding(total_words, 64, input_length = max_sequence_len-1))\n",
    "model.add(Bidirectional(LSTM(20)))\n",
    "model.add(Dense(total_words, activation='softmax'))\n",
    "model.compile(loss='categorical_crossentropy', metrics=['accuracy'])\n",
    "history = model.fit(xs, ys, epochs=500, verbose=1)"
   ]
  },
  {
   "cell_type": "code",
   "execution_count": null,
   "id": "1a6f92fa-03a5-4095-94e3-83eac39b818c",
   "metadata": {
    "canvas": {
     "comments": [],
     "componentType": "CodeCell",
     "copiedOriginId": null,
     "diskcache": false,
     "headerColor": "inherit",
     "id": "4cc271b2-0070-49bd-9e84-3b149702fbbc",
     "isComponent": false,
     "name": "",
     "parents": []
    }
   },
   "outputs": [],
   "source": [
    "def plot_graphs(history, string):\n",
    "    plt.plot(history.history[string])\n",
    "    plt.xlabel('Epochs')\n",
    "    plt.ylabel(string)\n",
    "    plt.show"
   ]
  },
  {
   "cell_type": "code",
   "execution_count": null,
   "id": "9270db76-d7d4-4608-84e1-33c1dac305b7",
   "metadata": {
    "canvas": {
     "comments": [],
     "componentType": "CodeCell",
     "copiedOriginId": null,
     "diskcache": false,
     "headerColor": "inherit",
     "id": "142e898a-f3d4-4ab9-808b-06d340ed790d",
     "isComponent": false,
     "name": "",
     "parents": []
    }
   },
   "outputs": [],
   "source": [
    "plot_graphs(history, 'accuracy');"
   ]
  },
  {
   "cell_type": "code",
   "execution_count": null,
   "id": "3fe7439c-f217-4387-bc99-457ed814f5f6",
   "metadata": {
    "canvas": {
     "comments": [],
     "componentType": "CodeCell",
     "copiedOriginId": null,
     "diskcache": false,
     "headerColor": "inherit",
     "id": "e751e596-4479-44e3-8ccd-e9fc321c7854",
     "isComponent": false,
     "name": "",
     "parents": []
    }
   },
   "outputs": [],
   "source": [
    "seed_text = 'I miss you so much'\n",
    "next_words = 100\n",
    "\n",
    "for _ in range(next_words):\n",
    "    token_list = tokenizer.texts_to_sequences([seed_text])[0]\n",
    "    token_list = pad_sequences([token_list], maxlen = max_sequence_len-1, padding='pre')\n",
    "    predicted = model.predict_classes(token_list, verbose=0)\n",
    "    output_word = ''\n",
    "    for word, index in tokenizer.word_index.items():\n",
    "        if index == predicted:\n",
    "            output_word = word\n",
    "            break\n",
    "    seed_text += ' ' + output_word\n",
    "\n",
    "print(seed_text)"
   ]
  },
  {
   "cell_type": "code",
   "execution_count": null,
   "id": "55ec1a84-1c92-49c4-90d9-eb391c1411e4",
   "metadata": {
    "canvas": {
     "comments": [],
     "componentType": "CodeCell",
     "copiedOriginId": null,
     "diskcache": false,
     "headerColor": "inherit",
     "id": "dec838e3-1fee-45bd-b64f-1209d7ce93e1",
     "isComponent": false,
     "name": "",
     "parents": []
    }
   },
   "outputs": [],
   "source": []
  },
  {
   "cell_type": "markdown",
   "id": "1d5cff1b-092f-4abd-9813-3f01add92046",
   "metadata": {
    "canvas": {
     "comments": [],
     "componentType": "CodeCell",
     "copiedOriginId": null,
     "diskcache": false,
     "headerColor": "inherit",
     "id": "da5cbd5d-c9ea-413d-b29c-67d2fa77c9db",
     "isComponent": false,
     "name": "",
     "parents": []
    }
   },
   "source": []
  },
  {
   "cell_type": "code",
   "execution_count": null,
   "id": "31c10adf-054a-48b7-bd3e-b63db4cf5606",
   "metadata": {
    "canvas": {
     "comments": [],
     "componentType": "CodeCell",
     "copiedOriginId": null,
     "diskcache": false,
     "headerColor": "inherit",
     "id": "721b3a61-94ec-46ea-ba6e-5ca4b9ba2261",
     "isComponent": false,
     "name": "",
     "parents": []
    }
   },
   "outputs": [],
   "source": []
  },
  {
   "cell_type": "markdown",
   "id": "7326648b-d959-4ffb-97b2-742d4a96c379",
   "metadata": {
    "canvas": {
     "comments": [],
     "componentType": "CodeCell",
     "copiedOriginId": null,
     "diskcache": false,
     "headerColor": "inherit",
     "id": "21313641-644a-4a66-92a8-e58d1226eb0e",
     "isComponent": false,
     "name": "",
     "parents": []
    }
   },
   "source": [
    "# *References*"
   ]
  },
  {
   "cell_type": "markdown",
   "id": "38e94e88-6269-4e3c-afc1-bcd5302201c5",
   "metadata": {
    "canvas": {
     "comments": [],
     "componentType": "CodeCell",
     "copiedOriginId": null,
     "diskcache": false,
     "headerColor": "inherit",
     "id": "1d347157-7c3a-4a2f-9559-923fc9b7f597",
     "isComponent": false,
     "name": "",
     "parents": []
    },
    "tags": []
   },
   "source": [
    "https://stackoverflow.com/"
   ]
  },
  {
   "cell_type": "markdown",
   "id": "86749fa6-1735-4bd4-9e0f-0f0ef440a292",
   "metadata": {
    "canvas": {
     "comments": [],
     "componentType": "CodeCell",
     "copiedOriginId": null,
     "diskcache": false,
     "headerColor": "inherit",
     "id": "8857b8b3-4cfa-4c76-af64-f7d8ad13d825",
     "isComponent": false,
     "name": "",
     "parents": []
    }
   },
   "source": [
    "https://developer.spotify.com/documentation/web-api/reference/#/operations/get-several-audio-features"
   ]
  },
  {
   "cell_type": "markdown",
   "id": "f8df7c9c-dd34-475f-bc59-379ca735c423",
   "metadata": {
    "canvas": {
     "comments": [],
     "componentType": "CodeCell",
     "copiedOriginId": null,
     "diskcache": false,
     "headerColor": "inherit",
     "id": "f8e4e4bf-fd5a-4bbb-add4-fec72b8dcb00",
     "isComponent": false,
     "name": "",
     "parents": []
    }
   },
   "source": [
    "https://openclassrooms.com/en/courses/5869986-perform-an-exploratory-data-analysis/6177861-analyze-the-results-of-a-k-means-clustering"
   ]
  },
  {
   "cell_type": "markdown",
   "id": "384a4488-2f74-4530-abff-9a09a75b1173",
   "metadata": {
    "canvas": {
     "comments": [],
     "componentType": "CodeCell",
     "copiedOriginId": null,
     "diskcache": false,
     "headerColor": "inherit",
     "id": "f2f00204-1449-446e-9c7b-b15a70eab96e",
     "isComponent": false,
     "name": "",
     "parents": []
    }
   },
   "source": [
    "https://openclassrooms.com/en/courses/5869986-perform-an-exploratory-data-analysis/6177861-analyze-the-results-of-a-k-means-clustering"
   ]
  },
  {
   "cell_type": "markdown",
   "id": "701d610c-00ab-46a0-a102-13370c9ecb3d",
   "metadata": {
    "canvas": {
     "comments": [],
     "componentType": "CodeCell",
     "copiedOriginId": null,
     "diskcache": false,
     "headerColor": "inherit",
     "id": "2677173e-60cc-469a-9da5-6d8754040568",
     "isComponent": false,
     "name": "",
     "parents": []
    }
   },
   "source": [
    "https://towardsdatascience.com/spotify-genre-classification-algorithm-88051db23d42"
   ]
  },
  {
   "cell_type": "code",
   "execution_count": null,
   "id": "21a2dc57-ade5-4bae-a431-bba5cb102aef",
   "metadata": {
    "canvas": {
     "comments": [],
     "componentType": "CodeCell",
     "copiedOriginId": null,
     "diskcache": false,
     "headerColor": "inherit",
     "id": "402846a2-8713-437f-b2cf-33dc47694a16",
     "isComponent": false,
     "name": "",
     "parents": []
    }
   },
   "outputs": [],
   "source": []
  },
  {
   "cell_type": "code",
   "execution_count": null,
   "id": "efccfaa0-f57e-40f6-99c4-9d60f4f9cc7c",
   "metadata": {
    "canvas": {
     "comments": [],
     "componentType": "CodeCell",
     "copiedOriginId": null,
     "diskcache": false,
     "headerColor": "inherit",
     "id": "357d84a3-daa2-4a83-91ec-6439ba5775d7",
     "isComponent": false,
     "name": "",
     "parents": []
    }
   },
   "outputs": [],
   "source": []
  }
 ],
 "metadata": {
  "canvas": {
   "colorPalette": [
    "inherit",
    "inherit",
    "inherit",
    "inherit",
    "inherit",
    "inherit",
    "inherit",
    "inherit",
    "inherit",
    "inherit"
   ],
   "parameters": [],
   "version": "1.0"
  },
  "kernelspec": {
   "display_name": "Python 3 (ipykernel)",
   "language": "python",
   "name": "python3"
  },
  "language_info": {
   "codemirror_mode": {
    "name": "ipython",
    "version": 3
   },
   "file_extension": ".py",
   "mimetype": "text/x-python",
   "name": "python",
   "nbconvert_exporter": "python",
   "pygments_lexer": "ipython3",
   "version": "3.9.12"
  },
  "vscode": {
   "interpreter": {
    "hash": "3060fcc539b54be53ee777ac782d248ae4552ea8c22520a78d66901157210319"
   }
  }
 },
 "nbformat": 4,
 "nbformat_minor": 5
}
